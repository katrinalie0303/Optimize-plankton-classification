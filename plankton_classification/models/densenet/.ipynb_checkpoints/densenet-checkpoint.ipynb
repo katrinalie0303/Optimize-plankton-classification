{
 "cells": [
  {
   "cell_type": "code",
   "execution_count": 1,
   "id": "34e2b032",
   "metadata": {},
   "outputs": [
    {
     "name": "stderr",
     "output_type": "stream",
     "text": [
      "2024-05-12 22:20:05.100027: E tensorflow/compiler/xla/stream_executor/cuda/cuda_dnn.cc:9360] Unable to register cuDNN factory: Attempting to register factory for plugin cuDNN when one has already been registered\n",
      "2024-05-12 22:20:05.100075: E tensorflow/compiler/xla/stream_executor/cuda/cuda_fft.cc:609] Unable to register cuFFT factory: Attempting to register factory for plugin cuFFT when one has already been registered\n",
      "2024-05-12 22:20:05.100115: E tensorflow/compiler/xla/stream_executor/cuda/cuda_blas.cc:1537] Unable to register cuBLAS factory: Attempting to register factory for plugin cuBLAS when one has already been registered\n",
      "2024-05-12 22:20:05.111234: I tensorflow/core/platform/cpu_feature_guard.cc:183] This TensorFlow binary is optimized to use available CPU instructions in performance-critical operations.\n",
      "To enable the following instructions: SSE3 SSE4.1 SSE4.2 AVX, in other operations, rebuild TensorFlow with the appropriate compiler flags.\n"
     ]
    }
   ],
   "source": [
    "import tensorflow as tf\n",
    "from tensorflow import keras\n",
    "import os\n",
    "from densenet_models import create_densenet121_model, create_densenet169_model, create_densenet201_model, create_densenet169_model_opt\n",
    "import wandb\n",
    "from wandb.keras import WandbCallback"
   ]
  },
  {
   "cell_type": "code",
   "execution_count": 17,
   "id": "7d33139f-e737-4f7b-9e2c-87f816d64183",
   "metadata": {},
   "outputs": [
    {
     "name": "stderr",
     "output_type": "stream",
     "text": [
      "\u001b[34m\u001b[1mwandb\u001b[0m: \u001b[33mWARNING\u001b[0m If you're specifying your api key in code, ensure this code is not shared publicly.\n",
      "\u001b[34m\u001b[1mwandb\u001b[0m: \u001b[33mWARNING\u001b[0m Consider setting the WANDB_API_KEY environment variable, or running `wandb login` from the command line.\n",
      "\u001b[34m\u001b[1mwandb\u001b[0m: Appending key for api.wandb.ai to your netrc file: /home/katril18/.netrc\n"
     ]
    },
    {
     "data": {
      "text/plain": [
       "True"
      ]
     },
     "execution_count": 17,
     "metadata": {},
     "output_type": "execute_result"
    }
   ],
   "source": [
    "wandb.login(key=\"0f45347e0cafc15c3aafb216ff27852b72c63c56\")\n"
   ]
  },
  {
   "cell_type": "code",
   "execution_count": 18,
   "id": "21aab48f-8ff6-42e1-b646-c7bd3510aa0e",
   "metadata": {},
   "outputs": [
    {
     "name": "stderr",
     "output_type": "stream",
     "text": [
      "\u001b[34m\u001b[1mwandb\u001b[0m: Currently logged in as: \u001b[33mkatrinalie\u001b[0m (\u001b[33mkatrinamaster\u001b[0m). Use \u001b[1m`wandb login --relogin`\u001b[0m to force relogin\n"
     ]
    },
    {
     "data": {
      "text/html": [
       "Tracking run with wandb version 0.16.6"
      ],
      "text/plain": [
       "<IPython.core.display.HTML object>"
      ]
     },
     "metadata": {},
     "output_type": "display_data"
    },
    {
     "data": {
      "text/html": [
       "Run data is saved locally in <code>/home/katril18/DOC_prev_code/plankton_classification/models/densenet/wandb/run-20240423_174326-znn653jy</code>"
      ],
      "text/plain": [
       "<IPython.core.display.HTML object>"
      ]
     },
     "metadata": {},
     "output_type": "display_data"
    },
    {
     "data": {
      "text/html": [
       "Syncing run <strong><a href='https://wandb.ai/katrinamaster/katrmaster/runs/znn653jy' target=\"_blank\">bright-serenity-1</a></strong> to <a href='https://wandb.ai/katrinamaster/katrmaster' target=\"_blank\">Weights & Biases</a> (<a href='https://wandb.me/run' target=\"_blank\">docs</a>)<br/>"
      ],
      "text/plain": [
       "<IPython.core.display.HTML object>"
      ]
     },
     "metadata": {},
     "output_type": "display_data"
    },
    {
     "data": {
      "text/html": [
       " View project at <a href='https://wandb.ai/katrinamaster/katrmaster' target=\"_blank\">https://wandb.ai/katrinamaster/katrmaster</a>"
      ],
      "text/plain": [
       "<IPython.core.display.HTML object>"
      ]
     },
     "metadata": {},
     "output_type": "display_data"
    },
    {
     "data": {
      "text/html": [
       " View run at <a href='https://wandb.ai/katrinamaster/katrmaster/runs/znn653jy' target=\"_blank\">https://wandb.ai/katrinamaster/katrmaster/runs/znn653jy</a>"
      ],
      "text/plain": [
       "<IPython.core.display.HTML object>"
      ]
     },
     "metadata": {},
     "output_type": "display_data"
    },
    {
     "data": {
      "text/html": [
       "<button onClick=\"this.nextSibling.style.display='block';this.style.display='none';\">Display W&B run</button><iframe src='https://wandb.ai/katrinamaster/katrmaster/runs/znn653jy?jupyter=true' style='border:none;width:100%;height:420px;display:none;'></iframe>"
      ],
      "text/plain": [
       "<wandb.sdk.wandb_run.Run at 0x7f65c30824a0>"
      ]
     },
     "execution_count": 18,
     "metadata": {},
     "output_type": "execute_result"
    }
   ],
   "source": [
    "wandb.init(project=\"katrmaster\")"
   ]
  },
  {
   "cell_type": "code",
   "execution_count": 2,
   "id": "20026c9f",
   "metadata": {
    "scrolled": true
   },
   "outputs": [
    {
     "name": "stdout",
     "output_type": "stream",
     "text": [
      "Found 948586 files belonging to 70 classes.\n"
     ]
    },
    {
     "name": "stderr",
     "output_type": "stream",
     "text": [
      "2024-05-11 23:15:24.737718: I tensorflow/core/common_runtime/gpu/gpu_device.cc:1883] Created device /job:localhost/replica:0/task:0/device:GPU:0 with 31125 MB memory:  -> device: 0, name: Tesla V100-SXM3-32GB, pci bus id: 0000:5c:00.0, compute capability: 7.0\n"
     ]
    },
    {
     "name": "stdout",
     "output_type": "stream",
     "text": [
      "Found 118547 files belonging to 70 classes.\n"
     ]
    }
   ],
   "source": [
    "train_ds = keras.utils.image_dataset_from_directory(\n",
    "    directory=\"../../dataset/global/train\",\n",
    "    labels='inferred',\n",
    "    label_mode='categorical',\n",
    "    shuffle=True,\n",
    "    batch_size=128,\n",
    "    image_size=(224, 224)\n",
    "    )\n",
    "val_ds = keras.utils.image_dataset_from_directory(\n",
    "    directory=\"../../dataset/global/val\",\n",
    "    labels='inferred',\n",
    "    label_mode='categorical',\n",
    "    shuffle=True,\n",
    "    batch_size=128,\n",
    "    image_size=(224, 224)\n",
    "    )"
   ]
  },
  {
   "cell_type": "code",
   "execution_count": 2,
   "id": "d66763b1-c1d2-4c25-a9d8-d05beff9346d",
   "metadata": {
    "scrolled": true
   },
   "outputs": [
    {
     "name": "stdout",
     "output_type": "stream",
     "text": [
      "Found 430968 files belonging to 12 classes.\n"
     ]
    },
    {
     "name": "stderr",
     "output_type": "stream",
     "text": [
      "2024-05-12 22:20:42.408323: I tensorflow/core/common_runtime/gpu/gpu_device.cc:1883] Created device /job:localhost/replica:0/task:0/device:GPU:0 with 31125 MB memory:  -> device: 0, name: Tesla V100-SXM3-32GB, pci bus id: 0000:5c:00.0, compute capability: 7.0\n"
     ]
    },
    {
     "name": "stdout",
     "output_type": "stream",
     "text": [
      "Found 37219 files belonging to 12 classes.\n"
     ]
    }
   ],
   "source": [
    "train_ds = keras.utils.image_dataset_from_directory(\n",
    "    directory=\"../../../organized_dataset_v7/dataset/train\",\n",
    "    labels='inferred',\n",
    "    label_mode='categorical',\n",
    "    shuffle=True,\n",
    "    batch_size=64,\n",
    "    image_size=(224, 224)\n",
    "    )\n",
    "val_ds = keras.utils.image_dataset_from_directory(\n",
    "    directory=\"../../../organized_dataset_v7/dataset/val\",\n",
    "    labels='inferred',\n",
    "    label_mode='categorical',\n",
    "    shuffle=True,\n",
    "    batch_size=64,\n",
    "    image_size=(224, 224)\n",
    "    )"
   ]
  },
  {
   "cell_type": "code",
   "execution_count": 25,
   "id": "35977811-660b-456c-a76c-a358b3a17262",
   "metadata": {},
   "outputs": [
    {
     "name": "stdout",
     "output_type": "stream",
     "text": [
      "densenet_fine_tuning.ipynb  densenet_models.py  \u001b[0m\u001b[01;34mwandb\u001b[0m/\n",
      "densenet.ipynb              \u001b[01;34m__pycache__\u001b[0m/\n"
     ]
    }
   ],
   "source": [
    "ls"
   ]
  },
  {
   "cell_type": "markdown",
   "id": "918e5e34",
   "metadata": {},
   "source": [
    "# DenseNet169"
   ]
  },
  {
   "cell_type": "code",
   "execution_count": null,
   "id": "1a74cb03",
   "metadata": {},
   "outputs": [
    {
     "data": {
      "text/html": [
       "Tracking run with wandb version 0.16.6"
      ],
      "text/plain": [
       "<IPython.core.display.HTML object>"
      ]
     },
     "metadata": {},
     "output_type": "display_data"
    },
    {
     "data": {
      "text/html": [
       "Run data is saved locally in <code>/home/katril18/DOC_prev_code/plankton_classification/models/densenet/wandb/run-20240426_092805-4ut6sxev</code>"
      ],
      "text/plain": [
       "<IPython.core.display.HTML object>"
      ]
     },
     "metadata": {},
     "output_type": "display_data"
    },
    {
     "data": {
      "text/html": [
       "Syncing run <strong><a href='https://wandb.ai/katrinamaster/DenseNet/runs/4ut6sxev' target=\"_blank\">neat-puddle-5</a></strong> to <a href='https://wandb.ai/katrinamaster/DenseNet' target=\"_blank\">Weights & Biases</a> (<a href='https://wandb.me/run' target=\"_blank\">docs</a>)<br/>"
      ],
      "text/plain": [
       "<IPython.core.display.HTML object>"
      ]
     },
     "metadata": {},
     "output_type": "display_data"
    },
    {
     "data": {
      "text/html": [
       " View project at <a href='https://wandb.ai/katrinamaster/DenseNet' target=\"_blank\">https://wandb.ai/katrinamaster/DenseNet</a>"
      ],
      "text/plain": [
       "<IPython.core.display.HTML object>"
      ]
     },
     "metadata": {},
     "output_type": "display_data"
    },
    {
     "data": {
      "text/html": [
       " View run at <a href='https://wandb.ai/katrinamaster/DenseNet/runs/4ut6sxev' target=\"_blank\">https://wandb.ai/katrinamaster/DenseNet/runs/4ut6sxev</a>"
      ],
      "text/plain": [
       "<IPython.core.display.HTML object>"
      ]
     },
     "metadata": {},
     "output_type": "display_data"
    }
   ],
   "source": [
    "# initialize wandb\n",
    "wandb.init(project=\"DenseNet\", config={\"learning_rate\": 0.001, \"epochs\": 40, \"verbose\": 1,\"name\": \"DenseNet169\", \"architecture\": \"DenseNet169\"})\n",
    "\n",
    "# configs\n",
    "cfg = wandb.config\n",
    "\n",
    "# create the model\n",
    "model = create_densenet169_model(len(train_ds.class_names))"
   ]
  },
  {
   "cell_type": "code",
   "execution_count": 4,
   "id": "1b9cc928",
   "metadata": {},
   "outputs": [
    {
     "name": "stderr",
     "output_type": "stream",
     "text": [
      "\u001b[34m\u001b[1mwandb\u001b[0m: \u001b[33mWARNING\u001b[0m The save_model argument by default saves the model in the HDF5 format that cannot save custom objects like subclassed models and custom layers. This behavior will be deprecated in a future release in favor of the SavedModel format. Meanwhile, the HDF5 model is saved as W&B files and the SavedModel as W&B Artifacts.\n"
     ]
    }
   ],
   "source": [
    "# list of callbacks\n",
    "callbacks = [\n",
    "            WandbCallback(mode=\"min\", monitor=\"val_loss\", save_graph=True),\n",
    "            tf.keras.callbacks.ReduceLROnPlateau(monitor='val_loss', factor=0.1,\n",
    "                              patience=3, min_lr=0.00001),\n",
    "            tf.keras.callbacks.EarlyStopping(monitor='val_loss', patience=5),\n",
    "          ]"
   ]
  },
  {
   "cell_type": "code",
   "execution_count": null,
   "id": "e74be625",
   "metadata": {
    "scrolled": true
   },
   "outputs": [],
   "source": [
    "model.fit(train_ds, epochs=cfg.epochs, batch_size=32, verbose=cfg.verbose, validation_data=val_ds, callbacks=callbacks) # train the model"
   ]
  },
  {
   "cell_type": "code",
   "execution_count": 8,
   "id": "194c18ae",
   "metadata": {},
   "outputs": [
    {
     "data": {
      "text/html": [
       " View run <strong style=\"color:#cdcd00\">frosty-armadillo-4</strong> at: <a href='https://wandb.ai/katrinamaster/DenseNet/runs/taarw0cs' target=\"_blank\">https://wandb.ai/katrinamaster/DenseNet/runs/taarw0cs</a><br/> View project at: <a href='https://wandb.ai/katrinamaster/DenseNet' target=\"_blank\">https://wandb.ai/katrinamaster/DenseNet</a><br/>Synced 5 W&B file(s), 0 media file(s), 0 artifact file(s) and 0 other file(s)"
      ],
      "text/plain": [
       "<IPython.core.display.HTML object>"
      ]
     },
     "metadata": {},
     "output_type": "display_data"
    },
    {
     "data": {
      "text/html": [
       "Find logs at: <code>./wandb/run-20240425_221157-taarw0cs/logs</code>"
      ],
      "text/plain": [
       "<IPython.core.display.HTML object>"
      ]
     },
     "metadata": {},
     "output_type": "display_data"
    }
   ],
   "source": [
    "wandb.finish()"
   ]
  },
  {
   "cell_type": "markdown",
   "id": "cea3041e-abbb-45dd-ad22-afb85db8cd17",
   "metadata": {},
   "source": [
    "## DenseNet169 Optimized"
   ]
  },
  {
   "cell_type": "code",
   "execution_count": 3,
   "id": "70993596-58be-4e9c-a70f-90f2a4cd95f8",
   "metadata": {
    "scrolled": true
   },
   "outputs": [
    {
     "name": "stderr",
     "output_type": "stream",
     "text": [
      "\u001b[34m\u001b[1mwandb\u001b[0m: Currently logged in as: \u001b[33mkatrinalie\u001b[0m (\u001b[33mkatrinamaster\u001b[0m). Use \u001b[1m`wandb login --relogin`\u001b[0m to force relogin\n"
     ]
    },
    {
     "data": {
      "text/html": [
       "wandb version 0.17.0 is available!  To upgrade, please run:\n",
       " $ pip install wandb --upgrade"
      ],
      "text/plain": [
       "<IPython.core.display.HTML object>"
      ]
     },
     "metadata": {},
     "output_type": "display_data"
    },
    {
     "data": {
      "text/html": [
       "Tracking run with wandb version 0.16.6"
      ],
      "text/plain": [
       "<IPython.core.display.HTML object>"
      ]
     },
     "metadata": {},
     "output_type": "display_data"
    },
    {
     "data": {
      "text/html": [
       "Run data is saved locally in <code>/home/katril18/DOC_prev_code/plankton_classification/models/densenet/wandb/run-20240512_222055-3v85ee3r</code>"
      ],
      "text/plain": [
       "<IPython.core.display.HTML object>"
      ]
     },
     "metadata": {},
     "output_type": "display_data"
    },
    {
     "data": {
      "text/html": [
       "Syncing run <strong><a href='https://wandb.ai/katrinamaster/DenseNet/runs/3v85ee3r' target=\"_blank\">woven-firefly-19</a></strong> to <a href='https://wandb.ai/katrinamaster/DenseNet' target=\"_blank\">Weights & Biases</a> (<a href='https://wandb.me/run' target=\"_blank\">docs</a>)<br/>"
      ],
      "text/plain": [
       "<IPython.core.display.HTML object>"
      ]
     },
     "metadata": {},
     "output_type": "display_data"
    },
    {
     "data": {
      "text/html": [
       " View project at <a href='https://wandb.ai/katrinamaster/DenseNet' target=\"_blank\">https://wandb.ai/katrinamaster/DenseNet</a>"
      ],
      "text/plain": [
       "<IPython.core.display.HTML object>"
      ]
     },
     "metadata": {},
     "output_type": "display_data"
    },
    {
     "data": {
      "text/html": [
       " View run at <a href='https://wandb.ai/katrinamaster/DenseNet/runs/3v85ee3r' target=\"_blank\">https://wandb.ai/katrinamaster/DenseNet/runs/3v85ee3r</a>"
      ],
      "text/plain": [
       "<IPython.core.display.HTML object>"
      ]
     },
     "metadata": {},
     "output_type": "display_data"
    }
   ],
   "source": [
    "# initialize wandb\n",
    "wandb.init(project=\"DenseNet\", config={\"learning_rate\": 0.001, \"epochs\": 35, \"verbose\": 1,\"name\": \"DenseNet169Opt\", \"architecture\": \"DenseNet169Opt\"})\n",
    "\n",
    "# configs\n",
    "cfg = wandb.config\n",
    "\n",
    "# create the model\n",
    "model = create_densenet169_model_opt(len(train_ds.class_names))"
   ]
  },
  {
   "cell_type": "code",
   "execution_count": 5,
   "id": "8f67e210-2390-4d9a-810f-78ea9927876b",
   "metadata": {},
   "outputs": [
    {
     "name": "stdout",
     "output_type": "stream",
     "text": [
      "Epoch 1/35\n"
     ]
    },
    {
     "name": "stderr",
     "output_type": "stream",
     "text": [
      "2024-05-12 22:21:29.508819: I tensorflow/compiler/xla/stream_executor/cuda/cuda_dnn.cc:442] Loaded cuDNN version 8907\n",
      "2024-05-12 22:21:32.404794: I tensorflow/compiler/xla/service/service.cc:168] XLA service 0x55692d4a7720 initialized for platform CUDA (this does not guarantee that XLA will be used). Devices:\n",
      "2024-05-12 22:21:32.404830: I tensorflow/compiler/xla/service/service.cc:176]   StreamExecutor device (0): Tesla V100-SXM3-32GB, Compute Capability 7.0\n",
      "2024-05-12 22:21:32.411393: I tensorflow/compiler/mlir/tensorflow/utils/dump_mlir_util.cc:269] disabling MLIR crash reproducer, set env var `MLIR_CRASH_REPRODUCER_DIRECTORY` to enable.\n",
      "2024-05-12 22:21:32.522267: I ./tensorflow/compiler/jit/device_compiler.h:186] Compiled cluster using XLA!  This line is logged at most once for the lifetime of the process.\n"
     ]
    },
    {
     "name": "stdout",
     "output_type": "stream",
     "text": [
      "6734/6734 [==============================] - ETA: 0s - loss: 0.8114 - accuracy: 0.7250INFO:tensorflow:Assets written to: /home/katril18/DOC_prev_code/plankton_classification/models/densenet/wandb/run-20240512_222055-3v85ee3r/files/model-best/assets\n"
     ]
    },
    {
     "name": "stderr",
     "output_type": "stream",
     "text": [
      "INFO:tensorflow:Assets written to: /home/katril18/DOC_prev_code/plankton_classification/models/densenet/wandb/run-20240512_222055-3v85ee3r/files/model-best/assets\n",
      "\u001b[34m\u001b[1mwandb\u001b[0m: Adding directory to artifact (/home/katril18/DOC_prev_code/plankton_classification/models/densenet/wandb/run-20240512_222055-3v85ee3r/files/model-best)... Done. 0.3s\n"
     ]
    },
    {
     "name": "stdout",
     "output_type": "stream",
     "text": [
      "6734/6734 [==============================] - 749s 109ms/step - loss: 0.8114 - accuracy: 0.7250 - val_loss: 0.3609 - val_accuracy: 0.8793 - lr: 0.0010\n",
      "Epoch 2/35\n",
      "6734/6734 [==============================] - ETA: 0s - loss: 0.6204 - accuracy: 0.7895INFO:tensorflow:Assets written to: /home/katril18/DOC_prev_code/plankton_classification/models/densenet/wandb/run-20240512_222055-3v85ee3r/files/model-best/assets\n"
     ]
    },
    {
     "name": "stderr",
     "output_type": "stream",
     "text": [
      "INFO:tensorflow:Assets written to: /home/katril18/DOC_prev_code/plankton_classification/models/densenet/wandb/run-20240512_222055-3v85ee3r/files/model-best/assets\n",
      "\u001b[34m\u001b[1mwandb\u001b[0m: Adding directory to artifact (/home/katril18/DOC_prev_code/plankton_classification/models/densenet/wandb/run-20240512_222055-3v85ee3r/files/model-best)... Done. 0.2s\n"
     ]
    },
    {
     "name": "stdout",
     "output_type": "stream",
     "text": [
      "6734/6734 [==============================] - 716s 106ms/step - loss: 0.6204 - accuracy: 0.7895 - val_loss: 0.3050 - val_accuracy: 0.8991 - lr: 0.0010\n",
      "Epoch 3/35\n",
      "6734/6734 [==============================] - ETA: 0s - loss: 0.5577 - accuracy: 0.8110INFO:tensorflow:Assets written to: /home/katril18/DOC_prev_code/plankton_classification/models/densenet/wandb/run-20240512_222055-3v85ee3r/files/model-best/assets\n"
     ]
    },
    {
     "name": "stderr",
     "output_type": "stream",
     "text": [
      "INFO:tensorflow:Assets written to: /home/katril18/DOC_prev_code/plankton_classification/models/densenet/wandb/run-20240512_222055-3v85ee3r/files/model-best/assets\n",
      "\u001b[34m\u001b[1mwandb\u001b[0m: Adding directory to artifact (/home/katril18/DOC_prev_code/plankton_classification/models/densenet/wandb/run-20240512_222055-3v85ee3r/files/model-best)... Done. 0.2s\n"
     ]
    },
    {
     "name": "stdout",
     "output_type": "stream",
     "text": [
      "6734/6734 [==============================] - 715s 106ms/step - loss: 0.5577 - accuracy: 0.8110 - val_loss: 0.2917 - val_accuracy: 0.9018 - lr: 0.0010\n",
      "Epoch 4/35\n",
      "6734/6734 [==============================] - ETA: 0s - loss: 0.5172 - accuracy: 0.8245INFO:tensorflow:Assets written to: /home/katril18/DOC_prev_code/plankton_classification/models/densenet/wandb/run-20240512_222055-3v85ee3r/files/model-best/assets\n"
     ]
    },
    {
     "name": "stderr",
     "output_type": "stream",
     "text": [
      "INFO:tensorflow:Assets written to: /home/katril18/DOC_prev_code/plankton_classification/models/densenet/wandb/run-20240512_222055-3v85ee3r/files/model-best/assets\n",
      "\u001b[34m\u001b[1mwandb\u001b[0m: Adding directory to artifact (/home/katril18/DOC_prev_code/plankton_classification/models/densenet/wandb/run-20240512_222055-3v85ee3r/files/model-best)... Done. 0.3s\n"
     ]
    },
    {
     "name": "stdout",
     "output_type": "stream",
     "text": [
      "6734/6734 [==============================] - 715s 106ms/step - loss: 0.5172 - accuracy: 0.8245 - val_loss: 0.2673 - val_accuracy: 0.9103 - lr: 0.0010\n",
      "Epoch 5/35\n",
      "6734/6734 [==============================] - ETA: 0s - loss: 0.4890 - accuracy: 0.8337INFO:tensorflow:Assets written to: /home/katril18/DOC_prev_code/plankton_classification/models/densenet/wandb/run-20240512_222055-3v85ee3r/files/model-best/assets\n"
     ]
    },
    {
     "name": "stderr",
     "output_type": "stream",
     "text": [
      "INFO:tensorflow:Assets written to: /home/katril18/DOC_prev_code/plankton_classification/models/densenet/wandb/run-20240512_222055-3v85ee3r/files/model-best/assets\n",
      "\u001b[34m\u001b[1mwandb\u001b[0m: Adding directory to artifact (/home/katril18/DOC_prev_code/plankton_classification/models/densenet/wandb/run-20240512_222055-3v85ee3r/files/model-best)... Done. 0.2s\n"
     ]
    },
    {
     "name": "stdout",
     "output_type": "stream",
     "text": [
      "6734/6734 [==============================] - 718s 107ms/step - loss: 0.4890 - accuracy: 0.8337 - val_loss: 0.2583 - val_accuracy: 0.9133 - lr: 0.0010\n",
      "Epoch 6/35\n",
      "6734/6734 [==============================] - ETA: 0s - loss: 0.4672 - accuracy: 0.8408INFO:tensorflow:Assets written to: /home/katril18/DOC_prev_code/plankton_classification/models/densenet/wandb/run-20240512_222055-3v85ee3r/files/model-best/assets\n"
     ]
    },
    {
     "name": "stderr",
     "output_type": "stream",
     "text": [
      "INFO:tensorflow:Assets written to: /home/katril18/DOC_prev_code/plankton_classification/models/densenet/wandb/run-20240512_222055-3v85ee3r/files/model-best/assets\n",
      "\u001b[34m\u001b[1mwandb\u001b[0m: Adding directory to artifact (/home/katril18/DOC_prev_code/plankton_classification/models/densenet/wandb/run-20240512_222055-3v85ee3r/files/model-best)... Done. 0.3s\n"
     ]
    },
    {
     "name": "stdout",
     "output_type": "stream",
     "text": [
      "6734/6734 [==============================] - 715s 106ms/step - loss: 0.4672 - accuracy: 0.8408 - val_loss: 0.2404 - val_accuracy: 0.9208 - lr: 0.0010\n",
      "Epoch 7/35\n",
      "6734/6734 [==============================] - 676s 100ms/step - loss: 0.4502 - accuracy: 0.8466 - val_loss: 0.2433 - val_accuracy: 0.9197 - lr: 0.0010\n",
      "Epoch 8/35\n",
      "6734/6734 [==============================] - ETA: 0s - loss: 0.4356 - accuracy: 0.8516INFO:tensorflow:Assets written to: /home/katril18/DOC_prev_code/plankton_classification/models/densenet/wandb/run-20240512_222055-3v85ee3r/files/model-best/assets\n"
     ]
    },
    {
     "name": "stderr",
     "output_type": "stream",
     "text": [
      "INFO:tensorflow:Assets written to: /home/katril18/DOC_prev_code/plankton_classification/models/densenet/wandb/run-20240512_222055-3v85ee3r/files/model-best/assets\n",
      "\u001b[34m\u001b[1mwandb\u001b[0m: Adding directory to artifact (/home/katril18/DOC_prev_code/plankton_classification/models/densenet/wandb/run-20240512_222055-3v85ee3r/files/model-best)... Done. 0.3s\n"
     ]
    },
    {
     "name": "stdout",
     "output_type": "stream",
     "text": [
      "6734/6734 [==============================] - 717s 106ms/step - loss: 0.4356 - accuracy: 0.8516 - val_loss: 0.2305 - val_accuracy: 0.9247 - lr: 0.0010\n",
      "Epoch 9/35\n",
      "6734/6734 [==============================] - ETA: 0s - loss: 0.4209 - accuracy: 0.8562INFO:tensorflow:Assets written to: /home/katril18/DOC_prev_code/plankton_classification/models/densenet/wandb/run-20240512_222055-3v85ee3r/files/model-best/assets\n"
     ]
    },
    {
     "name": "stderr",
     "output_type": "stream",
     "text": [
      "INFO:tensorflow:Assets written to: /home/katril18/DOC_prev_code/plankton_classification/models/densenet/wandb/run-20240512_222055-3v85ee3r/files/model-best/assets\n",
      "\u001b[34m\u001b[1mwandb\u001b[0m: Adding directory to artifact (/home/katril18/DOC_prev_code/plankton_classification/models/densenet/wandb/run-20240512_222055-3v85ee3r/files/model-best)... Done. 0.2s\n"
     ]
    },
    {
     "name": "stdout",
     "output_type": "stream",
     "text": [
      "6734/6734 [==============================] - 718s 107ms/step - loss: 0.4209 - accuracy: 0.8562 - val_loss: 0.2265 - val_accuracy: 0.9268 - lr: 0.0010\n",
      "Epoch 10/35\n",
      "6734/6734 [==============================] - 675s 100ms/step - loss: 0.4095 - accuracy: 0.8604 - val_loss: 0.2350 - val_accuracy: 0.9211 - lr: 0.0010\n",
      "Epoch 11/35\n",
      "6734/6734 [==============================] - 669s 99ms/step - loss: 0.4006 - accuracy: 0.8634 - val_loss: 0.2331 - val_accuracy: 0.9247 - lr: 0.0010\n",
      "Epoch 12/35\n",
      "6734/6734 [==============================] - 686s 102ms/step - loss: 0.3917 - accuracy: 0.8659 - val_loss: 0.2281 - val_accuracy: 0.9266 - lr: 0.0010\n",
      "Epoch 13/35\n",
      "6734/6734 [==============================] - ETA: 0s - loss: 0.3554 - accuracy: 0.8783INFO:tensorflow:Assets written to: /home/katril18/DOC_prev_code/plankton_classification/models/densenet/wandb/run-20240512_222055-3v85ee3r/files/model-best/assets\n"
     ]
    },
    {
     "name": "stderr",
     "output_type": "stream",
     "text": [
      "INFO:tensorflow:Assets written to: /home/katril18/DOC_prev_code/plankton_classification/models/densenet/wandb/run-20240512_222055-3v85ee3r/files/model-best/assets\n",
      "\u001b[34m\u001b[1mwandb\u001b[0m: Adding directory to artifact (/home/katril18/DOC_prev_code/plankton_classification/models/densenet/wandb/run-20240512_222055-3v85ee3r/files/model-best)... Done. 0.3s\n"
     ]
    },
    {
     "name": "stdout",
     "output_type": "stream",
     "text": [
      "6734/6734 [==============================] - 730s 108ms/step - loss: 0.3554 - accuracy: 0.8783 - val_loss: 0.2065 - val_accuracy: 0.9326 - lr: 1.0000e-04\n",
      "Epoch 14/35\n",
      "6734/6734 [==============================] - ETA: 0s - loss: 0.3454 - accuracy: 0.8814INFO:tensorflow:Assets written to: /home/katril18/DOC_prev_code/plankton_classification/models/densenet/wandb/run-20240512_222055-3v85ee3r/files/model-best/assets\n"
     ]
    },
    {
     "name": "stderr",
     "output_type": "stream",
     "text": [
      "INFO:tensorflow:Assets written to: /home/katril18/DOC_prev_code/plankton_classification/models/densenet/wandb/run-20240512_222055-3v85ee3r/files/model-best/assets\n",
      "\u001b[34m\u001b[1mwandb\u001b[0m: Adding directory to artifact (/home/katril18/DOC_prev_code/plankton_classification/models/densenet/wandb/run-20240512_222055-3v85ee3r/files/model-best)... Done. 0.2s\n"
     ]
    },
    {
     "name": "stdout",
     "output_type": "stream",
     "text": [
      "6734/6734 [==============================] - 738s 110ms/step - loss: 0.3454 - accuracy: 0.8814 - val_loss: 0.2042 - val_accuracy: 0.9331 - lr: 1.0000e-04\n",
      "Epoch 15/35\n",
      "6734/6734 [==============================] - ETA: 0s - loss: 0.3401 - accuracy: 0.8832INFO:tensorflow:Assets written to: /home/katril18/DOC_prev_code/plankton_classification/models/densenet/wandb/run-20240512_222055-3v85ee3r/files/model-best/assets\n"
     ]
    },
    {
     "name": "stderr",
     "output_type": "stream",
     "text": [
      "INFO:tensorflow:Assets written to: /home/katril18/DOC_prev_code/plankton_classification/models/densenet/wandb/run-20240512_222055-3v85ee3r/files/model-best/assets\n",
      "\u001b[34m\u001b[1mwandb\u001b[0m: Adding directory to artifact (/home/katril18/DOC_prev_code/plankton_classification/models/densenet/wandb/run-20240512_222055-3v85ee3r/files/model-best)... Done. 0.3s\n"
     ]
    },
    {
     "name": "stdout",
     "output_type": "stream",
     "text": [
      "6734/6734 [==============================] - 741s 110ms/step - loss: 0.3401 - accuracy: 0.8832 - val_loss: 0.2040 - val_accuracy: 0.9335 - lr: 1.0000e-04\n",
      "Epoch 16/35\n",
      "6734/6734 [==============================] - ETA: 0s - loss: 0.3369 - accuracy: 0.8846INFO:tensorflow:Assets written to: /home/katril18/DOC_prev_code/plankton_classification/models/densenet/wandb/run-20240512_222055-3v85ee3r/files/model-best/assets\n"
     ]
    },
    {
     "name": "stderr",
     "output_type": "stream",
     "text": [
      "INFO:tensorflow:Assets written to: /home/katril18/DOC_prev_code/plankton_classification/models/densenet/wandb/run-20240512_222055-3v85ee3r/files/model-best/assets\n",
      "\u001b[34m\u001b[1mwandb\u001b[0m: Adding directory to artifact (/home/katril18/DOC_prev_code/plankton_classification/models/densenet/wandb/run-20240512_222055-3v85ee3r/files/model-best)... Done. 0.3s\n"
     ]
    },
    {
     "name": "stdout",
     "output_type": "stream",
     "text": [
      "6734/6734 [==============================] - 728s 108ms/step - loss: 0.3369 - accuracy: 0.8846 - val_loss: 0.2030 - val_accuracy: 0.9345 - lr: 1.0000e-04\n",
      "Epoch 17/35\n",
      "6734/6734 [==============================] - ETA: 0s - loss: 0.3327 - accuracy: 0.8855INFO:tensorflow:Assets written to: /home/katril18/DOC_prev_code/plankton_classification/models/densenet/wandb/run-20240512_222055-3v85ee3r/files/model-best/assets\n"
     ]
    },
    {
     "name": "stderr",
     "output_type": "stream",
     "text": [
      "INFO:tensorflow:Assets written to: /home/katril18/DOC_prev_code/plankton_classification/models/densenet/wandb/run-20240512_222055-3v85ee3r/files/model-best/assets\n",
      "\u001b[34m\u001b[1mwandb\u001b[0m: Adding directory to artifact (/home/katril18/DOC_prev_code/plankton_classification/models/densenet/wandb/run-20240512_222055-3v85ee3r/files/model-best)... Done. 0.2s\n"
     ]
    },
    {
     "name": "stdout",
     "output_type": "stream",
     "text": [
      "6734/6734 [==============================] - 718s 107ms/step - loss: 0.3327 - accuracy: 0.8855 - val_loss: 0.2025 - val_accuracy: 0.9344 - lr: 1.0000e-04\n",
      "Epoch 18/35\n",
      "6734/6734 [==============================] - 676s 100ms/step - loss: 0.3299 - accuracy: 0.8864 - val_loss: 0.2026 - val_accuracy: 0.9342 - lr: 1.0000e-04\n",
      "Epoch 19/35\n",
      "6734/6734 [==============================] - 677s 101ms/step - loss: 0.3268 - accuracy: 0.8879 - val_loss: 0.2027 - val_accuracy: 0.9346 - lr: 1.0000e-04\n",
      "Epoch 20/35\n",
      "6734/6734 [==============================] - ETA: 0s - loss: 0.3266 - accuracy: 0.8876INFO:tensorflow:Assets written to: /home/katril18/DOC_prev_code/plankton_classification/models/densenet/wandb/run-20240512_222055-3v85ee3r/files/model-best/assets\n"
     ]
    },
    {
     "name": "stderr",
     "output_type": "stream",
     "text": [
      "INFO:tensorflow:Assets written to: /home/katril18/DOC_prev_code/plankton_classification/models/densenet/wandb/run-20240512_222055-3v85ee3r/files/model-best/assets\n",
      "\u001b[34m\u001b[1mwandb\u001b[0m: Adding directory to artifact (/home/katril18/DOC_prev_code/plankton_classification/models/densenet/wandb/run-20240512_222055-3v85ee3r/files/model-best)... Done. 0.2s\n"
     ]
    },
    {
     "name": "stdout",
     "output_type": "stream",
     "text": [
      "6734/6734 [==============================] - 718s 107ms/step - loss: 0.3266 - accuracy: 0.8876 - val_loss: 0.2006 - val_accuracy: 0.9344 - lr: 1.0000e-04\n",
      "Epoch 21/35\n",
      "6734/6734 [==============================] - 672s 100ms/step - loss: 0.3232 - accuracy: 0.8886 - val_loss: 0.2011 - val_accuracy: 0.9350 - lr: 1.0000e-04\n",
      "Epoch 22/35\n",
      "6734/6734 [==============================] - ETA: 0s - loss: 0.3222 - accuracy: 0.8892INFO:tensorflow:Assets written to: /home/katril18/DOC_prev_code/plankton_classification/models/densenet/wandb/run-20240512_222055-3v85ee3r/files/model-best/assets\n"
     ]
    },
    {
     "name": "stderr",
     "output_type": "stream",
     "text": [
      "INFO:tensorflow:Assets written to: /home/katril18/DOC_prev_code/plankton_classification/models/densenet/wandb/run-20240512_222055-3v85ee3r/files/model-best/assets\n",
      "\u001b[34m\u001b[1mwandb\u001b[0m: Adding directory to artifact (/home/katril18/DOC_prev_code/plankton_classification/models/densenet/wandb/run-20240512_222055-3v85ee3r/files/model-best)... Done. 0.2s\n"
     ]
    },
    {
     "name": "stdout",
     "output_type": "stream",
     "text": [
      "6734/6734 [==============================] - 712s 106ms/step - loss: 0.3222 - accuracy: 0.8892 - val_loss: 0.2003 - val_accuracy: 0.9352 - lr: 1.0000e-04\n",
      "Epoch 23/35\n",
      "6734/6734 [==============================] - ETA: 0s - loss: 0.3212 - accuracy: 0.8896INFO:tensorflow:Assets written to: /home/katril18/DOC_prev_code/plankton_classification/models/densenet/wandb/run-20240512_222055-3v85ee3r/files/model-best/assets\n"
     ]
    },
    {
     "name": "stderr",
     "output_type": "stream",
     "text": [
      "INFO:tensorflow:Assets written to: /home/katril18/DOC_prev_code/plankton_classification/models/densenet/wandb/run-20240512_222055-3v85ee3r/files/model-best/assets\n",
      "\u001b[34m\u001b[1mwandb\u001b[0m: Adding directory to artifact (/home/katril18/DOC_prev_code/plankton_classification/models/densenet/wandb/run-20240512_222055-3v85ee3r/files/model-best)... Done. 0.3s\n"
     ]
    },
    {
     "name": "stdout",
     "output_type": "stream",
     "text": [
      "6734/6734 [==============================] - 708s 105ms/step - loss: 0.3212 - accuracy: 0.8896 - val_loss: 0.1994 - val_accuracy: 0.9352 - lr: 1.0000e-04\n",
      "Epoch 24/35\n",
      "6734/6734 [==============================] - 670s 100ms/step - loss: 0.3183 - accuracy: 0.8904 - val_loss: 0.2002 - val_accuracy: 0.9347 - lr: 1.0000e-04\n",
      "Epoch 25/35\n",
      "6734/6734 [==============================] - 670s 99ms/step - loss: 0.3154 - accuracy: 0.8916 - val_loss: 0.2012 - val_accuracy: 0.9348 - lr: 1.0000e-04\n",
      "Epoch 26/35\n",
      "6734/6734 [==============================] - 667s 99ms/step - loss: 0.3145 - accuracy: 0.8909 - val_loss: 0.2008 - val_accuracy: 0.9348 - lr: 1.0000e-04\n",
      "Epoch 27/35\n",
      "6734/6734 [==============================] - ETA: 0s - loss: 0.3105 - accuracy: 0.8929INFO:tensorflow:Assets written to: /home/katril18/DOC_prev_code/plankton_classification/models/densenet/wandb/run-20240512_222055-3v85ee3r/files/model-best/assets\n"
     ]
    },
    {
     "name": "stderr",
     "output_type": "stream",
     "text": [
      "INFO:tensorflow:Assets written to: /home/katril18/DOC_prev_code/plankton_classification/models/densenet/wandb/run-20240512_222055-3v85ee3r/files/model-best/assets\n",
      "\u001b[34m\u001b[1mwandb\u001b[0m: Adding directory to artifact (/home/katril18/DOC_prev_code/plankton_classification/models/densenet/wandb/run-20240512_222055-3v85ee3r/files/model-best)... Done. 0.3s\n"
     ]
    },
    {
     "name": "stdout",
     "output_type": "stream",
     "text": [
      "6734/6734 [==============================] - 702s 104ms/step - loss: 0.3105 - accuracy: 0.8929 - val_loss: 0.1993 - val_accuracy: 0.9355 - lr: 1.0000e-05\n",
      "Epoch 28/35\n",
      "6734/6734 [==============================] - ETA: 0s - loss: 0.3107 - accuracy: 0.8931INFO:tensorflow:Assets written to: /home/katril18/DOC_prev_code/plankton_classification/models/densenet/wandb/run-20240512_222055-3v85ee3r/files/model-best/assets\n"
     ]
    },
    {
     "name": "stderr",
     "output_type": "stream",
     "text": [
      "INFO:tensorflow:Assets written to: /home/katril18/DOC_prev_code/plankton_classification/models/densenet/wandb/run-20240512_222055-3v85ee3r/files/model-best/assets\n",
      "\u001b[34m\u001b[1mwandb\u001b[0m: Adding directory to artifact (/home/katril18/DOC_prev_code/plankton_classification/models/densenet/wandb/run-20240512_222055-3v85ee3r/files/model-best)... Done. 0.3s\n"
     ]
    },
    {
     "name": "stdout",
     "output_type": "stream",
     "text": [
      "6734/6734 [==============================] - 713s 106ms/step - loss: 0.3107 - accuracy: 0.8931 - val_loss: 0.1989 - val_accuracy: 0.9355 - lr: 1.0000e-05\n",
      "Epoch 29/35\n",
      "6734/6734 [==============================] - 666s 99ms/step - loss: 0.3097 - accuracy: 0.8931 - val_loss: 0.1991 - val_accuracy: 0.9358 - lr: 1.0000e-05\n",
      "Epoch 30/35\n",
      "6734/6734 [==============================] - ETA: 0s - loss: 0.3086 - accuracy: 0.8932INFO:tensorflow:Assets written to: /home/katril18/DOC_prev_code/plankton_classification/models/densenet/wandb/run-20240512_222055-3v85ee3r/files/model-best/assets\n"
     ]
    },
    {
     "name": "stderr",
     "output_type": "stream",
     "text": [
      "INFO:tensorflow:Assets written to: /home/katril18/DOC_prev_code/plankton_classification/models/densenet/wandb/run-20240512_222055-3v85ee3r/files/model-best/assets\n",
      "\u001b[34m\u001b[1mwandb\u001b[0m: Adding directory to artifact (/home/katril18/DOC_prev_code/plankton_classification/models/densenet/wandb/run-20240512_222055-3v85ee3r/files/model-best)... Done. 0.2s\n"
     ]
    },
    {
     "name": "stdout",
     "output_type": "stream",
     "text": [
      "6734/6734 [==============================] - 727s 108ms/step - loss: 0.3086 - accuracy: 0.8932 - val_loss: 0.1985 - val_accuracy: 0.9357 - lr: 1.0000e-05\n",
      "Epoch 31/35\n",
      "6734/6734 [==============================] - 677s 101ms/step - loss: 0.3083 - accuracy: 0.8935 - val_loss: 0.1986 - val_accuracy: 0.9357 - lr: 1.0000e-05\n",
      "Epoch 32/35\n",
      "6734/6734 [==============================] - 675s 100ms/step - loss: 0.3079 - accuracy: 0.8936 - val_loss: 0.1990 - val_accuracy: 0.9357 - lr: 1.0000e-05\n",
      "Epoch 33/35\n",
      "6734/6734 [==============================] - 667s 99ms/step - loss: 0.3076 - accuracy: 0.8941 - val_loss: 0.1987 - val_accuracy: 0.9359 - lr: 1.0000e-05\n",
      "Epoch 34/35\n",
      "6734/6734 [==============================] - 682s 101ms/step - loss: 0.3075 - accuracy: 0.8940 - val_loss: 0.1987 - val_accuracy: 0.9358 - lr: 1.0000e-05\n",
      "Epoch 35/35\n",
      "6734/6734 [==============================] - 682s 101ms/step - loss: 0.3074 - accuracy: 0.8944 - val_loss: 0.1987 - val_accuracy: 0.9359 - lr: 1.0000e-05\n"
     ]
    },
    {
     "data": {
      "text/plain": [
       "<keras.callbacks.History at 0x7f857b243c10>"
      ]
     },
     "execution_count": 5,
     "metadata": {},
     "output_type": "execute_result"
    }
   ],
   "source": [
    "model.fit(train_ds, epochs=cfg.epochs, batch_size=64, verbose=cfg.verbose, validation_data=val_ds, callbacks=callbacks) # train the model"
   ]
  },
  {
   "cell_type": "code",
   "execution_count": 6,
   "id": "d819feca-7979-484d-9c19-2fe19d7d4600",
   "metadata": {},
   "outputs": [
    {
     "data": {
      "text/html": [
       "W&B sync reduced upload amount by 1.1%             "
      ],
      "text/plain": [
       "<IPython.core.display.HTML object>"
      ]
     },
     "metadata": {},
     "output_type": "display_data"
    },
    {
     "data": {
      "text/html": [
       "<style>\n",
       "    table.wandb td:nth-child(1) { padding: 0 10px; text-align: left ; width: auto;} td:nth-child(2) {text-align: left ; width: 100%}\n",
       "    .wandb-row { display: flex; flex-direction: row; flex-wrap: wrap; justify-content: flex-start; width: 100% }\n",
       "    .wandb-col { display: flex; flex-direction: column; flex-basis: 100%; flex: 1; padding: 10px; }\n",
       "    </style>\n",
       "<div class=\"wandb-row\"><div class=\"wandb-col\"><h3>Run history:</h3><br/><table class=\"wandb\"><tr><td>accuracy</td><td>▁▄▅▅▅▆▆▆▆▇▇▇▇▇█████████████████████</td></tr><tr><td>epoch</td><td>▁▁▁▂▂▂▂▂▃▃▃▃▃▄▄▄▄▅▅▅▅▅▆▆▆▆▆▇▇▇▇▇███</td></tr><tr><td>loss</td><td>█▅▄▄▄▃▃▃▃▂▂▂▂▂▁▁▁▁▁▁▁▁▁▁▁▁▁▁▁▁▁▁▁▁▁</td></tr><tr><td>val_accuracy</td><td>▁▃▄▅▅▆▆▇▇▆▇▇███████████████████████</td></tr><tr><td>val_loss</td><td>█▆▅▄▄▃▃▂▂▃▂▂▁▁▁▁▁▁▁▁▁▁▁▁▁▁▁▁▁▁▁▁▁▁▁</td></tr></table><br/></div><div class=\"wandb-col\"><h3>Run summary:</h3><br/><table class=\"wandb\"><tr><td>accuracy</td><td>0.89443</td></tr><tr><td>best_epoch</td><td>29</td></tr><tr><td>best_val_loss</td><td>0.19851</td></tr><tr><td>epoch</td><td>34</td></tr><tr><td>loss</td><td>0.30736</td></tr><tr><td>val_accuracy</td><td>0.93592</td></tr><tr><td>val_loss</td><td>0.19873</td></tr></table><br/></div></div>"
      ],
      "text/plain": [
       "<IPython.core.display.HTML object>"
      ]
     },
     "metadata": {},
     "output_type": "display_data"
    },
    {
     "data": {
      "text/html": [
       " View run <strong style=\"color:#cdcd00\">woven-firefly-19</strong> at: <a href='https://wandb.ai/katrinamaster/DenseNet/runs/3v85ee3r' target=\"_blank\">https://wandb.ai/katrinamaster/DenseNet/runs/3v85ee3r</a><br/> View project at: <a href='https://wandb.ai/katrinamaster/DenseNet' target=\"_blank\">https://wandb.ai/katrinamaster/DenseNet</a><br/>Synced 5 W&B file(s), 1 media file(s), 95 artifact file(s) and 1 other file(s)"
      ],
      "text/plain": [
       "<IPython.core.display.HTML object>"
      ]
     },
     "metadata": {},
     "output_type": "display_data"
    },
    {
     "data": {
      "text/html": [
       "Find logs at: <code>./wandb/run-20240512_222055-3v85ee3r/logs</code>"
      ],
      "text/plain": [
       "<IPython.core.display.HTML object>"
      ]
     },
     "metadata": {},
     "output_type": "display_data"
    }
   ],
   "source": [
    "wandb.finish()"
   ]
  }
 ],
 "metadata": {
  "kernelspec": {
   "display_name": "Python 3 (ipykernel)",
   "language": "python",
   "name": "python3"
  },
  "language_info": {
   "codemirror_mode": {
    "name": "ipython",
    "version": 3
   },
   "file_extension": ".py",
   "mimetype": "text/x-python",
   "name": "python",
   "nbconvert_exporter": "python",
   "pygments_lexer": "ipython3",
   "version": "3.10.12"
  },
  "vscode": {
   "interpreter": {
    "hash": "705981ebfef8414934dd4135383ecdf26fe8fa6933659ee4e9a6df233986ed45"
   }
  }
 },
 "nbformat": 4,
 "nbformat_minor": 5
}
