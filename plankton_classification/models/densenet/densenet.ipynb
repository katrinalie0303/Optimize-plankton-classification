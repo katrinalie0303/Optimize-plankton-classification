{
 "cells": [
  {
   "cell_type": "code",
   "execution_count": 1,
   "id": "34e2b032",
   "metadata": {
    "editable": true,
    "slideshow": {
     "slide_type": ""
    },
    "tags": []
   },
   "outputs": [
    {
     "name": "stderr",
     "output_type": "stream",
     "text": [
      "2024-05-23 09:08:07.394698: E tensorflow/compiler/xla/stream_executor/cuda/cuda_dnn.cc:9360] Unable to register cuDNN factory: Attempting to register factory for plugin cuDNN when one has already been registered\n",
      "2024-05-23 09:08:07.394747: E tensorflow/compiler/xla/stream_executor/cuda/cuda_fft.cc:609] Unable to register cuFFT factory: Attempting to register factory for plugin cuFFT when one has already been registered\n",
      "2024-05-23 09:08:07.394791: E tensorflow/compiler/xla/stream_executor/cuda/cuda_blas.cc:1537] Unable to register cuBLAS factory: Attempting to register factory for plugin cuBLAS when one has already been registered\n",
      "2024-05-23 09:08:07.405930: I tensorflow/core/platform/cpu_feature_guard.cc:183] This TensorFlow binary is optimized to use available CPU instructions in performance-critical operations.\n",
      "To enable the following instructions: SSE3 SSE4.1 SSE4.2 AVX, in other operations, rebuild TensorFlow with the appropriate compiler flags.\n"
     ]
    }
   ],
   "source": [
    "import tensorflow as tf\n",
    "from tensorflow import keras\n",
    "import os\n",
    "from densenet_models import create_densenet169_model, create_densenet169_model_opt, create_densenet169_model_opt_weights\n",
    "import wandb\n",
    "from wandb.keras import WandbCallback"
   ]
  },
  {
   "cell_type": "code",
   "execution_count": 17,
   "id": "7d33139f-e737-4f7b-9e2c-87f816d64183",
   "metadata": {},
   "outputs": [
    {
     "name": "stderr",
     "output_type": "stream",
     "text": [
      "\u001b[34m\u001b[1mwandb\u001b[0m: \u001b[33mWARNING\u001b[0m If you're specifying your api key in code, ensure this code is not shared publicly.\n",
      "\u001b[34m\u001b[1mwandb\u001b[0m: \u001b[33mWARNING\u001b[0m Consider setting the WANDB_API_KEY environment variable, or running `wandb login` from the command line.\n",
      "\u001b[34m\u001b[1mwandb\u001b[0m: Appending key for api.wandb.ai to your netrc file: /home/katril18/.netrc\n"
     ]
    },
    {
     "data": {
      "text/plain": [
       "True"
      ]
     },
     "execution_count": 17,
     "metadata": {},
     "output_type": "execute_result"
    }
   ],
   "source": [
    "wandb.login(key=\"0f45347e0cafc15c3aafb216ff27852b72c63c56\")\n"
   ]
  },
  {
   "cell_type": "code",
   "execution_count": 18,
   "id": "21aab48f-8ff6-42e1-b646-c7bd3510aa0e",
   "metadata": {},
   "outputs": [
    {
     "name": "stderr",
     "output_type": "stream",
     "text": [
      "\u001b[34m\u001b[1mwandb\u001b[0m: Currently logged in as: \u001b[33mkatrinalie\u001b[0m (\u001b[33mkatrinamaster\u001b[0m). Use \u001b[1m`wandb login --relogin`\u001b[0m to force relogin\n"
     ]
    },
    {
     "data": {
      "text/html": [
       "Tracking run with wandb version 0.16.6"
      ],
      "text/plain": [
       "<IPython.core.display.HTML object>"
      ]
     },
     "metadata": {},
     "output_type": "display_data"
    },
    {
     "data": {
      "text/html": [
       "Run data is saved locally in <code>/home/katril18/DOC_prev_code/plankton_classification/models/densenet/wandb/run-20240423_174326-znn653jy</code>"
      ],
      "text/plain": [
       "<IPython.core.display.HTML object>"
      ]
     },
     "metadata": {},
     "output_type": "display_data"
    },
    {
     "data": {
      "text/html": [
       "Syncing run <strong><a href='https://wandb.ai/katrinamaster/katrmaster/runs/znn653jy' target=\"_blank\">bright-serenity-1</a></strong> to <a href='https://wandb.ai/katrinamaster/katrmaster' target=\"_blank\">Weights & Biases</a> (<a href='https://wandb.me/run' target=\"_blank\">docs</a>)<br/>"
      ],
      "text/plain": [
       "<IPython.core.display.HTML object>"
      ]
     },
     "metadata": {},
     "output_type": "display_data"
    },
    {
     "data": {
      "text/html": [
       " View project at <a href='https://wandb.ai/katrinamaster/katrmaster' target=\"_blank\">https://wandb.ai/katrinamaster/katrmaster</a>"
      ],
      "text/plain": [
       "<IPython.core.display.HTML object>"
      ]
     },
     "metadata": {},
     "output_type": "display_data"
    },
    {
     "data": {
      "text/html": [
       " View run at <a href='https://wandb.ai/katrinamaster/katrmaster/runs/znn653jy' target=\"_blank\">https://wandb.ai/katrinamaster/katrmaster/runs/znn653jy</a>"
      ],
      "text/plain": [
       "<IPython.core.display.HTML object>"
      ]
     },
     "metadata": {},
     "output_type": "display_data"
    },
    {
     "data": {
      "text/html": [
       "<button onClick=\"this.nextSibling.style.display='block';this.style.display='none';\">Display W&B run</button><iframe src='https://wandb.ai/katrinamaster/katrmaster/runs/znn653jy?jupyter=true' style='border:none;width:100%;height:420px;display:none;'></iframe>"
      ],
      "text/plain": [
       "<wandb.sdk.wandb_run.Run at 0x7f65c30824a0>"
      ]
     },
     "execution_count": 18,
     "metadata": {},
     "output_type": "execute_result"
    }
   ],
   "source": [
    "wandb.init(project=\"katrmaster\")"
   ]
  },
  {
   "cell_type": "code",
   "execution_count": 2,
   "id": "20026c9f",
   "metadata": {
    "scrolled": true
   },
   "outputs": [
    {
     "name": "stdout",
     "output_type": "stream",
     "text": [
      "Found 312645 files belonging to 73 classes.\n"
     ]
    },
    {
     "name": "stderr",
     "output_type": "stream",
     "text": [
      "2024-05-20 14:40:50.357208: I tensorflow/core/common_runtime/gpu/gpu_device.cc:1883] Created device /job:localhost/replica:0/task:0/device:GPU:0 with 31127 MB memory:  -> device: 0, name: Tesla V100-SXM3-32GB, pci bus id: 0000:5c:00.0, compute capability: 7.0\n"
     ]
    },
    {
     "name": "stdout",
     "output_type": "stream",
     "text": [
      "Found 50568 files belonging to 73 classes.\n"
     ]
    }
   ],
   "source": [
    "train_ds = keras.utils.image_dataset_from_directory(\n",
    "    directory=\"../../dataset/global_15k/train\",\n",
    "    labels='inferred',\n",
    "    label_mode='categorical',\n",
    "    shuffle=True,\n",
    "    batch_size=128,\n",
    "    image_size=(224, 224)\n",
    "    )\n",
    "val_ds = keras.utils.image_dataset_from_directory(\n",
    "    directory=\"../../dataset/global_15k/val\",\n",
    "    labels='inferred',\n",
    "    label_mode='categorical',\n",
    "    shuffle=True,\n",
    "    batch_size=128,\n",
    "    image_size=(224, 224)\n",
    "    )"
   ]
  },
  {
   "cell_type": "code",
   "execution_count": 2,
   "id": "d66763b1-c1d2-4c25-a9d8-d05beff9346d",
   "metadata": {
    "scrolled": true
   },
   "outputs": [
    {
     "name": "stdout",
     "output_type": "stream",
     "text": [
      "Found 430968 files belonging to 12 classes.\n"
     ]
    },
    {
     "name": "stderr",
     "output_type": "stream",
     "text": [
      "2024-05-23 09:08:50.964332: I tensorflow/core/common_runtime/gpu/gpu_device.cc:1883] Created device /job:localhost/replica:0/task:0/device:GPU:0 with 31125 MB memory:  -> device: 0, name: Tesla V100-SXM3-32GB, pci bus id: 0000:5c:00.0, compute capability: 7.0\n"
     ]
    },
    {
     "name": "stdout",
     "output_type": "stream",
     "text": [
      "Found 37219 files belonging to 12 classes.\n"
     ]
    }
   ],
   "source": [
    "train_ds = keras.utils.image_dataset_from_directory(\n",
    "    directory=\"../../../organized_dataset_v7/dataset/train\",\n",
    "    labels='inferred',\n",
    "    label_mode='categorical',\n",
    "    shuffle=True,\n",
    "    batch_size=64,\n",
    "    image_size=(224, 224)\n",
    "    )\n",
    "val_ds = keras.utils.image_dataset_from_directory(\n",
    "    directory=\"../../../organized_dataset_v7/dataset/val\",\n",
    "    labels='inferred',\n",
    "    label_mode='categorical',\n",
    "    shuffle=True,\n",
    "    batch_size=64,\n",
    "    image_size=(224, 224)\n",
    "    )"
   ]
  },
  {
   "cell_type": "code",
   "execution_count": 25,
   "id": "35977811-660b-456c-a76c-a358b3a17262",
   "metadata": {},
   "outputs": [
    {
     "name": "stdout",
     "output_type": "stream",
     "text": [
      "densenet_fine_tuning.ipynb  densenet_models.py  \u001b[0m\u001b[01;34mwandb\u001b[0m/\n",
      "densenet.ipynb              \u001b[01;34m__pycache__\u001b[0m/\n"
     ]
    }
   ],
   "source": [
    "ls"
   ]
  },
  {
   "cell_type": "markdown",
   "id": "918e5e34",
   "metadata": {},
   "source": [
    "# DenseNet169"
   ]
  },
  {
   "cell_type": "code",
   "execution_count": null,
   "id": "1a74cb03",
   "metadata": {},
   "outputs": [
    {
     "data": {
      "text/html": [
       "Tracking run with wandb version 0.16.6"
      ],
      "text/plain": [
       "<IPython.core.display.HTML object>"
      ]
     },
     "metadata": {},
     "output_type": "display_data"
    },
    {
     "data": {
      "text/html": [
       "Run data is saved locally in <code>/home/katril18/DOC_prev_code/plankton_classification/models/densenet/wandb/run-20240426_092805-4ut6sxev</code>"
      ],
      "text/plain": [
       "<IPython.core.display.HTML object>"
      ]
     },
     "metadata": {},
     "output_type": "display_data"
    },
    {
     "data": {
      "text/html": [
       "Syncing run <strong><a href='https://wandb.ai/katrinamaster/DenseNet/runs/4ut6sxev' target=\"_blank\">neat-puddle-5</a></strong> to <a href='https://wandb.ai/katrinamaster/DenseNet' target=\"_blank\">Weights & Biases</a> (<a href='https://wandb.me/run' target=\"_blank\">docs</a>)<br/>"
      ],
      "text/plain": [
       "<IPython.core.display.HTML object>"
      ]
     },
     "metadata": {},
     "output_type": "display_data"
    },
    {
     "data": {
      "text/html": [
       " View project at <a href='https://wandb.ai/katrinamaster/DenseNet' target=\"_blank\">https://wandb.ai/katrinamaster/DenseNet</a>"
      ],
      "text/plain": [
       "<IPython.core.display.HTML object>"
      ]
     },
     "metadata": {},
     "output_type": "display_data"
    },
    {
     "data": {
      "text/html": [
       " View run at <a href='https://wandb.ai/katrinamaster/DenseNet/runs/4ut6sxev' target=\"_blank\">https://wandb.ai/katrinamaster/DenseNet/runs/4ut6sxev</a>"
      ],
      "text/plain": [
       "<IPython.core.display.HTML object>"
      ]
     },
     "metadata": {},
     "output_type": "display_data"
    }
   ],
   "source": [
    "# initialize wandb\n",
    "wandb.init(project=\"DenseNet\", config={\"learning_rate\": 0.001, \"epochs\": 40, \"verbose\": 1,\"name\": \"DenseNet169\", \"architecture\": \"DenseNet169\"})\n",
    "\n",
    "# configs\n",
    "cfg = wandb.config\n",
    "\n",
    "# create the model\n",
    "model = create_densenet169_model(len(train_ds.class_names))"
   ]
  },
  {
   "cell_type": "code",
   "execution_count": 4,
   "id": "1b9cc928",
   "metadata": {},
   "outputs": [
    {
     "name": "stderr",
     "output_type": "stream",
     "text": [
      "\u001b[34m\u001b[1mwandb\u001b[0m: \u001b[33mWARNING\u001b[0m The save_model argument by default saves the model in the HDF5 format that cannot save custom objects like subclassed models and custom layers. This behavior will be deprecated in a future release in favor of the SavedModel format. Meanwhile, the HDF5 model is saved as W&B files and the SavedModel as W&B Artifacts.\n"
     ]
    }
   ],
   "source": [
    "# list of callbacks\n",
    "callbacks = [\n",
    "            WandbCallback(mode=\"min\", monitor=\"val_loss\", save_graph=True),\n",
    "            tf.keras.callbacks.ReduceLROnPlateau(monitor='val_loss', factor=0.1,\n",
    "                              patience=3, min_lr=0.00001),\n",
    "            tf.keras.callbacks.EarlyStopping(monitor='val_loss', patience=5),\n",
    "          ]"
   ]
  },
  {
   "cell_type": "code",
   "execution_count": null,
   "id": "e74be625",
   "metadata": {
    "scrolled": true
   },
   "outputs": [],
   "source": [
    "model.fit(train_ds, epochs=cfg.epochs, batch_size=32, verbose=cfg.verbose, validation_data=val_ds, callbacks=callbacks) # train the model"
   ]
  },
  {
   "cell_type": "code",
   "execution_count": 8,
   "id": "194c18ae",
   "metadata": {},
   "outputs": [
    {
     "data": {
      "text/html": [
       " View run <strong style=\"color:#cdcd00\">frosty-armadillo-4</strong> at: <a href='https://wandb.ai/katrinamaster/DenseNet/runs/taarw0cs' target=\"_blank\">https://wandb.ai/katrinamaster/DenseNet/runs/taarw0cs</a><br/> View project at: <a href='https://wandb.ai/katrinamaster/DenseNet' target=\"_blank\">https://wandb.ai/katrinamaster/DenseNet</a><br/>Synced 5 W&B file(s), 0 media file(s), 0 artifact file(s) and 0 other file(s)"
      ],
      "text/plain": [
       "<IPython.core.display.HTML object>"
      ]
     },
     "metadata": {},
     "output_type": "display_data"
    },
    {
     "data": {
      "text/html": [
       "Find logs at: <code>./wandb/run-20240425_221157-taarw0cs/logs</code>"
      ],
      "text/plain": [
       "<IPython.core.display.HTML object>"
      ]
     },
     "metadata": {},
     "output_type": "display_data"
    }
   ],
   "source": [
    "wandb.finish()"
   ]
  },
  {
   "cell_type": "markdown",
   "id": "cea3041e-abbb-45dd-ad22-afb85db8cd17",
   "metadata": {},
   "source": [
    "## DenseNet169 Optimized"
   ]
  },
  {
   "cell_type": "code",
   "execution_count": 3,
   "id": "70993596-58be-4e9c-a70f-90f2a4cd95f8",
   "metadata": {
    "scrolled": true
   },
   "outputs": [
    {
     "name": "stderr",
     "output_type": "stream",
     "text": [
      "\u001b[34m\u001b[1mwandb\u001b[0m: Currently logged in as: \u001b[33mkatrinalie\u001b[0m (\u001b[33mkatrinamaster\u001b[0m). Use \u001b[1m`wandb login --relogin`\u001b[0m to force relogin\n"
     ]
    },
    {
     "data": {
      "text/html": [
       "wandb version 0.17.0 is available!  To upgrade, please run:\n",
       " $ pip install wandb --upgrade"
      ],
      "text/plain": [
       "<IPython.core.display.HTML object>"
      ]
     },
     "metadata": {},
     "output_type": "display_data"
    },
    {
     "data": {
      "text/html": [
       "Tracking run with wandb version 0.16.6"
      ],
      "text/plain": [
       "<IPython.core.display.HTML object>"
      ]
     },
     "metadata": {},
     "output_type": "display_data"
    },
    {
     "data": {
      "text/html": [
       "Run data is saved locally in <code>/home/katril18/DOC_prev_code/plankton_classification/models/densenet/wandb/run-20240523_090910-2yduig3g</code>"
      ],
      "text/plain": [
       "<IPython.core.display.HTML object>"
      ]
     },
     "metadata": {},
     "output_type": "display_data"
    },
    {
     "data": {
      "text/html": [
       "Syncing run <strong><a href='https://wandb.ai/katrinamaster/DenseNet/runs/2yduig3g' target=\"_blank\">comic-grass-27</a></strong> to <a href='https://wandb.ai/katrinamaster/DenseNet' target=\"_blank\">Weights & Biases</a> (<a href='https://wandb.me/run' target=\"_blank\">docs</a>)<br/>"
      ],
      "text/plain": [
       "<IPython.core.display.HTML object>"
      ]
     },
     "metadata": {},
     "output_type": "display_data"
    },
    {
     "data": {
      "text/html": [
       " View project at <a href='https://wandb.ai/katrinamaster/DenseNet' target=\"_blank\">https://wandb.ai/katrinamaster/DenseNet</a>"
      ],
      "text/plain": [
       "<IPython.core.display.HTML object>"
      ]
     },
     "metadata": {},
     "output_type": "display_data"
    },
    {
     "data": {
      "text/html": [
       " View run at <a href='https://wandb.ai/katrinamaster/DenseNet/runs/2yduig3g' target=\"_blank\">https://wandb.ai/katrinamaster/DenseNet/runs/2yduig3g</a>"
      ],
      "text/plain": [
       "<IPython.core.display.HTML object>"
      ]
     },
     "metadata": {},
     "output_type": "display_data"
    }
   ],
   "source": [
    "# initialize wandb\n",
    "wandb.init(project=\"DenseNet\", config={\"learning_rate\": 0.001, \"epochs\": 40, \"verbose\": 1,\"name\": \"DenseNet169Opt\", \"architecture\": \"DenseNet169Opt\"})\n",
    "\n",
    "# configs\n",
    "cfg = wandb.config\n",
    "\n",
    "# create the model\n",
    "model = create_densenet169_model_opt_weights(len(train_ds.class_names))"
   ]
  },
  {
   "cell_type": "code",
   "execution_count": 5,
   "id": "8f67e210-2390-4d9a-810f-78ea9927876b",
   "metadata": {
    "scrolled": true
   },
   "outputs": [
    {
     "name": "stdout",
     "output_type": "stream",
     "text": [
      "Epoch 1/40\n"
     ]
    },
    {
     "name": "stderr",
     "output_type": "stream",
     "text": [
      "2024-05-23 09:09:38.753820: I tensorflow/compiler/xla/stream_executor/cuda/cuda_dnn.cc:442] Loaded cuDNN version 8907\n",
      "2024-05-23 09:09:41.755911: I tensorflow/compiler/xla/service/service.cc:168] XLA service 0x7fb311689be0 initialized for platform CUDA (this does not guarantee that XLA will be used). Devices:\n",
      "2024-05-23 09:09:41.755951: I tensorflow/compiler/xla/service/service.cc:176]   StreamExecutor device (0): Tesla V100-SXM3-32GB, Compute Capability 7.0\n",
      "2024-05-23 09:09:41.762910: I tensorflow/compiler/mlir/tensorflow/utils/dump_mlir_util.cc:269] disabling MLIR crash reproducer, set env var `MLIR_CRASH_REPRODUCER_DIRECTORY` to enable.\n",
      "2024-05-23 09:09:41.869742: I ./tensorflow/compiler/jit/device_compiler.h:186] Compiled cluster using XLA!  This line is logged at most once for the lifetime of the process.\n"
     ]
    },
    {
     "name": "stdout",
     "output_type": "stream",
     "text": [
      "6734/6734 [==============================] - ETA: 0s - loss: 0.9998 - accuracy: 0.6549INFO:tensorflow:Assets written to: /home/katril18/DOC_prev_code/plankton_classification/models/densenet/wandb/run-20240523_090910-2yduig3g/files/model-best/assets\n"
     ]
    },
    {
     "name": "stderr",
     "output_type": "stream",
     "text": [
      "INFO:tensorflow:Assets written to: /home/katril18/DOC_prev_code/plankton_classification/models/densenet/wandb/run-20240523_090910-2yduig3g/files/model-best/assets\n",
      "\u001b[34m\u001b[1mwandb\u001b[0m: Adding directory to artifact (/home/katril18/DOC_prev_code/plankton_classification/models/densenet/wandb/run-20240523_090910-2yduig3g/files/model-best)... Done. 0.3s\n"
     ]
    },
    {
     "name": "stdout",
     "output_type": "stream",
     "text": [
      "6734/6734 [==============================] - 793s 116ms/step - loss: 0.9998 - accuracy: 0.6549 - val_loss: 0.4490 - val_accuracy: 0.8502 - lr: 0.0010\n",
      "Epoch 2/40\n",
      "6734/6734 [==============================] - ETA: 0s - loss: 0.7713 - accuracy: 0.7358INFO:tensorflow:Assets written to: /home/katril18/DOC_prev_code/plankton_classification/models/densenet/wandb/run-20240523_090910-2yduig3g/files/model-best/assets\n"
     ]
    },
    {
     "name": "stderr",
     "output_type": "stream",
     "text": [
      "INFO:tensorflow:Assets written to: /home/katril18/DOC_prev_code/plankton_classification/models/densenet/wandb/run-20240523_090910-2yduig3g/files/model-best/assets\n",
      "\u001b[34m\u001b[1mwandb\u001b[0m: Adding directory to artifact (/home/katril18/DOC_prev_code/plankton_classification/models/densenet/wandb/run-20240523_090910-2yduig3g/files/model-best)... Done. 0.3s\n"
     ]
    },
    {
     "name": "stdout",
     "output_type": "stream",
     "text": [
      "6734/6734 [==============================] - 742s 110ms/step - loss: 0.7713 - accuracy: 0.7358 - val_loss: 0.3763 - val_accuracy: 0.8707 - lr: 0.0010\n",
      "Epoch 3/40\n",
      "6734/6734 [==============================] - ETA: 0s - loss: 0.6954 - accuracy: 0.7633INFO:tensorflow:Assets written to: /home/katril18/DOC_prev_code/plankton_classification/models/densenet/wandb/run-20240523_090910-2yduig3g/files/model-best/assets\n"
     ]
    },
    {
     "name": "stderr",
     "output_type": "stream",
     "text": [
      "INFO:tensorflow:Assets written to: /home/katril18/DOC_prev_code/plankton_classification/models/densenet/wandb/run-20240523_090910-2yduig3g/files/model-best/assets\n",
      "\u001b[34m\u001b[1mwandb\u001b[0m: Adding directory to artifact (/home/katril18/DOC_prev_code/plankton_classification/models/densenet/wandb/run-20240523_090910-2yduig3g/files/model-best)... Done. 0.3s\n"
     ]
    },
    {
     "name": "stdout",
     "output_type": "stream",
     "text": [
      "6734/6734 [==============================] - 736s 109ms/step - loss: 0.6954 - accuracy: 0.7633 - val_loss: 0.3370 - val_accuracy: 0.8856 - lr: 0.0010\n",
      "Epoch 4/40\n",
      "6734/6734 [==============================] - ETA: 0s - loss: 0.6543 - accuracy: 0.7770INFO:tensorflow:Assets written to: /home/katril18/DOC_prev_code/plankton_classification/models/densenet/wandb/run-20240523_090910-2yduig3g/files/model-best/assets\n"
     ]
    },
    {
     "name": "stderr",
     "output_type": "stream",
     "text": [
      "INFO:tensorflow:Assets written to: /home/katril18/DOC_prev_code/plankton_classification/models/densenet/wandb/run-20240523_090910-2yduig3g/files/model-best/assets\n",
      "\u001b[34m\u001b[1mwandb\u001b[0m: Adding directory to artifact (/home/katril18/DOC_prev_code/plankton_classification/models/densenet/wandb/run-20240523_090910-2yduig3g/files/model-best)... Done. 0.3s\n"
     ]
    },
    {
     "name": "stdout",
     "output_type": "stream",
     "text": [
      "6734/6734 [==============================] - 747s 111ms/step - loss: 0.6543 - accuracy: 0.7770 - val_loss: 0.3149 - val_accuracy: 0.8937 - lr: 0.0010\n",
      "Epoch 5/40\n",
      "6734/6734 [==============================] - 703s 104ms/step - loss: 0.6225 - accuracy: 0.7874 - val_loss: 0.3176 - val_accuracy: 0.8932 - lr: 0.0010\n",
      "Epoch 6/40\n",
      "6734/6734 [==============================] - ETA: 0s - loss: 0.6006 - accuracy: 0.7950INFO:tensorflow:Assets written to: /home/katril18/DOC_prev_code/plankton_classification/models/densenet/wandb/run-20240523_090910-2yduig3g/files/model-best/assets\n"
     ]
    },
    {
     "name": "stderr",
     "output_type": "stream",
     "text": [
      "INFO:tensorflow:Assets written to: /home/katril18/DOC_prev_code/plankton_classification/models/densenet/wandb/run-20240523_090910-2yduig3g/files/model-best/assets\n",
      "\u001b[34m\u001b[1mwandb\u001b[0m: Adding directory to artifact (/home/katril18/DOC_prev_code/plankton_classification/models/densenet/wandb/run-20240523_090910-2yduig3g/files/model-best)... Done. 0.3s\n"
     ]
    },
    {
     "name": "stdout",
     "output_type": "stream",
     "text": [
      "6734/6734 [==============================] - 742s 110ms/step - loss: 0.6006 - accuracy: 0.7950 - val_loss: 0.2799 - val_accuracy: 0.9088 - lr: 0.0010\n",
      "Epoch 7/40\n",
      "6734/6734 [==============================] - 706s 105ms/step - loss: 0.5834 - accuracy: 0.8010 - val_loss: 0.2816 - val_accuracy: 0.9073 - lr: 0.0010\n",
      "Epoch 8/40\n",
      "6734/6734 [==============================] - ETA: 0s - loss: 0.5680 - accuracy: 0.8057INFO:tensorflow:Assets written to: /home/katril18/DOC_prev_code/plankton_classification/models/densenet/wandb/run-20240523_090910-2yduig3g/files/model-best/assets\n"
     ]
    },
    {
     "name": "stderr",
     "output_type": "stream",
     "text": [
      "INFO:tensorflow:Assets written to: /home/katril18/DOC_prev_code/plankton_classification/models/densenet/wandb/run-20240523_090910-2yduig3g/files/model-best/assets\n",
      "\u001b[34m\u001b[1mwandb\u001b[0m: Adding directory to artifact (/home/katril18/DOC_prev_code/plankton_classification/models/densenet/wandb/run-20240523_090910-2yduig3g/files/model-best)... Done. 0.3s\n"
     ]
    },
    {
     "name": "stdout",
     "output_type": "stream",
     "text": [
      "6734/6734 [==============================] - 750s 111ms/step - loss: 0.5680 - accuracy: 0.8057 - val_loss: 0.2671 - val_accuracy: 0.9116 - lr: 0.0010\n",
      "Epoch 9/40\n",
      "6734/6734 [==============================] - 704s 105ms/step - loss: 0.5563 - accuracy: 0.8100 - val_loss: 0.2714 - val_accuracy: 0.9104 - lr: 0.0010\n",
      "Epoch 10/40\n",
      "6734/6734 [==============================] - ETA: 0s - loss: 0.5443 - accuracy: 0.8136INFO:tensorflow:Assets written to: /home/katril18/DOC_prev_code/plankton_classification/models/densenet/wandb/run-20240523_090910-2yduig3g/files/model-best/assets\n"
     ]
    },
    {
     "name": "stderr",
     "output_type": "stream",
     "text": [
      "INFO:tensorflow:Assets written to: /home/katril18/DOC_prev_code/plankton_classification/models/densenet/wandb/run-20240523_090910-2yduig3g/files/model-best/assets\n",
      "\u001b[34m\u001b[1mwandb\u001b[0m: Adding directory to artifact (/home/katril18/DOC_prev_code/plankton_classification/models/densenet/wandb/run-20240523_090910-2yduig3g/files/model-best)... Done. 0.3s\n"
     ]
    },
    {
     "name": "stdout",
     "output_type": "stream",
     "text": [
      "6734/6734 [==============================] - 747s 111ms/step - loss: 0.5443 - accuracy: 0.8136 - val_loss: 0.2660 - val_accuracy: 0.9140 - lr: 0.0010\n",
      "Epoch 11/40\n",
      "6734/6734 [==============================] - 708s 105ms/step - loss: 0.5345 - accuracy: 0.8169 - val_loss: 0.2672 - val_accuracy: 0.9121 - lr: 0.0010\n",
      "Epoch 12/40\n",
      "6734/6734 [==============================] - ETA: 0s - loss: 0.5254 - accuracy: 0.8207INFO:tensorflow:Assets written to: /home/katril18/DOC_prev_code/plankton_classification/models/densenet/wandb/run-20240523_090910-2yduig3g/files/model-best/assets\n"
     ]
    },
    {
     "name": "stderr",
     "output_type": "stream",
     "text": [
      "INFO:tensorflow:Assets written to: /home/katril18/DOC_prev_code/plankton_classification/models/densenet/wandb/run-20240523_090910-2yduig3g/files/model-best/assets\n",
      "\u001b[34m\u001b[1mwandb\u001b[0m: Adding directory to artifact (/home/katril18/DOC_prev_code/plankton_classification/models/densenet/wandb/run-20240523_090910-2yduig3g/files/model-best)... Done. 0.3s\n"
     ]
    },
    {
     "name": "stdout",
     "output_type": "stream",
     "text": [
      "6734/6734 [==============================] - 745s 111ms/step - loss: 0.5254 - accuracy: 0.8207 - val_loss: 0.2552 - val_accuracy: 0.9165 - lr: 0.0010\n",
      "Epoch 13/40\n",
      "6734/6734 [==============================] - ETA: 0s - loss: 0.5175 - accuracy: 0.8219INFO:tensorflow:Assets written to: /home/katril18/DOC_prev_code/plankton_classification/models/densenet/wandb/run-20240523_090910-2yduig3g/files/model-best/assets\n"
     ]
    },
    {
     "name": "stderr",
     "output_type": "stream",
     "text": [
      "INFO:tensorflow:Assets written to: /home/katril18/DOC_prev_code/plankton_classification/models/densenet/wandb/run-20240523_090910-2yduig3g/files/model-best/assets\n",
      "\u001b[34m\u001b[1mwandb\u001b[0m: Adding directory to artifact (/home/katril18/DOC_prev_code/plankton_classification/models/densenet/wandb/run-20240523_090910-2yduig3g/files/model-best)... Done. 0.3s\n"
     ]
    },
    {
     "name": "stdout",
     "output_type": "stream",
     "text": [
      "6734/6734 [==============================] - 744s 110ms/step - loss: 0.5175 - accuracy: 0.8219 - val_loss: 0.2528 - val_accuracy: 0.9187 - lr: 0.0010\n",
      "Epoch 14/40\n",
      "6734/6734 [==============================] - 707s 105ms/step - loss: 0.5097 - accuracy: 0.8247 - val_loss: 0.2582 - val_accuracy: 0.9169 - lr: 0.0010\n",
      "Epoch 15/40\n",
      "6734/6734 [==============================] - 716s 106ms/step - loss: 0.5047 - accuracy: 0.8274 - val_loss: 0.2577 - val_accuracy: 0.9162 - lr: 0.0010\n",
      "Epoch 16/40\n",
      "6734/6734 [==============================] - ETA: 0s - loss: 0.4962 - accuracy: 0.8298INFO:tensorflow:Assets written to: /home/katril18/DOC_prev_code/plankton_classification/models/densenet/wandb/run-20240523_090910-2yduig3g/files/model-best/assets\n"
     ]
    },
    {
     "name": "stderr",
     "output_type": "stream",
     "text": [
      "INFO:tensorflow:Assets written to: /home/katril18/DOC_prev_code/plankton_classification/models/densenet/wandb/run-20240523_090910-2yduig3g/files/model-best/assets\n",
      "\u001b[34m\u001b[1mwandb\u001b[0m: Adding directory to artifact (/home/katril18/DOC_prev_code/plankton_classification/models/densenet/wandb/run-20240523_090910-2yduig3g/files/model-best)... Done. 0.2s\n"
     ]
    },
    {
     "name": "stdout",
     "output_type": "stream",
     "text": [
      "6734/6734 [==============================] - 768s 114ms/step - loss: 0.4962 - accuracy: 0.8298 - val_loss: 0.2516 - val_accuracy: 0.9191 - lr: 0.0010\n",
      "Epoch 17/40\n",
      "6734/6734 [==============================] - 716s 106ms/step - loss: 0.4917 - accuracy: 0.8310 - val_loss: 0.2556 - val_accuracy: 0.9179 - lr: 0.0010\n",
      "Epoch 18/40\n",
      "6734/6734 [==============================] - ETA: 0s - loss: 0.4868 - accuracy: 0.8331INFO:tensorflow:Assets written to: /home/katril18/DOC_prev_code/plankton_classification/models/densenet/wandb/run-20240523_090910-2yduig3g/files/model-best/assets\n"
     ]
    },
    {
     "name": "stderr",
     "output_type": "stream",
     "text": [
      "INFO:tensorflow:Assets written to: /home/katril18/DOC_prev_code/plankton_classification/models/densenet/wandb/run-20240523_090910-2yduig3g/files/model-best/assets\n",
      "\u001b[34m\u001b[1mwandb\u001b[0m: Adding directory to artifact (/home/katril18/DOC_prev_code/plankton_classification/models/densenet/wandb/run-20240523_090910-2yduig3g/files/model-best)... Done. 0.2s\n"
     ]
    },
    {
     "name": "stdout",
     "output_type": "stream",
     "text": [
      "6734/6734 [==============================] - 747s 111ms/step - loss: 0.4868 - accuracy: 0.8331 - val_loss: 0.2503 - val_accuracy: 0.9209 - lr: 0.0010\n",
      "Epoch 19/40\n",
      "6734/6734 [==============================] - 706s 105ms/step - loss: 0.4801 - accuracy: 0.8348 - val_loss: 0.2510 - val_accuracy: 0.9195 - lr: 0.0010\n",
      "Epoch 20/40\n",
      "6734/6734 [==============================] - ETA: 0s - loss: 0.4763 - accuracy: 0.8362INFO:tensorflow:Assets written to: /home/katril18/DOC_prev_code/plankton_classification/models/densenet/wandb/run-20240523_090910-2yduig3g/files/model-best/assets\n"
     ]
    },
    {
     "name": "stderr",
     "output_type": "stream",
     "text": [
      "INFO:tensorflow:Assets written to: /home/katril18/DOC_prev_code/plankton_classification/models/densenet/wandb/run-20240523_090910-2yduig3g/files/model-best/assets\n",
      "\u001b[34m\u001b[1mwandb\u001b[0m: Adding directory to artifact (/home/katril18/DOC_prev_code/plankton_classification/models/densenet/wandb/run-20240523_090910-2yduig3g/files/model-best)... Done. 0.2s\n"
     ]
    },
    {
     "name": "stdout",
     "output_type": "stream",
     "text": [
      "6734/6734 [==============================] - 773s 115ms/step - loss: 0.4763 - accuracy: 0.8362 - val_loss: 0.2492 - val_accuracy: 0.9207 - lr: 0.0010\n",
      "Epoch 21/40\n",
      "6734/6734 [==============================] - ETA: 0s - loss: 0.4727 - accuracy: 0.8371INFO:tensorflow:Assets written to: /home/katril18/DOC_prev_code/plankton_classification/models/densenet/wandb/run-20240523_090910-2yduig3g/files/model-best/assets\n"
     ]
    },
    {
     "name": "stderr",
     "output_type": "stream",
     "text": [
      "INFO:tensorflow:Assets written to: /home/katril18/DOC_prev_code/plankton_classification/models/densenet/wandb/run-20240523_090910-2yduig3g/files/model-best/assets\n",
      "\u001b[34m\u001b[1mwandb\u001b[0m: Adding directory to artifact (/home/katril18/DOC_prev_code/plankton_classification/models/densenet/wandb/run-20240523_090910-2yduig3g/files/model-best)... Done. 0.3s\n"
     ]
    },
    {
     "name": "stdout",
     "output_type": "stream",
     "text": [
      "6734/6734 [==============================] - 744s 110ms/step - loss: 0.4727 - accuracy: 0.8371 - val_loss: 0.2439 - val_accuracy: 0.9209 - lr: 0.0010\n",
      "Epoch 22/40\n",
      "6734/6734 [==============================] - 708s 105ms/step - loss: 0.4683 - accuracy: 0.8393 - val_loss: 0.2440 - val_accuracy: 0.9216 - lr: 0.0010\n",
      "Epoch 23/40\n",
      "6734/6734 [==============================] - 706s 105ms/step - loss: 0.4644 - accuracy: 0.8402 - val_loss: 0.2496 - val_accuracy: 0.9201 - lr: 0.0010\n",
      "Epoch 24/40\n",
      "6734/6734 [==============================] - 711s 106ms/step - loss: 0.4599 - accuracy: 0.8410 - val_loss: 0.2463 - val_accuracy: 0.9199 - lr: 0.0010\n",
      "Epoch 25/40\n",
      "6734/6734 [==============================] - ETA: 0s - loss: 0.4311 - accuracy: 0.8512INFO:tensorflow:Assets written to: /home/katril18/DOC_prev_code/plankton_classification/models/densenet/wandb/run-20240523_090910-2yduig3g/files/model-best/assets\n"
     ]
    },
    {
     "name": "stderr",
     "output_type": "stream",
     "text": [
      "INFO:tensorflow:Assets written to: /home/katril18/DOC_prev_code/plankton_classification/models/densenet/wandb/run-20240523_090910-2yduig3g/files/model-best/assets\n",
      "\u001b[34m\u001b[1mwandb\u001b[0m: Adding directory to artifact (/home/katril18/DOC_prev_code/plankton_classification/models/densenet/wandb/run-20240523_090910-2yduig3g/files/model-best)... Done. 0.3s\n"
     ]
    },
    {
     "name": "stdout",
     "output_type": "stream",
     "text": [
      "6734/6734 [==============================] - 747s 111ms/step - loss: 0.4311 - accuracy: 0.8512 - val_loss: 0.2313 - val_accuracy: 0.9269 - lr: 1.0000e-04\n",
      "Epoch 26/40\n",
      "6734/6734 [==============================] - 708s 105ms/step - loss: 0.4211 - accuracy: 0.8538 - val_loss: 0.2411 - val_accuracy: 0.9273 - lr: 1.0000e-04\n",
      "Epoch 27/40\n",
      "6734/6734 [==============================] - 708s 105ms/step - loss: 0.4184 - accuracy: 0.8548 - val_loss: 0.2377 - val_accuracy: 0.9286 - lr: 1.0000e-04\n",
      "Epoch 28/40\n",
      "6734/6734 [==============================] - ETA: 0s - loss: 0.4147 - accuracy: 0.8566INFO:tensorflow:Assets written to: /home/katril18/DOC_prev_code/plankton_classification/models/densenet/wandb/run-20240523_090910-2yduig3g/files/model-best/assets\n"
     ]
    },
    {
     "name": "stderr",
     "output_type": "stream",
     "text": [
      "INFO:tensorflow:Assets written to: /home/katril18/DOC_prev_code/plankton_classification/models/densenet/wandb/run-20240523_090910-2yduig3g/files/model-best/assets\n",
      "\u001b[34m\u001b[1mwandb\u001b[0m: Adding directory to artifact (/home/katril18/DOC_prev_code/plankton_classification/models/densenet/wandb/run-20240523_090910-2yduig3g/files/model-best)... Done. 0.3s\n"
     ]
    },
    {
     "name": "stdout",
     "output_type": "stream",
     "text": [
      "6734/6734 [==============================] - 752s 112ms/step - loss: 0.4147 - accuracy: 0.8566 - val_loss: 0.2285 - val_accuracy: 0.9281 - lr: 1.0000e-04\n",
      "Epoch 29/40\n",
      "6734/6734 [==============================] - 704s 105ms/step - loss: 0.4127 - accuracy: 0.8573 - val_loss: 0.2332 - val_accuracy: 0.9283 - lr: 1.0000e-04\n",
      "Epoch 30/40\n",
      "6734/6734 [==============================] - ETA: 0s - loss: 0.4113 - accuracy: 0.8575INFO:tensorflow:Assets written to: /home/katril18/DOC_prev_code/plankton_classification/models/densenet/wandb/run-20240523_090910-2yduig3g/files/model-best/assets\n"
     ]
    },
    {
     "name": "stderr",
     "output_type": "stream",
     "text": [
      "INFO:tensorflow:Assets written to: /home/katril18/DOC_prev_code/plankton_classification/models/densenet/wandb/run-20240523_090910-2yduig3g/files/model-best/assets\n",
      "\u001b[34m\u001b[1mwandb\u001b[0m: Adding directory to artifact (/home/katril18/DOC_prev_code/plankton_classification/models/densenet/wandb/run-20240523_090910-2yduig3g/files/model-best)... Done. 0.3s\n"
     ]
    },
    {
     "name": "stdout",
     "output_type": "stream",
     "text": [
      "6734/6734 [==============================] - 746s 111ms/step - loss: 0.4113 - accuracy: 0.8575 - val_loss: 0.2273 - val_accuracy: 0.9288 - lr: 1.0000e-04\n",
      "Epoch 31/40\n",
      "6734/6734 [==============================] - 702s 104ms/step - loss: 0.4102 - accuracy: 0.8583 - val_loss: 0.2322 - val_accuracy: 0.9287 - lr: 1.0000e-04\n",
      "Epoch 32/40\n",
      "6734/6734 [==============================] - 706s 105ms/step - loss: 0.4086 - accuracy: 0.8595 - val_loss: 0.2297 - val_accuracy: 0.9294 - lr: 1.0000e-04\n",
      "Epoch 33/40\n",
      "6734/6734 [==============================] - 704s 105ms/step - loss: 0.4069 - accuracy: 0.8593 - val_loss: 0.2274 - val_accuracy: 0.9302 - lr: 1.0000e-04\n",
      "Epoch 34/40\n",
      "6734/6734 [==============================] - ETA: 0s - loss: 0.4027 - accuracy: 0.8610INFO:tensorflow:Assets written to: /home/katril18/DOC_prev_code/plankton_classification/models/densenet/wandb/run-20240523_090910-2yduig3g/files/model-best/assets\n"
     ]
    },
    {
     "name": "stderr",
     "output_type": "stream",
     "text": [
      "INFO:tensorflow:Assets written to: /home/katril18/DOC_prev_code/plankton_classification/models/densenet/wandb/run-20240523_090910-2yduig3g/files/model-best/assets\n",
      "\u001b[34m\u001b[1mwandb\u001b[0m: Adding directory to artifact (/home/katril18/DOC_prev_code/plankton_classification/models/densenet/wandb/run-20240523_090910-2yduig3g/files/model-best)... Done. 0.3s\n"
     ]
    },
    {
     "name": "stdout",
     "output_type": "stream",
     "text": [
      "6734/6734 [==============================] - 750s 111ms/step - loss: 0.4027 - accuracy: 0.8610 - val_loss: 0.2238 - val_accuracy: 0.9299 - lr: 1.0000e-05\n",
      "Epoch 35/40\n",
      "6734/6734 [==============================] - 707s 105ms/step - loss: 0.4021 - accuracy: 0.8609 - val_loss: 0.2281 - val_accuracy: 0.9292 - lr: 1.0000e-05\n",
      "Epoch 36/40\n",
      "6734/6734 [==============================] - 693s 103ms/step - loss: 0.4007 - accuracy: 0.8611 - val_loss: 0.2275 - val_accuracy: 0.9294 - lr: 1.0000e-05\n",
      "Epoch 37/40\n",
      "6734/6734 [==============================] - 707s 105ms/step - loss: 0.4029 - accuracy: 0.8605 - val_loss: 0.2242 - val_accuracy: 0.9297 - lr: 1.0000e-05\n",
      "Epoch 38/40\n",
      "6734/6734 [==============================] - 735s 109ms/step - loss: 0.4019 - accuracy: 0.8609 - val_loss: 0.2256 - val_accuracy: 0.9293 - lr: 1.0000e-05\n",
      "Epoch 39/40\n",
      "6734/6734 [==============================] - 703s 104ms/step - loss: 0.4019 - accuracy: 0.8604 - val_loss: 0.2269 - val_accuracy: 0.9295 - lr: 1.0000e-05\n"
     ]
    },
    {
     "data": {
      "text/plain": [
       "<keras.callbacks.History at 0x7fb67b301e10>"
      ]
     },
     "execution_count": 5,
     "metadata": {},
     "output_type": "execute_result"
    }
   ],
   "source": [
    "model.fit(train_ds, epochs=cfg.epochs, batch_size=128, verbose=cfg.verbose, validation_data=val_ds, callbacks=callbacks) # train the model"
   ]
  },
  {
   "cell_type": "code",
   "execution_count": 6,
   "id": "d819feca-7979-484d-9c19-2fe19d7d4600",
   "metadata": {},
   "outputs": [
    {
     "data": {
      "text/html": [
       "W&B sync reduced upload amount by 1.1%             "
      ],
      "text/plain": [
       "<IPython.core.display.HTML object>"
      ]
     },
     "metadata": {},
     "output_type": "display_data"
    },
    {
     "data": {
      "text/html": [
       "<style>\n",
       "    table.wandb td:nth-child(1) { padding: 0 10px; text-align: left ; width: auto;} td:nth-child(2) {text-align: left ; width: 100%}\n",
       "    .wandb-row { display: flex; flex-direction: row; flex-wrap: wrap; justify-content: flex-start; width: 100% }\n",
       "    .wandb-col { display: flex; flex-direction: column; flex-basis: 100%; flex: 1; padding: 10px; }\n",
       "    </style>\n",
       "<div class=\"wandb-row\"><div class=\"wandb-col\"><h3>Run history:</h3><br/><table class=\"wandb\"><tr><td>accuracy</td><td>▁▄▅▅▅▆▆▆▆▆▆▇▇▇▇▇▇▇▇▇▇▇▇▇███████████████</td></tr><tr><td>epoch</td><td>▁▁▁▂▂▂▂▂▂▃▃▃▃▃▄▄▄▄▄▅▅▅▅▅▅▆▆▆▆▆▇▇▇▇▇▇███</td></tr><tr><td>loss</td><td>█▅▄▄▄▃▃▃▃▃▃▂▂▂▂▂▂▂▂▂▂▂▂▂▁▁▁▁▁▁▁▁▁▁▁▁▁▁▁</td></tr><tr><td>val_accuracy</td><td>▁▃▄▅▅▆▆▆▆▇▆▇▇▇▇▇▇▇▇▇▇▇▇▇███████████████</td></tr><tr><td>val_loss</td><td>█▆▅▄▄▃▃▂▂▂▂▂▂▂▂▂▂▂▂▂▂▂▂▂▁▂▁▁▁▁▁▁▁▁▁▁▁▁▁</td></tr></table><br/></div><div class=\"wandb-col\"><h3>Run summary:</h3><br/><table class=\"wandb\"><tr><td>accuracy</td><td>0.8604</td></tr><tr><td>best_epoch</td><td>33</td></tr><tr><td>best_val_loss</td><td>0.22379</td></tr><tr><td>epoch</td><td>38</td></tr><tr><td>loss</td><td>0.40188</td></tr><tr><td>val_accuracy</td><td>0.92947</td></tr><tr><td>val_loss</td><td>0.22692</td></tr></table><br/></div></div>"
      ],
      "text/plain": [
       "<IPython.core.display.HTML object>"
      ]
     },
     "metadata": {},
     "output_type": "display_data"
    },
    {
     "data": {
      "text/html": [
       " View run <strong style=\"color:#cdcd00\">comic-grass-27</strong> at: <a href='https://wandb.ai/katrinamaster/DenseNet/runs/2yduig3g' target=\"_blank\">https://wandb.ai/katrinamaster/DenseNet/runs/2yduig3g</a><br/> View project at: <a href='https://wandb.ai/katrinamaster/DenseNet' target=\"_blank\">https://wandb.ai/katrinamaster/DenseNet</a><br/>Synced 5 W&B file(s), 1 media file(s), 85 artifact file(s) and 1 other file(s)"
      ],
      "text/plain": [
       "<IPython.core.display.HTML object>"
      ]
     },
     "metadata": {},
     "output_type": "display_data"
    },
    {
     "data": {
      "text/html": [
       "Find logs at: <code>./wandb/run-20240523_090910-2yduig3g/logs</code>"
      ],
      "text/plain": [
       "<IPython.core.display.HTML object>"
      ]
     },
     "metadata": {},
     "output_type": "display_data"
    }
   ],
   "source": [
    "wandb.finish()"
   ]
  }
 ],
 "metadata": {
  "kernelspec": {
   "display_name": "Python 3 (ipykernel)",
   "language": "python",
   "name": "python3"
  },
  "language_info": {
   "codemirror_mode": {
    "name": "ipython",
    "version": 3
   },
   "file_extension": ".py",
   "mimetype": "text/x-python",
   "name": "python",
   "nbconvert_exporter": "python",
   "pygments_lexer": "ipython3",
   "version": "3.10.12"
  },
  "vscode": {
   "interpreter": {
    "hash": "705981ebfef8414934dd4135383ecdf26fe8fa6933659ee4e9a6df233986ed45"
   }
  }
 },
 "nbformat": 4,
 "nbformat_minor": 5
}
