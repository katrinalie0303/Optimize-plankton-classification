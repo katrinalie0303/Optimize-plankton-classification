{
 "cells": [
  {
   "cell_type": "code",
   "execution_count": 1,
   "id": "21282e9e",
   "metadata": {
    "editable": true,
    "slideshow": {
     "slide_type": ""
    },
    "tags": []
   },
   "outputs": [
    {
     "name": "stderr",
     "output_type": "stream",
     "text": [
      "2024-05-22 13:29:04.090628: E tensorflow/compiler/xla/stream_executor/cuda/cuda_dnn.cc:9360] Unable to register cuDNN factory: Attempting to register factory for plugin cuDNN when one has already been registered\n",
      "2024-05-22 13:29:04.090674: E tensorflow/compiler/xla/stream_executor/cuda/cuda_fft.cc:609] Unable to register cuFFT factory: Attempting to register factory for plugin cuFFT when one has already been registered\n",
      "2024-05-22 13:29:04.090714: E tensorflow/compiler/xla/stream_executor/cuda/cuda_blas.cc:1537] Unable to register cuBLAS factory: Attempting to register factory for plugin cuBLAS when one has already been registered\n",
      "2024-05-22 13:29:04.100641: I tensorflow/core/platform/cpu_feature_guard.cc:183] This TensorFlow binary is optimized to use available CPU instructions in performance-critical operations.\n",
      "To enable the following instructions: SSE3 SSE4.1 SSE4.2 AVX, in other operations, rebuild TensorFlow with the appropriate compiler flags.\n"
     ]
    }
   ],
   "source": [
    "import tensorflow as tf\n",
    "from tensorflow import keras\n",
    "import matplotlib.pyplot as plt\n",
    "from mobilenet_models import create_mobilenetv3_large_model, create_mobilenetv3_large_model_opt_weights, create_mobilenetv3_large_model_opt\n",
    "import wandb\n",
    "from wandb.keras import WandbCallback\n",
    "import os"
   ]
  },
  {
   "cell_type": "code",
   "execution_count": 2,
   "id": "93aa7aa1",
   "metadata": {},
   "outputs": [
    {
     "name": "stdout",
     "output_type": "stream",
     "text": [
      "Found 430968 files belonging to 12 classes.\n"
     ]
    },
    {
     "name": "stderr",
     "output_type": "stream",
     "text": [
      "2024-05-22 13:29:43.549222: I tensorflow/core/common_runtime/gpu/gpu_device.cc:1883] Created device /job:localhost/replica:0/task:0/device:GPU:0 with 31127 MB memory:  -> device: 0, name: Tesla V100-SXM3-32GB, pci bus id: 0000:5c:00.0, compute capability: 7.0\n"
     ]
    },
    {
     "name": "stdout",
     "output_type": "stream",
     "text": [
      "Found 37219 files belonging to 12 classes.\n"
     ]
    }
   ],
   "source": [
    "train_ds = keras.utils.image_dataset_from_directory(\n",
    "    directory=\"../../../organized_dataset_v7/dataset/train\",\n",
    "    labels='inferred',\n",
    "    label_mode='categorical',\n",
    "    shuffle=True,\n",
    "    batch_size=32,\n",
    "    image_size=(224, 224)\n",
    "    )\n",
    "val_ds = keras.utils.image_dataset_from_directory(\n",
    "    directory=\"../../../organized_dataset_v7/dataset/val\",\n",
    "    labels='inferred',\n",
    "    label_mode='categorical',\n",
    "    shuffle=True,\n",
    "    batch_size=32,\n",
    "    image_size=(224, 224)\n",
    "    )"
   ]
  },
  {
   "cell_type": "code",
   "execution_count": 5,
   "id": "c2227f7e-c095-43b2-b2bb-3b97b97a4f2a",
   "metadata": {},
   "outputs": [
    {
     "name": "stdout",
     "output_type": "stream",
     "text": [
      "Found 964178 files belonging to 73 classes.\n"
     ]
    },
    {
     "name": "stderr",
     "output_type": "stream",
     "text": [
      "2024-05-16 17:44:45.147943: I tensorflow/core/common_runtime/gpu/gpu_device.cc:1883] Created device /job:localhost/replica:0/task:0/device:GPU:0 with 31127 MB memory:  -> device: 0, name: Tesla V100-SXM3-32GB, pci bus id: 0000:5c:00.0, compute capability: 7.0\n"
     ]
    },
    {
     "name": "stdout",
     "output_type": "stream",
     "text": [
      "Found 120495 files belonging to 73 classes.\n"
     ]
    }
   ],
   "source": [
    "train_ds = keras.utils.image_dataset_from_directory(\n",
    "    directory=\"../../dataset/global_all/train\",\n",
    "    labels='inferred',\n",
    "    label_mode='categorical',\n",
    "    shuffle=True,\n",
    "    batch_size=128,\n",
    "    image_size=(224, 224)\n",
    "    )\n",
    "val_ds = keras.utils.image_dataset_from_directory(\n",
    "    directory=\"../../dataset/global_all/val\",\n",
    "    labels='inferred',\n",
    "    label_mode='categorical',\n",
    "    shuffle=True,\n",
    "    batch_size=128,\n",
    "    image_size=(224, 224)\n",
    "    )"
   ]
  },
  {
   "cell_type": "code",
   "execution_count": 2,
   "id": "c44b4f6c-ec15-4f88-af17-2cb8e5e67ee4",
   "metadata": {},
   "outputs": [
    {
     "name": "stdout",
     "output_type": "stream",
     "text": [
      "Found 312645 files belonging to 73 classes.\n"
     ]
    },
    {
     "name": "stderr",
     "output_type": "stream",
     "text": [
      "2024-05-20 20:19:09.663937: I tensorflow/core/common_runtime/gpu/gpu_device.cc:1883] Created device /job:localhost/replica:0/task:0/device:GPU:0 with 31125 MB memory:  -> device: 0, name: Tesla V100-SXM3-32GB, pci bus id: 0000:5c:00.0, compute capability: 7.0\n"
     ]
    },
    {
     "name": "stdout",
     "output_type": "stream",
     "text": [
      "Found 50568 files belonging to 73 classes.\n"
     ]
    }
   ],
   "source": [
    "train_ds = keras.utils.image_dataset_from_directory(\n",
    "    directory=\"../../dataset/global_15k/train\",\n",
    "    labels='inferred',\n",
    "    label_mode='categorical',\n",
    "    shuffle=True,\n",
    "    batch_size=128,\n",
    "    image_size=(224, 224)\n",
    "    )\n",
    "val_ds = keras.utils.image_dataset_from_directory(\n",
    "    directory=\"../../dataset/global_15k/val\",\n",
    "    labels='inferred',\n",
    "    label_mode='categorical',\n",
    "    shuffle=True,\n",
    "    batch_size=128,\n",
    "    image_size=(224, 224)\n",
    "    )"
   ]
  },
  {
   "cell_type": "markdown",
   "id": "11178e12-ec99-4d25-934d-18f791123338",
   "metadata": {},
   "source": [
    "# MobileNetv3 Large"
   ]
  },
  {
   "cell_type": "code",
   "execution_count": 3,
   "id": "30d0c810",
   "metadata": {},
   "outputs": [
    {
     "name": "stderr",
     "output_type": "stream",
     "text": [
      "\u001b[34m\u001b[1mwandb\u001b[0m: Currently logged in as: \u001b[33mkatrinalie\u001b[0m (\u001b[33mkatrinamaster\u001b[0m). Use \u001b[1m`wandb login --relogin`\u001b[0m to force relogin\n"
     ]
    },
    {
     "data": {
      "text/html": [
       "Tracking run with wandb version 0.16.6"
      ],
      "text/plain": [
       "<IPython.core.display.HTML object>"
      ]
     },
     "metadata": {},
     "output_type": "display_data"
    },
    {
     "data": {
      "text/html": [
       "Run data is saved locally in <code>/home/katril18/DOC_prev_code/plankton_classification/models/mobilenet/wandb/run-20240505_163846-j4n63m90</code>"
      ],
      "text/plain": [
       "<IPython.core.display.HTML object>"
      ]
     },
     "metadata": {},
     "output_type": "display_data"
    },
    {
     "data": {
      "text/html": [
       "Syncing run <strong><a href='https://wandb.ai/katrinamaster/MobileNet/runs/j4n63m90' target=\"_blank\">mythical-cruiser-6</a></strong> to <a href='https://wandb.ai/katrinamaster/MobileNet' target=\"_blank\">Weights & Biases</a> (<a href='https://wandb.me/run' target=\"_blank\">docs</a>)<br/>"
      ],
      "text/plain": [
       "<IPython.core.display.HTML object>"
      ]
     },
     "metadata": {},
     "output_type": "display_data"
    },
    {
     "data": {
      "text/html": [
       " View project at <a href='https://wandb.ai/katrinamaster/MobileNet' target=\"_blank\">https://wandb.ai/katrinamaster/MobileNet</a>"
      ],
      "text/plain": [
       "<IPython.core.display.HTML object>"
      ]
     },
     "metadata": {},
     "output_type": "display_data"
    },
    {
     "data": {
      "text/html": [
       " View run at <a href='https://wandb.ai/katrinamaster/MobileNet/runs/j4n63m90' target=\"_blank\">https://wandb.ai/katrinamaster/MobileNet/runs/j4n63m90</a>"
      ],
      "text/plain": [
       "<IPython.core.display.HTML object>"
      ]
     },
     "metadata": {},
     "output_type": "display_data"
    }
   ],
   "source": [
    "# initialize wandb\n",
    "wandb.init(project=\"MobileNet\", config={\"learning_rate\": 0.001, \"epochs\": 30, \"verbose\": 1,\"name\": \"MobileNetV3Large\", \"architecture\": \"MobileNetV3Large\"})\n",
    "\n",
    "# configs\n",
    "cfg = wandb.config\n",
    "\n",
    "# create the model\n",
    "model = create_mobilenetv3_large_model(len(train_ds.class_names))"
   ]
  },
  {
   "cell_type": "code",
   "execution_count": 4,
   "id": "c7fe5aea",
   "metadata": {},
   "outputs": [
    {
     "name": "stderr",
     "output_type": "stream",
     "text": [
      "\u001b[34m\u001b[1mwandb\u001b[0m: \u001b[33mWARNING\u001b[0m The save_model argument by default saves the model in the HDF5 format that cannot save custom objects like subclassed models and custom layers. This behavior will be deprecated in a future release in favor of the SavedModel format. Meanwhile, the HDF5 model is saved as W&B files and the SavedModel as W&B Artifacts.\n"
     ]
    }
   ],
   "source": [
    "# list of callbacks\n",
    "callbacks = [\n",
    "            WandbCallback(mode=\"min\", monitor=\"val_loss\", save_graph=True),\n",
    "            tf.keras.callbacks.ReduceLROnPlateau(monitor='val_loss', factor=0.1,\n",
    "                              patience=3, min_lr=0.00001),\n",
    "            tf.keras.callbacks.EarlyStopping(monitor='val_loss', patience=5),\n",
    "          ]"
   ]
  },
  {
   "cell_type": "code",
   "execution_count": 5,
   "id": "46546456",
   "metadata": {
    "scrolled": true
   },
   "outputs": [
    {
     "name": "stdout",
     "output_type": "stream",
     "text": [
      "Epoch 1/30\n"
     ]
    },
    {
     "name": "stderr",
     "output_type": "stream",
     "text": [
      "2024-05-05 16:48:41.971596: I tensorflow/compiler/xla/stream_executor/cuda/cuda_dnn.cc:442] Loaded cuDNN version 8907\n",
      "2024-05-05 16:48:43.330020: I tensorflow/compiler/xla/service/service.cc:168] XLA service 0x7f1e04fb7610 initialized for platform CUDA (this does not guarantee that XLA will be used). Devices:\n",
      "2024-05-05 16:48:43.330056: I tensorflow/compiler/xla/service/service.cc:176]   StreamExecutor device (0): Tesla V100-SXM3-32GB, Compute Capability 7.0\n",
      "2024-05-05 16:48:43.335967: I tensorflow/compiler/mlir/tensorflow/utils/dump_mlir_util.cc:269] disabling MLIR crash reproducer, set env var `MLIR_CRASH_REPRODUCER_DIRECTORY` to enable.\n",
      "2024-05-05 16:48:43.429527: I ./tensorflow/compiler/jit/device_compiler.h:186] Compiled cluster using XLA!  This line is logged at most once for the lifetime of the process.\n"
     ]
    },
    {
     "name": "stdout",
     "output_type": "stream",
     "text": [
      "29644/29644 [==============================] - ETA: 0s - loss: 0.6991 - accuracy: 0.7934INFO:tensorflow:Assets written to: /home/katril18/DOC_prev_code/plankton_classification/models/mobilenet/wandb/run-20240505_163846-j4n63m90/files/model-best/assets\n"
     ]
    },
    {
     "name": "stderr",
     "output_type": "stream",
     "text": [
      "INFO:tensorflow:Assets written to: /home/katril18/DOC_prev_code/plankton_classification/models/mobilenet/wandb/run-20240505_163846-j4n63m90/files/model-best/assets\n",
      "\u001b[34m\u001b[1mwandb\u001b[0m: Adding directory to artifact (/home/katril18/DOC_prev_code/plankton_classification/models/mobilenet/wandb/run-20240505_163846-j4n63m90/files/model-best)... Done. 0.1s\n"
     ]
    },
    {
     "name": "stdout",
     "output_type": "stream",
     "text": [
      "29644/29644 [==============================] - 765s 26ms/step - loss: 0.6991 - accuracy: 0.7934 - val_loss: 0.5135 - val_accuracy: 0.8456 - lr: 0.0010\n",
      "Epoch 2/30\n",
      "29644/29644 [==============================] - 739s 25ms/step - loss: 0.6529 - accuracy: 0.8120 - val_loss: 0.5152 - val_accuracy: 0.8499 - lr: 0.0010\n",
      "Epoch 3/30\n",
      "29644/29644 [==============================] - 736s 25ms/step - loss: 0.6582 - accuracy: 0.8148 - val_loss: 0.5380 - val_accuracy: 0.8480 - lr: 0.0010\n",
      "Epoch 4/30\n",
      "29644/29644 [==============================] - 744s 25ms/step - loss: 0.6698 - accuracy: 0.8163 - val_loss: 0.5485 - val_accuracy: 0.8462 - lr: 0.0010\n",
      "Epoch 5/30\n",
      "29644/29644 [==============================] - ETA: 0s - loss: 0.5691 - accuracy: 0.8400INFO:tensorflow:Assets written to: /home/katril18/DOC_prev_code/plankton_classification/models/mobilenet/wandb/run-20240505_163846-j4n63m90/files/model-best/assets\n"
     ]
    },
    {
     "name": "stderr",
     "output_type": "stream",
     "text": [
      "INFO:tensorflow:Assets written to: /home/katril18/DOC_prev_code/plankton_classification/models/mobilenet/wandb/run-20240505_163846-j4n63m90/files/model-best/assets\n",
      "\u001b[34m\u001b[1mwandb\u001b[0m: Adding directory to artifact (/home/katril18/DOC_prev_code/plankton_classification/models/mobilenet/wandb/run-20240505_163846-j4n63m90/files/model-best)... Done. 0.1s\n"
     ]
    },
    {
     "name": "stdout",
     "output_type": "stream",
     "text": [
      "29644/29644 [==============================] - 760s 26ms/step - loss: 0.5691 - accuracy: 0.8400 - val_loss: 0.4925 - val_accuracy: 0.8638 - lr: 1.0000e-04\n",
      "Epoch 6/30\n",
      "29643/29644 [============================>.] - ETA: 0s - loss: 0.5440 - accuracy: 0.8459INFO:tensorflow:Assets written to: /home/katril18/DOC_prev_code/plankton_classification/models/mobilenet/wandb/run-20240505_163846-j4n63m90/files/model-best/assets\n"
     ]
    },
    {
     "name": "stderr",
     "output_type": "stream",
     "text": [
      "INFO:tensorflow:Assets written to: /home/katril18/DOC_prev_code/plankton_classification/models/mobilenet/wandb/run-20240505_163846-j4n63m90/files/model-best/assets\n",
      "\u001b[34m\u001b[1mwandb\u001b[0m: Adding directory to artifact (/home/katril18/DOC_prev_code/plankton_classification/models/mobilenet/wandb/run-20240505_163846-j4n63m90/files/model-best)... Done. 0.1s\n"
     ]
    },
    {
     "name": "stdout",
     "output_type": "stream",
     "text": [
      "29644/29644 [==============================] - 770s 26ms/step - loss: 0.5440 - accuracy: 0.8459 - val_loss: 0.4875 - val_accuracy: 0.8660 - lr: 1.0000e-04\n",
      "Epoch 7/30\n",
      "29643/29644 [============================>.] - ETA: 0s - loss: 0.5336 - accuracy: 0.8485INFO:tensorflow:Assets written to: /home/katril18/DOC_prev_code/plankton_classification/models/mobilenet/wandb/run-20240505_163846-j4n63m90/files/model-best/assets\n"
     ]
    },
    {
     "name": "stderr",
     "output_type": "stream",
     "text": [
      "INFO:tensorflow:Assets written to: /home/katril18/DOC_prev_code/plankton_classification/models/mobilenet/wandb/run-20240505_163846-j4n63m90/files/model-best/assets\n",
      "\u001b[34m\u001b[1mwandb\u001b[0m: Adding directory to artifact (/home/katril18/DOC_prev_code/plankton_classification/models/mobilenet/wandb/run-20240505_163846-j4n63m90/files/model-best)... Done. 0.1s\n"
     ]
    },
    {
     "name": "stdout",
     "output_type": "stream",
     "text": [
      "29644/29644 [==============================] - 733s 25ms/step - loss: 0.5336 - accuracy: 0.8485 - val_loss: 0.4839 - val_accuracy: 0.8673 - lr: 1.0000e-04\n",
      "Epoch 8/30\n",
      "29642/29644 [============================>.] - ETA: 0s - loss: 0.5272 - accuracy: 0.8496INFO:tensorflow:Assets written to: /home/katril18/DOC_prev_code/plankton_classification/models/mobilenet/wandb/run-20240505_163846-j4n63m90/files/model-best/assets\n"
     ]
    },
    {
     "name": "stderr",
     "output_type": "stream",
     "text": [
      "INFO:tensorflow:Assets written to: /home/katril18/DOC_prev_code/plankton_classification/models/mobilenet/wandb/run-20240505_163846-j4n63m90/files/model-best/assets\n",
      "\u001b[34m\u001b[1mwandb\u001b[0m: Adding directory to artifact (/home/katril18/DOC_prev_code/plankton_classification/models/mobilenet/wandb/run-20240505_163846-j4n63m90/files/model-best)... Done. 0.1s\n"
     ]
    },
    {
     "name": "stdout",
     "output_type": "stream",
     "text": [
      "29644/29644 [==============================] - 717s 24ms/step - loss: 0.5272 - accuracy: 0.8496 - val_loss: 0.4821 - val_accuracy: 0.8679 - lr: 1.0000e-04\n",
      "Epoch 9/30\n",
      "29642/29644 [============================>.] - ETA: 0s - loss: 0.5201 - accuracy: 0.8514INFO:tensorflow:Assets written to: /home/katril18/DOC_prev_code/plankton_classification/models/mobilenet/wandb/run-20240505_163846-j4n63m90/files/model-best/assets\n"
     ]
    },
    {
     "name": "stderr",
     "output_type": "stream",
     "text": [
      "INFO:tensorflow:Assets written to: /home/katril18/DOC_prev_code/plankton_classification/models/mobilenet/wandb/run-20240505_163846-j4n63m90/files/model-best/assets\n",
      "\u001b[34m\u001b[1mwandb\u001b[0m: Adding directory to artifact (/home/katril18/DOC_prev_code/plankton_classification/models/mobilenet/wandb/run-20240505_163846-j4n63m90/files/model-best)... Done. 0.1s\n"
     ]
    },
    {
     "name": "stdout",
     "output_type": "stream",
     "text": [
      "29644/29644 [==============================] - 725s 24ms/step - loss: 0.5201 - accuracy: 0.8514 - val_loss: 0.4820 - val_accuracy: 0.8687 - lr: 1.0000e-04\n",
      "Epoch 10/30\n",
      "29643/29644 [============================>.] - ETA: 0s - loss: 0.5169 - accuracy: 0.8520INFO:tensorflow:Assets written to: /home/katril18/DOC_prev_code/plankton_classification/models/mobilenet/wandb/run-20240505_163846-j4n63m90/files/model-best/assets\n"
     ]
    },
    {
     "name": "stderr",
     "output_type": "stream",
     "text": [
      "INFO:tensorflow:Assets written to: /home/katril18/DOC_prev_code/plankton_classification/models/mobilenet/wandb/run-20240505_163846-j4n63m90/files/model-best/assets\n",
      "\u001b[34m\u001b[1mwandb\u001b[0m: Adding directory to artifact (/home/katril18/DOC_prev_code/plankton_classification/models/mobilenet/wandb/run-20240505_163846-j4n63m90/files/model-best)... Done. 0.1s\n"
     ]
    },
    {
     "name": "stdout",
     "output_type": "stream",
     "text": [
      "29644/29644 [==============================] - 729s 25ms/step - loss: 0.5170 - accuracy: 0.8520 - val_loss: 0.4811 - val_accuracy: 0.8693 - lr: 1.0000e-04\n",
      "Epoch 11/30\n",
      "29644/29644 [==============================] - 742s 25ms/step - loss: 0.5119 - accuracy: 0.8533 - val_loss: 0.4835 - val_accuracy: 0.8692 - lr: 1.0000e-04\n",
      "Epoch 12/30\n",
      "29644/29644 [==============================] - 740s 25ms/step - loss: 0.5092 - accuracy: 0.8537 - val_loss: 0.4845 - val_accuracy: 0.8699 - lr: 1.0000e-04\n",
      "Epoch 13/30\n",
      "29644/29644 [==============================] - 736s 25ms/step - loss: 0.5066 - accuracy: 0.8545 - val_loss: 0.4840 - val_accuracy: 0.8703 - lr: 1.0000e-04\n",
      "Epoch 14/30\n",
      "29644/29644 [==============================] - 729s 25ms/step - loss: 0.4935 - accuracy: 0.8571 - val_loss: 0.4819 - val_accuracy: 0.8715 - lr: 1.0000e-05\n",
      "Epoch 15/30\n",
      "29644/29644 [==============================] - 736s 25ms/step - loss: 0.4901 - accuracy: 0.8578 - val_loss: 0.4817 - val_accuracy: 0.8721 - lr: 1.0000e-05\n"
     ]
    },
    {
     "data": {
      "text/plain": [
       "<keras.callbacks.History at 0x7f2187783ee0>"
      ]
     },
     "execution_count": 5,
     "metadata": {},
     "output_type": "execute_result"
    }
   ],
   "source": [
    "model.fit(train_ds, epochs=cfg.epochs, batch_size=32, verbose=cfg.verbose, validation_data=val_ds, callbacks=callbacks) # train the model"
   ]
  },
  {
   "cell_type": "code",
   "execution_count": 6,
   "id": "d3ba5bef",
   "metadata": {
    "scrolled": true
   },
   "outputs": [
    {
     "data": {
      "text/html": [
       "W&B sync reduced upload amount by 1.1%             "
      ],
      "text/plain": [
       "<IPython.core.display.HTML object>"
      ]
     },
     "metadata": {},
     "output_type": "display_data"
    },
    {
     "data": {
      "text/html": [
       "<style>\n",
       "    table.wandb td:nth-child(1) { padding: 0 10px; text-align: left ; width: auto;} td:nth-child(2) {text-align: left ; width: 100%}\n",
       "    .wandb-row { display: flex; flex-direction: row; flex-wrap: wrap; justify-content: flex-start; width: 100% }\n",
       "    .wandb-col { display: flex; flex-direction: column; flex-basis: 100%; flex: 1; padding: 10px; }\n",
       "    </style>\n",
       "<div class=\"wandb-row\"><div class=\"wandb-col\"><h3>Run history:</h3><br/><table class=\"wandb\"><tr><td>accuracy</td><td>▁▃▃▃▆▇▇▇▇▇█████</td></tr><tr><td>epoch</td><td>▁▁▂▃▃▃▄▅▅▅▆▇▇▇█</td></tr><tr><td>loss</td><td>█▆▇▇▄▃▂▂▂▂▂▂▂▁▁</td></tr><tr><td>val_accuracy</td><td>▁▂▂▁▆▆▇▇▇▇▇▇███</td></tr><tr><td>val_loss</td><td>▄▅▇█▂▂▁▁▁▁▁▁▁▁▁</td></tr></table><br/></div><div class=\"wandb-col\"><h3>Run summary:</h3><br/><table class=\"wandb\"><tr><td>accuracy</td><td>0.85785</td></tr><tr><td>best_epoch</td><td>9</td></tr><tr><td>best_val_loss</td><td>0.48111</td></tr><tr><td>epoch</td><td>14</td></tr><tr><td>loss</td><td>0.49007</td></tr><tr><td>val_accuracy</td><td>0.87214</td></tr><tr><td>val_loss</td><td>0.48171</td></tr></table><br/></div></div>"
      ],
      "text/plain": [
       "<IPython.core.display.HTML object>"
      ]
     },
     "metadata": {},
     "output_type": "display_data"
    },
    {
     "data": {
      "text/html": [
       " View run <strong style=\"color:#cdcd00\">mythical-cruiser-6</strong> at: <a href='https://wandb.ai/katrinamaster/MobileNet/runs/j4n63m90' target=\"_blank\">https://wandb.ai/katrinamaster/MobileNet/runs/j4n63m90</a><br/> View project at: <a href='https://wandb.ai/katrinamaster/MobileNet' target=\"_blank\">https://wandb.ai/katrinamaster/MobileNet</a><br/>Synced 5 W&B file(s), 1 media file(s), 35 artifact file(s) and 1 other file(s)"
      ],
      "text/plain": [
       "<IPython.core.display.HTML object>"
      ]
     },
     "metadata": {},
     "output_type": "display_data"
    },
    {
     "data": {
      "text/html": [
       "Find logs at: <code>./wandb/run-20240505_163846-j4n63m90/logs</code>"
      ],
      "text/plain": [
       "<IPython.core.display.HTML object>"
      ]
     },
     "metadata": {},
     "output_type": "display_data"
    }
   ],
   "source": [
    "wandb.finish()"
   ]
  },
  {
   "cell_type": "markdown",
   "id": "b870b20d-1391-4dbf-81df-8d7625defd0e",
   "metadata": {},
   "source": [
    "# MobileNetv3 Large Optimized"
   ]
  },
  {
   "cell_type": "code",
   "execution_count": 3,
   "id": "0ecb8218-dc7c-4188-8482-7077965b6795",
   "metadata": {
    "editable": true,
    "slideshow": {
     "slide_type": ""
    },
    "tags": []
   },
   "outputs": [
    {
     "name": "stderr",
     "output_type": "stream",
     "text": [
      "\u001b[34m\u001b[1mwandb\u001b[0m: Currently logged in as: \u001b[33mkatrinalie\u001b[0m (\u001b[33mkatrinamaster\u001b[0m). Use \u001b[1m`wandb login --relogin`\u001b[0m to force relogin\n"
     ]
    },
    {
     "data": {
      "text/html": [
       "wandb version 0.17.0 is available!  To upgrade, please run:\n",
       " $ pip install wandb --upgrade"
      ],
      "text/plain": [
       "<IPython.core.display.HTML object>"
      ]
     },
     "metadata": {},
     "output_type": "display_data"
    },
    {
     "data": {
      "text/html": [
       "Tracking run with wandb version 0.16.6"
      ],
      "text/plain": [
       "<IPython.core.display.HTML object>"
      ]
     },
     "metadata": {},
     "output_type": "display_data"
    },
    {
     "data": {
      "text/html": [
       "Run data is saved locally in <code>/home/katril18/DOC_prev_code/plankton_classification/models/mobilenet/wandb/run-20240520_201924-vnoodimm</code>"
      ],
      "text/plain": [
       "<IPython.core.display.HTML object>"
      ]
     },
     "metadata": {},
     "output_type": "display_data"
    },
    {
     "data": {
      "text/html": [
       "Syncing run <strong><a href='https://wandb.ai/katrinamaster/MobileNet/runs/vnoodimm' target=\"_blank\">eager-dragon-39</a></strong> to <a href='https://wandb.ai/katrinamaster/MobileNet' target=\"_blank\">Weights & Biases</a> (<a href='https://wandb.me/run' target=\"_blank\">docs</a>)<br/>"
      ],
      "text/plain": [
       "<IPython.core.display.HTML object>"
      ]
     },
     "metadata": {},
     "output_type": "display_data"
    },
    {
     "data": {
      "text/html": [
       " View project at <a href='https://wandb.ai/katrinamaster/MobileNet' target=\"_blank\">https://wandb.ai/katrinamaster/MobileNet</a>"
      ],
      "text/plain": [
       "<IPython.core.display.HTML object>"
      ]
     },
     "metadata": {},
     "output_type": "display_data"
    },
    {
     "data": {
      "text/html": [
       " View run at <a href='https://wandb.ai/katrinamaster/MobileNet/runs/vnoodimm' target=\"_blank\">https://wandb.ai/katrinamaster/MobileNet/runs/vnoodimm</a>"
      ],
      "text/plain": [
       "<IPython.core.display.HTML object>"
      ]
     },
     "metadata": {},
     "output_type": "display_data"
    }
   ],
   "source": [
    "# initialize wandb\n",
    "wandb.init(project=\"MobileNet\", config={\"learning_rate\": 0.001, \"epochs\": 30, \"verbose\": 1,\"name\": \"MobileNetV3LargeOpt\", \"architecture\": \"MobileNetV3LargeOpt\"})\n",
    "\n",
    "# configs\n",
    "cfg = wandb.config\n",
    "\n",
    "# create the model\n",
    "model = create_mobilenetv3_large_model_opt(len(train_ds.class_names))"
   ]
  },
  {
   "cell_type": "code",
   "execution_count": 5,
   "id": "2b60671b-0867-4ea5-ab13-dcd41b54245f",
   "metadata": {
    "editable": true,
    "scrolled": true,
    "slideshow": {
     "slide_type": ""
    },
    "tags": []
   },
   "outputs": [
    {
     "name": "stdout",
     "output_type": "stream",
     "text": [
      "Epoch 1/30\n"
     ]
    },
    {
     "name": "stderr",
     "output_type": "stream",
     "text": [
      "2024-05-20 20:19:41.736734: I tensorflow/compiler/xla/stream_executor/cuda/cuda_dnn.cc:442] Loaded cuDNN version 8907\n",
      "2024-05-20 20:19:43.587237: I tensorflow/compiler/xla/service/service.cc:168] XLA service 0x55d6872545f0 initialized for platform CUDA (this does not guarantee that XLA will be used). Devices:\n",
      "2024-05-20 20:19:43.587278: I tensorflow/compiler/xla/service/service.cc:176]   StreamExecutor device (0): Tesla V100-SXM3-32GB, Compute Capability 7.0\n",
      "2024-05-20 20:19:43.593343: I tensorflow/compiler/mlir/tensorflow/utils/dump_mlir_util.cc:269] disabling MLIR crash reproducer, set env var `MLIR_CRASH_REPRODUCER_DIRECTORY` to enable.\n",
      "2024-05-20 20:19:43.680468: I ./tensorflow/compiler/jit/device_compiler.h:186] Compiled cluster using XLA!  This line is logged at most once for the lifetime of the process.\n"
     ]
    },
    {
     "name": "stdout",
     "output_type": "stream",
     "text": [
      "2443/2443 [==============================] - ETA: 0s - loss: 0.9848 - accuracy: 0.7319INFO:tensorflow:Assets written to: /home/katril18/DOC_prev_code/plankton_classification/models/mobilenet/wandb/run-20240520_201924-vnoodimm/files/model-best/assets\n"
     ]
    },
    {
     "name": "stderr",
     "output_type": "stream",
     "text": [
      "INFO:tensorflow:Assets written to: /home/katril18/DOC_prev_code/plankton_classification/models/mobilenet/wandb/run-20240520_201924-vnoodimm/files/model-best/assets\n",
      "\u001b[34m\u001b[1mwandb\u001b[0m: Adding directory to artifact (/home/katril18/DOC_prev_code/plankton_classification/models/mobilenet/wandb/run-20240520_201924-vnoodimm/files/model-best)... Done. 0.1s\n"
     ]
    },
    {
     "name": "stdout",
     "output_type": "stream",
     "text": [
      "2443/2443 [==============================] - 219s 87ms/step - loss: 0.9848 - accuracy: 0.7319 - val_loss: 0.6492 - val_accuracy: 0.8030 - lr: 0.0010\n",
      "Epoch 2/30\n",
      "2442/2443 [============================>.] - ETA: 0s - loss: 0.6602 - accuracy: 0.8131INFO:tensorflow:Assets written to: /home/katril18/DOC_prev_code/plankton_classification/models/mobilenet/wandb/run-20240520_201924-vnoodimm/files/model-best/assets\n"
     ]
    },
    {
     "name": "stderr",
     "output_type": "stream",
     "text": [
      "INFO:tensorflow:Assets written to: /home/katril18/DOC_prev_code/plankton_classification/models/mobilenet/wandb/run-20240520_201924-vnoodimm/files/model-best/assets\n",
      "\u001b[34m\u001b[1mwandb\u001b[0m: Adding directory to artifact (/home/katril18/DOC_prev_code/plankton_classification/models/mobilenet/wandb/run-20240520_201924-vnoodimm/files/model-best)... Done. 0.1s\n"
     ]
    },
    {
     "name": "stdout",
     "output_type": "stream",
     "text": [
      "2443/2443 [==============================] - 211s 86ms/step - loss: 0.6602 - accuracy: 0.8131 - val_loss: 0.6029 - val_accuracy: 0.8191 - lr: 0.0010\n",
      "Epoch 3/30\n",
      "2442/2443 [============================>.] - ETA: 0s - loss: 0.5601 - accuracy: 0.8391INFO:tensorflow:Assets written to: /home/katril18/DOC_prev_code/plankton_classification/models/mobilenet/wandb/run-20240520_201924-vnoodimm/files/model-best/assets\n"
     ]
    },
    {
     "name": "stderr",
     "output_type": "stream",
     "text": [
      "INFO:tensorflow:Assets written to: /home/katril18/DOC_prev_code/plankton_classification/models/mobilenet/wandb/run-20240520_201924-vnoodimm/files/model-best/assets\n",
      "\u001b[34m\u001b[1mwandb\u001b[0m: Adding directory to artifact (/home/katril18/DOC_prev_code/plankton_classification/models/mobilenet/wandb/run-20240520_201924-vnoodimm/files/model-best)... Done. 0.1s\n"
     ]
    },
    {
     "name": "stdout",
     "output_type": "stream",
     "text": [
      "2443/2443 [==============================] - 211s 86ms/step - loss: 0.5601 - accuracy: 0.8391 - val_loss: 0.5890 - val_accuracy: 0.8256 - lr: 0.0010\n",
      "Epoch 4/30\n",
      "2443/2443 [==============================] - 195s 80ms/step - loss: 0.4962 - accuracy: 0.8553 - val_loss: 0.6117 - val_accuracy: 0.8266 - lr: 0.0010\n",
      "Epoch 5/30\n",
      "2443/2443 [==============================] - 195s 80ms/step - loss: 0.4442 - accuracy: 0.8693 - val_loss: 0.6022 - val_accuracy: 0.8311 - lr: 0.0010\n",
      "Epoch 6/30\n",
      "2443/2443 [==============================] - 194s 79ms/step - loss: 0.4049 - accuracy: 0.8797 - val_loss: 0.6101 - val_accuracy: 0.8312 - lr: 0.0010\n",
      "Epoch 7/30\n",
      "2442/2443 [============================>.] - ETA: 0s - loss: 0.2909 - accuracy: 0.9112INFO:tensorflow:Assets written to: /home/katril18/DOC_prev_code/plankton_classification/models/mobilenet/wandb/run-20240520_201924-vnoodimm/files/model-best/assets\n"
     ]
    },
    {
     "name": "stderr",
     "output_type": "stream",
     "text": [
      "INFO:tensorflow:Assets written to: /home/katril18/DOC_prev_code/plankton_classification/models/mobilenet/wandb/run-20240520_201924-vnoodimm/files/model-best/assets\n",
      "\u001b[34m\u001b[1mwandb\u001b[0m: Adding directory to artifact (/home/katril18/DOC_prev_code/plankton_classification/models/mobilenet/wandb/run-20240520_201924-vnoodimm/files/model-best)... Done. 0.1s\n"
     ]
    },
    {
     "name": "stdout",
     "output_type": "stream",
     "text": [
      "2443/2443 [==============================] - 207s 85ms/step - loss: 0.2909 - accuracy: 0.9112 - val_loss: 0.5779 - val_accuracy: 0.8534 - lr: 1.0000e-04\n",
      "Epoch 8/30\n",
      "2443/2443 [==============================] - 193s 79ms/step - loss: 0.2443 - accuracy: 0.9238 - val_loss: 0.5909 - val_accuracy: 0.8554 - lr: 1.0000e-04\n",
      "Epoch 9/30\n",
      "2443/2443 [==============================] - 190s 78ms/step - loss: 0.2192 - accuracy: 0.9310 - val_loss: 0.6128 - val_accuracy: 0.8540 - lr: 1.0000e-04\n",
      "Epoch 10/30\n",
      "2443/2443 [==============================] - 188s 77ms/step - loss: 0.1994 - accuracy: 0.9364 - val_loss: 0.6352 - val_accuracy: 0.8535 - lr: 1.0000e-04\n",
      "Epoch 11/30\n",
      "2443/2443 [==============================] - 185s 76ms/step - loss: 0.1781 - accuracy: 0.9429 - val_loss: 0.6316 - val_accuracy: 0.8550 - lr: 1.0000e-05\n",
      "Epoch 12/30\n",
      "2443/2443 [==============================] - 186s 76ms/step - loss: 0.1740 - accuracy: 0.9442 - val_loss: 0.6344 - val_accuracy: 0.8553 - lr: 1.0000e-05\n"
     ]
    },
    {
     "data": {
      "text/plain": [
       "<keras.callbacks.History at 0x7f6909e41e10>"
      ]
     },
     "execution_count": 5,
     "metadata": {},
     "output_type": "execute_result"
    }
   ],
   "source": [
    "model.fit(train_ds, epochs=cfg.epochs, batch_size=128, verbose=cfg.verbose, validation_data=val_ds, callbacks=callbacks) # train the model"
   ]
  },
  {
   "cell_type": "code",
   "execution_count": null,
   "id": "905a2fe5-3103-46c8-a90b-ea6951ec7fd5",
   "metadata": {},
   "outputs": [],
   "source": [
    "wandb.save('model.h5)"
   ]
  },
  {
   "cell_type": "code",
   "execution_count": 6,
   "id": "3eacab57-cde2-4a95-a787-cf638d8d847d",
   "metadata": {},
   "outputs": [
    {
     "data": {
      "text/html": [
       "<style>\n",
       "    table.wandb td:nth-child(1) { padding: 0 10px; text-align: left ; width: auto;} td:nth-child(2) {text-align: left ; width: 100%}\n",
       "    .wandb-row { display: flex; flex-direction: row; flex-wrap: wrap; justify-content: flex-start; width: 100% }\n",
       "    .wandb-col { display: flex; flex-direction: column; flex-basis: 100%; flex: 1; padding: 10px; }\n",
       "    </style>\n",
       "<div class=\"wandb-row\"><div class=\"wandb-col\"><h3>Run history:</h3><br/><table class=\"wandb\"><tr><td>accuracy</td><td>▁▄▅▅▆▆▇▇████</td></tr><tr><td>epoch</td><td>▁▂▂▃▄▄▅▅▆▇▇█</td></tr><tr><td>loss</td><td>█▅▄▄▃▃▂▂▁▁▁▁</td></tr><tr><td>val_accuracy</td><td>▁▃▄▄▅▅██████</td></tr><tr><td>val_loss</td><td>█▃▂▄▃▄▁▂▄▇▆▇</td></tr></table><br/></div><div class=\"wandb-col\"><h3>Run summary:</h3><br/><table class=\"wandb\"><tr><td>accuracy</td><td>0.94422</td></tr><tr><td>best_epoch</td><td>6</td></tr><tr><td>best_val_loss</td><td>0.57787</td></tr><tr><td>epoch</td><td>11</td></tr><tr><td>loss</td><td>0.17398</td></tr><tr><td>val_accuracy</td><td>0.85526</td></tr><tr><td>val_loss</td><td>0.63437</td></tr></table><br/></div></div>"
      ],
      "text/plain": [
       "<IPython.core.display.HTML object>"
      ]
     },
     "metadata": {},
     "output_type": "display_data"
    },
    {
     "data": {
      "text/html": [
       " View run <strong style=\"color:#cdcd00\">eager-dragon-39</strong> at: <a href='https://wandb.ai/katrinamaster/MobileNet/runs/vnoodimm' target=\"_blank\">https://wandb.ai/katrinamaster/MobileNet/runs/vnoodimm</a><br/> View project at: <a href='https://wandb.ai/katrinamaster/MobileNet' target=\"_blank\">https://wandb.ai/katrinamaster/MobileNet</a><br/>Synced 5 W&B file(s), 1 media file(s), 20 artifact file(s) and 1 other file(s)"
      ],
      "text/plain": [
       "<IPython.core.display.HTML object>"
      ]
     },
     "metadata": {},
     "output_type": "display_data"
    },
    {
     "data": {
      "text/html": [
       "Find logs at: <code>./wandb/run-20240520_201924-vnoodimm/logs</code>"
      ],
      "text/plain": [
       "<IPython.core.display.HTML object>"
      ]
     },
     "metadata": {},
     "output_type": "display_data"
    }
   ],
   "source": [
    "wandb.finish()"
   ]
  },
  {
   "cell_type": "markdown",
   "id": "40e0e4af-31b7-420b-bc49-326879189e7f",
   "metadata": {},
   "source": [
    "# MobileNetv3 Large Optimized Made Weights"
   ]
  },
  {
   "cell_type": "code",
   "execution_count": 3,
   "id": "ae60abd4-63d2-4576-bbe2-47e369eaa30a",
   "metadata": {},
   "outputs": [
    {
     "name": "stderr",
     "output_type": "stream",
     "text": [
      "\u001b[34m\u001b[1mwandb\u001b[0m: Currently logged in as: \u001b[33mkatrinalie\u001b[0m (\u001b[33mkatrinamaster\u001b[0m). Use \u001b[1m`wandb login --relogin`\u001b[0m to force relogin\n"
     ]
    },
    {
     "data": {
      "text/html": [
       "wandb version 0.17.0 is available!  To upgrade, please run:\n",
       " $ pip install wandb --upgrade"
      ],
      "text/plain": [
       "<IPython.core.display.HTML object>"
      ]
     },
     "metadata": {},
     "output_type": "display_data"
    },
    {
     "data": {
      "text/html": [
       "Tracking run with wandb version 0.16.6"
      ],
      "text/plain": [
       "<IPython.core.display.HTML object>"
      ]
     },
     "metadata": {},
     "output_type": "display_data"
    },
    {
     "data": {
      "text/html": [
       "Run data is saved locally in <code>/home/katril18/DOC_prev_code/plankton_classification/models/mobilenet/wandb/run-20240522_132955-flrylfvn</code>"
      ],
      "text/plain": [
       "<IPython.core.display.HTML object>"
      ]
     },
     "metadata": {},
     "output_type": "display_data"
    },
    {
     "data": {
      "text/html": [
       "Syncing run <strong><a href='https://wandb.ai/katrinamaster/MobileNet/runs/flrylfvn' target=\"_blank\">firm-grass-41</a></strong> to <a href='https://wandb.ai/katrinamaster/MobileNet' target=\"_blank\">Weights & Biases</a> (<a href='https://wandb.me/run' target=\"_blank\">docs</a>)<br/>"
      ],
      "text/plain": [
       "<IPython.core.display.HTML object>"
      ]
     },
     "metadata": {},
     "output_type": "display_data"
    },
    {
     "data": {
      "text/html": [
       " View project at <a href='https://wandb.ai/katrinamaster/MobileNet' target=\"_blank\">https://wandb.ai/katrinamaster/MobileNet</a>"
      ],
      "text/plain": [
       "<IPython.core.display.HTML object>"
      ]
     },
     "metadata": {},
     "output_type": "display_data"
    },
    {
     "data": {
      "text/html": [
       " View run at <a href='https://wandb.ai/katrinamaster/MobileNet/runs/flrylfvn' target=\"_blank\">https://wandb.ai/katrinamaster/MobileNet/runs/flrylfvn</a>"
      ],
      "text/plain": [
       "<IPython.core.display.HTML object>"
      ]
     },
     "metadata": {},
     "output_type": "display_data"
    }
   ],
   "source": [
    "# initialize wandb\n",
    "wandb.init(project=\"MobileNet\", config={\"learning_rate\": 0.001, \"epochs\": 30, \"verbose\": 1,\"name\": \"MobileNetV3LargeOpt\", \"architecture\": \"MobileNetV3LargeOpt\"})\n",
    "\n",
    "# configs\n",
    "cfg = wandb.config\n",
    "\n",
    "# create the model\n",
    "model = create_mobilenetv3_large_model_opt_weights(len(train_ds.class_names))"
   ]
  },
  {
   "cell_type": "code",
   "execution_count": 5,
   "id": "c1870dfd",
   "metadata": {
    "scrolled": true
   },
   "outputs": [
    {
     "name": "stdout",
     "output_type": "stream",
     "text": [
      "Epoch 1/30\n"
     ]
    },
    {
     "name": "stderr",
     "output_type": "stream",
     "text": [
      "2024-05-22 13:30:09.848422: I tensorflow/compiler/xla/stream_executor/cuda/cuda_dnn.cc:442] Loaded cuDNN version 8907\n",
      "2024-05-22 13:30:11.104426: I tensorflow/compiler/xla/service/service.cc:168] XLA service 0x7f8194cc12c0 initialized for platform CUDA (this does not guarantee that XLA will be used). Devices:\n",
      "2024-05-22 13:30:11.104457: I tensorflow/compiler/xla/service/service.cc:176]   StreamExecutor device (0): Tesla V100-SXM3-32GB, Compute Capability 7.0\n",
      "2024-05-22 13:30:11.110475: I tensorflow/compiler/mlir/tensorflow/utils/dump_mlir_util.cc:269] disabling MLIR crash reproducer, set env var `MLIR_CRASH_REPRODUCER_DIRECTORY` to enable.\n",
      "2024-05-22 13:30:11.198430: I ./tensorflow/compiler/jit/device_compiler.h:186] Compiled cluster using XLA!  This line is logged at most once for the lifetime of the process.\n"
     ]
    },
    {
     "name": "stdout",
     "output_type": "stream",
     "text": [
      "13468/13468 [==============================] - ETA: 0s - loss: 0.3156 - accuracy: 0.9033INFO:tensorflow:Assets written to: /home/katril18/DOC_prev_code/plankton_classification/models/mobilenet/wandb/run-20240522_132955-flrylfvn/files/model-best/assets\n"
     ]
    },
    {
     "name": "stderr",
     "output_type": "stream",
     "text": [
      "INFO:tensorflow:Assets written to: /home/katril18/DOC_prev_code/plankton_classification/models/mobilenet/wandb/run-20240522_132955-flrylfvn/files/model-best/assets\n",
      "\u001b[34m\u001b[1mwandb\u001b[0m: Adding directory to artifact (/home/katril18/DOC_prev_code/plankton_classification/models/mobilenet/wandb/run-20240522_132955-flrylfvn/files/model-best)... Done. 0.1s\n"
     ]
    },
    {
     "name": "stdout",
     "output_type": "stream",
     "text": [
      "13468/13468 [==============================] - 342s 25ms/step - loss: 0.3156 - accuracy: 0.9033 - val_loss: 0.1760 - val_accuracy: 0.9492 - lr: 0.0010\n",
      "Epoch 2/30\n",
      "13468/13468 [==============================] - ETA: 0s - loss: 0.2317 - accuracy: 0.9282INFO:tensorflow:Assets written to: /home/katril18/DOC_prev_code/plankton_classification/models/mobilenet/wandb/run-20240522_132955-flrylfvn/files/model-best/assets\n"
     ]
    },
    {
     "name": "stderr",
     "output_type": "stream",
     "text": [
      "INFO:tensorflow:Assets written to: /home/katril18/DOC_prev_code/plankton_classification/models/mobilenet/wandb/run-20240522_132955-flrylfvn/files/model-best/assets\n",
      "\u001b[34m\u001b[1mwandb\u001b[0m: Adding directory to artifact (/home/katril18/DOC_prev_code/plankton_classification/models/mobilenet/wandb/run-20240522_132955-flrylfvn/files/model-best)... Done. 0.1s\n"
     ]
    },
    {
     "name": "stdout",
     "output_type": "stream",
     "text": [
      "13468/13468 [==============================] - 340s 25ms/step - loss: 0.2317 - accuracy: 0.9282 - val_loss: 0.1620 - val_accuracy: 0.9539 - lr: 0.0010\n",
      "Epoch 3/30\n",
      "13468/13468 [==============================] - 322s 24ms/step - loss: 0.2080 - accuracy: 0.9356 - val_loss: 0.1679 - val_accuracy: 0.9534 - lr: 0.0010\n",
      "Epoch 4/30\n",
      "13468/13468 [==============================] - 321s 24ms/step - loss: 0.1920 - accuracy: 0.9404 - val_loss: 0.1660 - val_accuracy: 0.9556 - lr: 0.0010\n",
      "Epoch 5/30\n",
      "13468/13468 [==============================] - 324s 24ms/step - loss: 0.1805 - accuracy: 0.9440 - val_loss: 0.1622 - val_accuracy: 0.9587 - lr: 0.0010\n",
      "Epoch 6/30\n",
      "13467/13468 [============================>.] - ETA: 0s - loss: 0.1314 - accuracy: 0.9585INFO:tensorflow:Assets written to: /home/katril18/DOC_prev_code/plankton_classification/models/mobilenet/wandb/run-20240522_132955-flrylfvn/files/model-best/assets\n"
     ]
    },
    {
     "name": "stderr",
     "output_type": "stream",
     "text": [
      "INFO:tensorflow:Assets written to: /home/katril18/DOC_prev_code/plankton_classification/models/mobilenet/wandb/run-20240522_132955-flrylfvn/files/model-best/assets\n",
      "\u001b[34m\u001b[1mwandb\u001b[0m: Adding directory to artifact (/home/katril18/DOC_prev_code/plankton_classification/models/mobilenet/wandb/run-20240522_132955-flrylfvn/files/model-best)... Done. 0.1s\n"
     ]
    },
    {
     "name": "stdout",
     "output_type": "stream",
     "text": [
      "13468/13468 [==============================] - 332s 25ms/step - loss: 0.1314 - accuracy: 0.9585 - val_loss: 0.1586 - val_accuracy: 0.9601 - lr: 1.0000e-04\n",
      "Epoch 7/30\n",
      "13468/13468 [==============================] - 310s 23ms/step - loss: 0.1202 - accuracy: 0.9616 - val_loss: 0.1665 - val_accuracy: 0.9604 - lr: 1.0000e-04\n",
      "Epoch 8/30\n",
      "13468/13468 [==============================] - 293s 22ms/step - loss: 0.1124 - accuracy: 0.9634 - val_loss: 0.1754 - val_accuracy: 0.9603 - lr: 1.0000e-04\n",
      "Epoch 9/30\n",
      "13468/13468 [==============================] - 295s 22ms/step - loss: 0.1072 - accuracy: 0.9651 - val_loss: 0.1843 - val_accuracy: 0.9604 - lr: 1.0000e-04\n",
      "Epoch 10/30\n",
      "13468/13468 [==============================] - 296s 22ms/step - loss: 0.1001 - accuracy: 0.9670 - val_loss: 0.1847 - val_accuracy: 0.9609 - lr: 1.0000e-05\n",
      "Epoch 11/30\n",
      "13468/13468 [==============================] - 294s 22ms/step - loss: 0.0980 - accuracy: 0.9676 - val_loss: 0.1880 - val_accuracy: 0.9610 - lr: 1.0000e-05\n"
     ]
    },
    {
     "data": {
      "text/plain": [
       "<keras.callbacks.History at 0x7f875a17ef20>"
      ]
     },
     "execution_count": 5,
     "metadata": {},
     "output_type": "execute_result"
    }
   ],
   "source": [
    "model.fit(train_ds, epochs=cfg.epochs, batch_size=32, verbose=cfg.verbose, validation_data=val_ds, callbacks=callbacks) # train the model"
   ]
  },
  {
   "cell_type": "code",
   "execution_count": 6,
   "id": "893bf6ba",
   "metadata": {},
   "outputs": [
    {
     "data": {
      "text/html": [
       "<style>\n",
       "    table.wandb td:nth-child(1) { padding: 0 10px; text-align: left ; width: auto;} td:nth-child(2) {text-align: left ; width: 100%}\n",
       "    .wandb-row { display: flex; flex-direction: row; flex-wrap: wrap; justify-content: flex-start; width: 100% }\n",
       "    .wandb-col { display: flex; flex-direction: column; flex-basis: 100%; flex: 1; padding: 10px; }\n",
       "    </style>\n",
       "<div class=\"wandb-row\"><div class=\"wandb-col\"><h3>Run history:</h3><br/><table class=\"wandb\"><tr><td>accuracy</td><td>▁▄▄▅▅▇▇▇███</td></tr><tr><td>epoch</td><td>▁▂▂▃▄▅▅▆▇▇█</td></tr><tr><td>loss</td><td>█▅▅▄▄▂▂▁▁▁▁</td></tr><tr><td>val_accuracy</td><td>▁▅▅▅▆██████</td></tr><tr><td>val_loss</td><td>█▂▃▃▃▁▂▄▇▇▇</td></tr></table><br/></div><div class=\"wandb-col\"><h3>Run summary:</h3><br/><table class=\"wandb\"><tr><td>accuracy</td><td>0.97455</td></tr><tr><td>best_epoch</td><td>5</td></tr><tr><td>best_val_loss</td><td>0.15376</td></tr><tr><td>epoch</td><td>10</td></tr><tr><td>loss</td><td>0.07599</td></tr><tr><td>val_accuracy</td><td>0.96112</td></tr><tr><td>val_loss</td><td>0.18471</td></tr></table><br/></div></div>"
      ],
      "text/plain": [
       "<IPython.core.display.HTML object>"
      ]
     },
     "metadata": {},
     "output_type": "display_data"
    },
    {
     "data": {
      "text/html": [
       " View run <strong style=\"color:#cdcd00\">fragrant-bee-40</strong> at: <a href='https://wandb.ai/katrinamaster/MobileNet/runs/1u9rqrh7' target=\"_blank\">https://wandb.ai/katrinamaster/MobileNet/runs/1u9rqrh7</a><br/> View project at: <a href='https://wandb.ai/katrinamaster/MobileNet' target=\"_blank\">https://wandb.ai/katrinamaster/MobileNet</a><br/>Synced 5 W&B file(s), 1 media file(s), 15 artifact file(s) and 1 other file(s)"
      ],
      "text/plain": [
       "<IPython.core.display.HTML object>"
      ]
     },
     "metadata": {},
     "output_type": "display_data"
    },
    {
     "data": {
      "text/html": [
       "Find logs at: <code>./wandb/run-20240521_074139-1u9rqrh7/logs</code>"
      ],
      "text/plain": [
       "<IPython.core.display.HTML object>"
      ]
     },
     "metadata": {},
     "output_type": "display_data"
    }
   ],
   "source": [
    "wandb.finish()"
   ]
  }
 ],
 "metadata": {
  "kernelspec": {
   "display_name": "Python 3 (ipykernel)",
   "language": "python",
   "name": "python3"
  },
  "language_info": {
   "codemirror_mode": {
    "name": "ipython",
    "version": 3
   },
   "file_extension": ".py",
   "mimetype": "text/x-python",
   "name": "python",
   "nbconvert_exporter": "python",
   "pygments_lexer": "ipython3",
   "version": "3.10.12"
  }
 },
 "nbformat": 4,
 "nbformat_minor": 5
}
