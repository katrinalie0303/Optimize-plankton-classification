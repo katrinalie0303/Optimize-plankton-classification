{
 "cells": [
  {
   "cell_type": "code",
   "execution_count": null,
   "id": "38a82b0b-eff1-46a7-8c16-85474e60d1c5",
   "metadata": {},
   "outputs": [],
   "source": [
    "#https://github.com/devam2905/MNIST-siamese-network/blob/master/MNIST_siamese_network.ipynb"
   ]
  },
  {
   "cell_type": "code",
   "execution_count": 11,
   "id": "1c03640a-b4de-4176-94af-6d894ab85b93",
   "metadata": {},
   "outputs": [],
   "source": [
    "import keras\n",
    "from __future__ import absolute_import\n",
    "from __future__ import print_function\n",
    "import numpy as np\n",
    "import random\n",
    "from keras.datasets import mnist\n",
    "from keras.models import Model\n",
    "from keras.layers import Input, Flatten, Dense, Dropout,Flatten, Lambda\n",
    "from keras.layers import Conv2D, Activation,AveragePooling2D,MaxPooling2D\n",
    "from keras.optimizers import RMSprop\n",
    "from keras import backend as K\n",
    "\n",
    "import tensorflow as tf\n",
    "from sklearn.model_selection import train_test_split"
   ]
  },
  {
   "cell_type": "code",
   "execution_count": 3,
   "id": "5f8f364f-2d0c-423a-a076-8363e79eaf7e",
   "metadata": {},
   "outputs": [
    {
     "name": "stdout",
     "output_type": "stream",
     "text": [
      "Found 430968 files belonging to 12 classes.\n"
     ]
    },
    {
     "name": "stderr",
     "output_type": "stream",
     "text": [
      "2024-05-10 14:00:29.434407: I tensorflow/core/common_runtime/gpu/gpu_device.cc:1883] Created device /job:localhost/replica:0/task:0/device:GPU:0 with 506 MB memory:  -> device: 0, name: Tesla V100-SXM3-32GB, pci bus id: 0000:5c:00.0, compute capability: 7.0\n"
     ]
    },
    {
     "name": "stdout",
     "output_type": "stream",
     "text": [
      "Found 37237 files belonging to 12 classes.\n"
     ]
    }
   ],
   "source": [
    "train_ds = keras.utils.image_dataset_from_directory(\n",
    "    directory=\"../../../organized_dataset_v7/dataset/train\",\n",
    "    labels='inferred',\n",
    "    label_mode='categorical',\n",
    "    shuffle=True,\n",
    "    batch_size=32,\n",
    "    image_size=(224, 224)\n",
    "    )\n",
    "test_ds = keras.utils.image_dataset_from_directory(\n",
    "    directory=\"../../../organized_dataset_v7/dataset/test\",\n",
    "    labels='inferred',\n",
    "    label_mode='categorical',\n",
    "    shuffle=True,\n",
    "    batch_size=32,\n",
    "    image_size=(224, 224)\n",
    "    )"
   ]
  },
  {
   "cell_type": "code",
   "execution_count": 3,
   "id": "a602b039-a0ab-4083-ae90-f7f89e74f01f",
   "metadata": {},
   "outputs": [
    {
     "name": "stdout",
     "output_type": "stream",
     "text": [
      "Found 1205260 files belonging to 73 classes.\n"
     ]
    },
    {
     "name": "stderr",
     "output_type": "stream",
     "text": [
      "2024-05-10 14:37:11.424687: I tensorflow/core/common_runtime/gpu/gpu_device.cc:1883] Created device /job:localhost/replica:0/task:0/device:GPU:0 with 31127 MB memory:  -> device: 0, name: Tesla V100-SXM3-32GB, pci bus id: 0000:5c:00.0, compute capability: 7.0\n"
     ]
    }
   ],
   "source": [
    "train_ds = keras.utils.image_dataset_from_directory(\n",
    "    directory=\"../../../GlobalZooScanImageDataset/GlobalZooScanImageDataset\",\n",
    "    labels='inferred',\n",
    "    label_mode='categorical',\n",
    "    color_mode='grayscale',\n",
    "    shuffle=True,\n",
    "    batch_size=32,\n",
    "    image_size=(224, 224)\n",
    "    )"
   ]
  },
  {
   "cell_type": "code",
   "execution_count": 34,
   "id": "5e27a9c4-4788-46be-94bc-de4d7a3d3c2d",
   "metadata": {},
   "outputs": [
    {
     "name": "stdout",
     "output_type": "stream",
     "text": [
      "Found 948586 files belonging to 70 classes.\n",
      "Found 118547 files belonging to 70 classes.\n"
     ]
    }
   ],
   "source": [
    "train_ds = keras.utils.image_dataset_from_directory(\n",
    "    directory=\"../../dataset/global/train\",\n",
    "    labels='inferred',\n",
    "    label_mode='categorical',\n",
    "    shuffle=True,\n",
    "    batch_size=32,\n",
    "    image_size=(224, 224)\n",
    "    )\n",
    "val_ds = keras.utils.image_dataset_from_directory(\n",
    "    directory=\"../../dataset/global/val\",\n",
    "    labels='inferred',\n",
    "    label_mode='categorical',\n",
    "    shuffle=True,\n",
    "    batch_size=32,\n",
    "    image_size=(224, 224)\n",
    "    )"
   ]
  },
  {
   "cell_type": "code",
   "execution_count": 36,
   "id": "1fe65292-5c50-402e-ba23-ceb2bea35399",
   "metadata": {},
   "outputs": [
    {
     "name": "stdout",
     "output_type": "stream",
     "text": [
      "(32, 224, 224, 1) (32, 73)\n",
      "(32, 224, 224, 3) (32, 70)\n"
     ]
    }
   ],
   "source": [
    "for x_train, y_train in train_ds.take(1):\n",
    "  print(x_trains.shape, y_trains.shape)\n",
    "\n",
    "\n",
    "for x_test, y_test in val_ds.take(1):\n",
    "  print(x_test.shape, y_test.shape)"
   ]
  },
  {
   "cell_type": "code",
   "execution_count": 32,
   "id": "bc1b8355-bdd9-4f05-a040-cdb7a67d2538",
   "metadata": {},
   "outputs": [
    {
     "data": {
      "text/plain": [
       "<tf.Tensor: shape=(32, 73), dtype=float32, numpy=\n",
       "array([[0., 0., 0., ..., 0., 0., 0.],\n",
       "       [0., 0., 0., ..., 0., 0., 0.],\n",
       "       [0., 0., 0., ..., 0., 0., 0.],\n",
       "       ...,\n",
       "       [0., 0., 0., ..., 0., 0., 0.],\n",
       "       [0., 0., 0., ..., 0., 0., 0.],\n",
       "       [0., 0., 0., ..., 0., 0., 0.]], dtype=float32)>"
      ]
     },
     "execution_count": 32,
     "metadata": {},
     "output_type": "execute_result"
    }
   ],
   "source": [
    "y_trains[:72]"
   ]
  },
  {
   "cell_type": "code",
   "execution_count": 4,
   "id": "6aaaf44f-6546-4143-9655-0ad80223f714",
   "metadata": {},
   "outputs": [],
   "source": [
    "num_classes=(len(train_ds.class_names))\n",
    "epochs=20"
   ]
  },
  {
   "cell_type": "code",
   "execution_count": 5,
   "id": "076d9d92-e1c3-495d-883a-3924afc472f9",
   "metadata": {},
   "outputs": [],
   "source": [
    "def euclid_dis(vects):\n",
    "  x,y = vects\n",
    "  sum_square = K.sum(K.square(x-y), axis=1, keepdims=True)\n",
    "  return K.sqrt(K.maximum(sum_square, K.epsilon()))\n",
    "\n",
    "def eucl_dist_output_shape(shapes):\n",
    "    shape1, shape2 = shapes\n",
    "    return (shape1[0], 1)\n",
    "\n",
    "def contrastive_loss(y_true, y_pred):\n",
    "    y_true = float(y_true)\n",
    "    y_pred = float(y_pred)\n",
    "    margin = 1\n",
    "    square_pred = K.square(y_pred)\n",
    "    margin_square = K.square(K.maximum(margin - y_pred, 0))\n",
    "    return K.mean(y_true * square_pred + (1 - y_true) * margin_square)"
   ]
  },
  {
   "cell_type": "code",
   "execution_count": 6,
   "id": "4959f9f6-d10d-4aa1-9825-6fe928126b33",
   "metadata": {},
   "outputs": [],
   "source": [
    "def create_pairs(x, digit_indices):\n",
    "  pairs = []\n",
    "  labels = []\n",
    "  \n",
    "  n=min([len(digit_indices[d]) for d in range(num_classes)]) -1\n",
    "  \n",
    "  for d in range(num_classes):\n",
    "    for i in range(n):\n",
    "      z1, z2 = digit_indices[d][i], digit_indices[d][i+1]\n",
    "      pairs += [[x[z1], x[z2]]]\n",
    "      inc = random.randrange(1, num_classes)\n",
    "      dn = (d + inc) % num_classes\n",
    "      z1, z2 = digit_indices[d][i], digit_indices[dn][i]\n",
    "      pairs += [[x[z1], x[z2]]]\n",
    "      labels += [1,0]\n",
    "\n",
    "    #print(labels)\n",
    "  return np.array(pairs), np.array(labels)"
   ]
  },
  {
   "cell_type": "code",
   "execution_count": 7,
   "id": "2e6a83a1-b86c-40a5-8a41-b95775ad9127",
   "metadata": {},
   "outputs": [],
   "source": [
    "def create_base_net(input_shape):\n",
    "  \n",
    "  input = Input(shape = input_shape)\n",
    "  x = Conv2D(32, (3,3), activation = 'relu')(input)\n",
    "  x = AveragePooling2D(pool_size = (2,2))(x)\n",
    "  x = Conv2D(64, (3,3), activation = 'tanh')(x)\n",
    "  x = MaxPooling2D(pool_size = (2,2))(x)\n",
    "  x = Dropout(0.25)(x)\n",
    "  x = Flatten()(x)\n",
    "  x = Dense(128, activation = 'tanh')(x)\n",
    "  x = Dropout(0.5)(x)\n",
    "  x = Dense(64,activation = 'tanh')(x)\n",
    "  x = Dropout(0.5)(x)\n",
    "  x = Dense(10,activation = 'tanh')(x)\n",
    "  model = Model(input, x)\n",
    "  model.summary()\n",
    "  \n",
    "  return model"
   ]
  },
  {
   "cell_type": "code",
   "execution_count": 54,
   "id": "98fdee76-ada8-4c99-921e-c320ea583259",
   "metadata": {},
   "outputs": [
    {
     "ename": "AttributeError",
     "evalue": "module 'tensorflow' has no attribute 'enable_eager_execution'",
     "output_type": "error",
     "traceback": [
      "\u001b[0;31m---------------------------------------------------------------------------\u001b[0m",
      "\u001b[0;31mAttributeError\u001b[0m                            Traceback (most recent call last)",
      "Cell \u001b[0;32mIn[54], line 2\u001b[0m\n\u001b[1;32m      1\u001b[0m \u001b[38;5;28;01mimport\u001b[39;00m \u001b[38;5;21;01mtensorflow\u001b[39;00m \u001b[38;5;28;01mas\u001b[39;00m \u001b[38;5;21;01mtf\u001b[39;00m\n\u001b[0;32m----> 2\u001b[0m \u001b[43mtf\u001b[49m\u001b[38;5;241;43m.\u001b[39;49m\u001b[43menable_eager_execution\u001b[49m()\n",
      "\u001b[0;31mAttributeError\u001b[0m: module 'tensorflow' has no attribute 'enable_eager_execution'"
     ]
    }
   ],
   "source": []
  },
  {
   "cell_type": "code",
   "execution_count": 19,
   "id": "adc1c400-d3e3-493e-b1f4-228a123eafbc",
   "metadata": {},
   "outputs": [
    {
     "ename": "TypeError",
     "evalue": "Only integers, slices (`:`), ellipsis (`...`), tf.newaxis (`None`) and scalar tf.int32/tf.int64 tensors are valid indices, got array([ 8,  9, 30, 25, 12,  0,  4, 16,  5, 13, 11, 23,  1,  2, 26,  3, 21,\n       27, 22])",
     "output_type": "error",
     "traceback": [
      "\u001b[0;31m---------------------------------------------------------------------------\u001b[0m",
      "\u001b[0;31mTypeError\u001b[0m                                 Traceback (most recent call last)",
      "Cell \u001b[0;32mIn[19], line 15\u001b[0m\n\u001b[1;32m     11\u001b[0m     \u001b[38;5;28;01mreturn\u001b[39;00m K\u001b[38;5;241m.\u001b[39mmean(K\u001b[38;5;241m.\u001b[39mequal(y_true, K\u001b[38;5;241m.\u001b[39mcast(y_pred \u001b[38;5;241m<\u001b[39m \u001b[38;5;241m0.5\u001b[39m, y_true\u001b[38;5;241m.\u001b[39mdtype)))\n\u001b[1;32m     14\u001b[0m \u001b[38;5;66;03m# the data, split between train and test sets\u001b[39;00m\n\u001b[0;32m---> 15\u001b[0m (x_train, y_train), (x_test, y_test) \u001b[38;5;241m=\u001b[39m \u001b[43mtrain_test_split\u001b[49m\u001b[43m(\u001b[49m\n\u001b[1;32m     16\u001b[0m \u001b[43m        \u001b[49m\u001b[43mx_trains\u001b[49m\u001b[43m,\u001b[49m\u001b[43m \u001b[49m\u001b[43my_trains\u001b[49m\u001b[43m,\u001b[49m\u001b[43m \u001b[49m\u001b[43mtrain_size\u001b[49m\u001b[38;5;241;43m=\u001b[39;49m\u001b[38;5;241;43m0.6\u001b[39;49m\u001b[43m,\u001b[49m\u001b[43m \u001b[49m\u001b[43mtest_size\u001b[49m\u001b[38;5;241;43m=\u001b[39;49m\u001b[38;5;241;43m0.1\u001b[39;49m\u001b[43m,\u001b[49m\u001b[43m \u001b[49m\u001b[43mrandom_state\u001b[49m\u001b[38;5;241;43m=\u001b[39;49m\u001b[38;5;241;43m42\u001b[39;49m\n\u001b[1;32m     17\u001b[0m \u001b[43m    \u001b[49m\u001b[43m)\u001b[49m\n\u001b[1;32m     20\u001b[0m x_train \u001b[38;5;241m=\u001b[39m x_train\u001b[38;5;241m.\u001b[39mreshape(x_train\u001b[38;5;241m.\u001b[39mshape[\u001b[38;5;241m0\u001b[39m], \u001b[38;5;241m224\u001b[39m, \u001b[38;5;241m224\u001b[39m,\u001b[38;5;241m1\u001b[39m)\n\u001b[1;32m     21\u001b[0m x_test \u001b[38;5;241m=\u001b[39m x_test\u001b[38;5;241m.\u001b[39mreshape(x_test\u001b[38;5;241m.\u001b[39mshape[\u001b[38;5;241m0\u001b[39m], \u001b[38;5;241m224\u001b[39m, \u001b[38;5;241m224\u001b[39m, \u001b[38;5;241m1\u001b[39m)\n",
      "File \u001b[0;32m~/.local/lib/python3.10/site-packages/sklearn/model_selection/_split.py:2585\u001b[0m, in \u001b[0;36mtrain_test_split\u001b[0;34m(test_size, train_size, random_state, shuffle, stratify, *arrays)\u001b[0m\n\u001b[1;32m   2581\u001b[0m     cv \u001b[38;5;241m=\u001b[39m CVClass(test_size\u001b[38;5;241m=\u001b[39mn_test, train_size\u001b[38;5;241m=\u001b[39mn_train, random_state\u001b[38;5;241m=\u001b[39mrandom_state)\n\u001b[1;32m   2583\u001b[0m     train, test \u001b[38;5;241m=\u001b[39m \u001b[38;5;28mnext\u001b[39m(cv\u001b[38;5;241m.\u001b[39msplit(X\u001b[38;5;241m=\u001b[39marrays[\u001b[38;5;241m0\u001b[39m], y\u001b[38;5;241m=\u001b[39mstratify))\n\u001b[0;32m-> 2585\u001b[0m \u001b[38;5;28;01mreturn\u001b[39;00m \u001b[38;5;28;43mlist\u001b[39;49m\u001b[43m(\u001b[49m\n\u001b[1;32m   2586\u001b[0m \u001b[43m    \u001b[49m\u001b[43mchain\u001b[49m\u001b[38;5;241;43m.\u001b[39;49m\u001b[43mfrom_iterable\u001b[49m\u001b[43m(\u001b[49m\n\u001b[1;32m   2587\u001b[0m \u001b[43m        \u001b[49m\u001b[43m(\u001b[49m\u001b[43m_safe_indexing\u001b[49m\u001b[43m(\u001b[49m\u001b[43ma\u001b[49m\u001b[43m,\u001b[49m\u001b[43m \u001b[49m\u001b[43mtrain\u001b[49m\u001b[43m)\u001b[49m\u001b[43m,\u001b[49m\u001b[43m \u001b[49m\u001b[43m_safe_indexing\u001b[49m\u001b[43m(\u001b[49m\u001b[43ma\u001b[49m\u001b[43m,\u001b[49m\u001b[43m \u001b[49m\u001b[43mtest\u001b[49m\u001b[43m)\u001b[49m\u001b[43m)\u001b[49m\u001b[43m \u001b[49m\u001b[38;5;28;43;01mfor\u001b[39;49;00m\u001b[43m \u001b[49m\u001b[43ma\u001b[49m\u001b[43m \u001b[49m\u001b[38;5;129;43;01min\u001b[39;49;00m\u001b[43m \u001b[49m\u001b[43marrays\u001b[49m\n\u001b[1;32m   2588\u001b[0m \u001b[43m    \u001b[49m\u001b[43m)\u001b[49m\n\u001b[1;32m   2589\u001b[0m \u001b[43m\u001b[49m\u001b[43m)\u001b[49m\n",
      "File \u001b[0;32m~/.local/lib/python3.10/site-packages/sklearn/model_selection/_split.py:2587\u001b[0m, in \u001b[0;36m<genexpr>\u001b[0;34m(.0)\u001b[0m\n\u001b[1;32m   2581\u001b[0m     cv \u001b[38;5;241m=\u001b[39m CVClass(test_size\u001b[38;5;241m=\u001b[39mn_test, train_size\u001b[38;5;241m=\u001b[39mn_train, random_state\u001b[38;5;241m=\u001b[39mrandom_state)\n\u001b[1;32m   2583\u001b[0m     train, test \u001b[38;5;241m=\u001b[39m \u001b[38;5;28mnext\u001b[39m(cv\u001b[38;5;241m.\u001b[39msplit(X\u001b[38;5;241m=\u001b[39marrays[\u001b[38;5;241m0\u001b[39m], y\u001b[38;5;241m=\u001b[39mstratify))\n\u001b[1;32m   2585\u001b[0m \u001b[38;5;28;01mreturn\u001b[39;00m \u001b[38;5;28mlist\u001b[39m(\n\u001b[1;32m   2586\u001b[0m     chain\u001b[38;5;241m.\u001b[39mfrom_iterable(\n\u001b[0;32m-> 2587\u001b[0m         (\u001b[43m_safe_indexing\u001b[49m\u001b[43m(\u001b[49m\u001b[43ma\u001b[49m\u001b[43m,\u001b[49m\u001b[43m \u001b[49m\u001b[43mtrain\u001b[49m\u001b[43m)\u001b[49m, _safe_indexing(a, test)) \u001b[38;5;28;01mfor\u001b[39;00m a \u001b[38;5;129;01min\u001b[39;00m arrays\n\u001b[1;32m   2588\u001b[0m     )\n\u001b[1;32m   2589\u001b[0m )\n",
      "File \u001b[0;32m~/.local/lib/python3.10/site-packages/sklearn/utils/__init__.py:356\u001b[0m, in \u001b[0;36m_safe_indexing\u001b[0;34m(X, indices, axis)\u001b[0m\n\u001b[1;32m    354\u001b[0m     \u001b[38;5;28;01mreturn\u001b[39;00m _pandas_indexing(X, indices, indices_dtype, axis\u001b[38;5;241m=\u001b[39maxis)\n\u001b[1;32m    355\u001b[0m \u001b[38;5;28;01melif\u001b[39;00m \u001b[38;5;28mhasattr\u001b[39m(X, \u001b[38;5;124m\"\u001b[39m\u001b[38;5;124mshape\u001b[39m\u001b[38;5;124m\"\u001b[39m):\n\u001b[0;32m--> 356\u001b[0m     \u001b[38;5;28;01mreturn\u001b[39;00m \u001b[43m_array_indexing\u001b[49m\u001b[43m(\u001b[49m\u001b[43mX\u001b[49m\u001b[43m,\u001b[49m\u001b[43m \u001b[49m\u001b[43mindices\u001b[49m\u001b[43m,\u001b[49m\u001b[43m \u001b[49m\u001b[43mindices_dtype\u001b[49m\u001b[43m,\u001b[49m\u001b[43m \u001b[49m\u001b[43maxis\u001b[49m\u001b[38;5;241;43m=\u001b[39;49m\u001b[43maxis\u001b[49m\u001b[43m)\u001b[49m\n\u001b[1;32m    357\u001b[0m \u001b[38;5;28;01melse\u001b[39;00m:\n\u001b[1;32m    358\u001b[0m     \u001b[38;5;28;01mreturn\u001b[39;00m _list_indexing(X, indices, indices_dtype)\n",
      "File \u001b[0;32m~/.local/lib/python3.10/site-packages/sklearn/utils/__init__.py:185\u001b[0m, in \u001b[0;36m_array_indexing\u001b[0;34m(array, key, key_dtype, axis)\u001b[0m\n\u001b[1;32m    183\u001b[0m \u001b[38;5;28;01mif\u001b[39;00m \u001b[38;5;28misinstance\u001b[39m(key, \u001b[38;5;28mtuple\u001b[39m):\n\u001b[1;32m    184\u001b[0m     key \u001b[38;5;241m=\u001b[39m \u001b[38;5;28mlist\u001b[39m(key)\n\u001b[0;32m--> 185\u001b[0m \u001b[38;5;28;01mreturn\u001b[39;00m \u001b[43marray\u001b[49m\u001b[43m[\u001b[49m\u001b[43mkey\u001b[49m\u001b[43m]\u001b[49m \u001b[38;5;28;01mif\u001b[39;00m axis \u001b[38;5;241m==\u001b[39m \u001b[38;5;241m0\u001b[39m \u001b[38;5;28;01melse\u001b[39;00m array[:, key]\n",
      "File \u001b[0;32m/usr/local/lib/python3.10/dist-packages/tensorflow/python/util/traceback_utils.py:153\u001b[0m, in \u001b[0;36mfilter_traceback.<locals>.error_handler\u001b[0;34m(*args, **kwargs)\u001b[0m\n\u001b[1;32m    151\u001b[0m \u001b[38;5;28;01mexcept\u001b[39;00m \u001b[38;5;167;01mException\u001b[39;00m \u001b[38;5;28;01mas\u001b[39;00m e:\n\u001b[1;32m    152\u001b[0m   filtered_tb \u001b[38;5;241m=\u001b[39m _process_traceback_frames(e\u001b[38;5;241m.\u001b[39m__traceback__)\n\u001b[0;32m--> 153\u001b[0m   \u001b[38;5;28;01mraise\u001b[39;00m e\u001b[38;5;241m.\u001b[39mwith_traceback(filtered_tb) \u001b[38;5;28;01mfrom\u001b[39;00m \u001b[38;5;28;01mNone\u001b[39;00m\n\u001b[1;32m    154\u001b[0m \u001b[38;5;28;01mfinally\u001b[39;00m:\n\u001b[1;32m    155\u001b[0m   \u001b[38;5;28;01mdel\u001b[39;00m filtered_tb\n",
      "File \u001b[0;32m/usr/local/lib/python3.10/dist-packages/tensorflow/python/ops/array_ops.py:970\u001b[0m, in \u001b[0;36m_check_index\u001b[0;34m(idx)\u001b[0m\n\u001b[1;32m    965\u001b[0m dtype \u001b[38;5;241m=\u001b[39m \u001b[38;5;28mgetattr\u001b[39m(idx, \u001b[38;5;124m\"\u001b[39m\u001b[38;5;124mdtype\u001b[39m\u001b[38;5;124m\"\u001b[39m, \u001b[38;5;28;01mNone\u001b[39;00m)\n\u001b[1;32m    966\u001b[0m \u001b[38;5;28;01mif\u001b[39;00m (dtype \u001b[38;5;129;01mis\u001b[39;00m \u001b[38;5;28;01mNone\u001b[39;00m \u001b[38;5;129;01mor\u001b[39;00m dtypes\u001b[38;5;241m.\u001b[39mas_dtype(dtype) \u001b[38;5;129;01mnot\u001b[39;00m \u001b[38;5;129;01min\u001b[39;00m _SUPPORTED_SLICE_DTYPES \u001b[38;5;129;01mor\u001b[39;00m\n\u001b[1;32m    967\u001b[0m     idx\u001b[38;5;241m.\u001b[39mshape \u001b[38;5;129;01mand\u001b[39;00m \u001b[38;5;28mlen\u001b[39m(idx\u001b[38;5;241m.\u001b[39mshape) \u001b[38;5;241m==\u001b[39m \u001b[38;5;241m1\u001b[39m):\n\u001b[1;32m    968\u001b[0m   \u001b[38;5;66;03m# TODO(slebedev): IndexError seems more appropriate here, but it\u001b[39;00m\n\u001b[1;32m    969\u001b[0m   \u001b[38;5;66;03m# will break `_slice_helper` contract.\u001b[39;00m\n\u001b[0;32m--> 970\u001b[0m   \u001b[38;5;28;01mraise\u001b[39;00m \u001b[38;5;167;01mTypeError\u001b[39;00m(_SLICE_TYPE_ERROR \u001b[38;5;241m+\u001b[39m \u001b[38;5;124m\"\u001b[39m\u001b[38;5;124m, got \u001b[39m\u001b[38;5;132;01m{!r}\u001b[39;00m\u001b[38;5;124m\"\u001b[39m\u001b[38;5;241m.\u001b[39mformat(idx))\n",
      "\u001b[0;31mTypeError\u001b[0m: Only integers, slices (`:`), ellipsis (`...`), tf.newaxis (`None`) and scalar tf.int32/tf.int64 tensors are valid indices, got array([ 8,  9, 30, 25, 12,  0,  4, 16,  5, 13, 11, 23,  1,  2, 26,  3, 21,\n       27, 22])"
     ]
    }
   ],
   "source": [
    "def compute_accuracy(y_true, y_pred):\n",
    "    '''Compute classification accuracy with a fixed threshold on distances.\n",
    "    '''\n",
    "    pred = y_pred.ravel() < 0.5\n",
    "    return np.mean(pred == y_true)\n",
    "\n",
    "\n",
    "def accuracy(y_true, y_pred):\n",
    "    '''Compute classification accuracy with a fixed threshold on distances.\n",
    "    '''\n",
    "    return K.mean(K.equal(y_true, K.cast(y_pred < 0.5, y_true.dtype)))\n",
    "\n",
    "\n",
    "# the data, split between train and test sets\n",
    "#(x_train, y_train), (x_test, y_test) = train_test_split(\n",
    "#        x_trains, y_trains, train_size=0.6, test_size=0.1, random_state=42)\n",
    "\n",
    "\n",
    "x_train = x_train.reshape(x_train.shape[0], 224, 224,1)\n",
    "x_test = x_test.reshape(x_test.shape[0], 224, 224, 1)\n",
    "# input_shape = (1, 28, 28)\n",
    "print(x_train.shape)\n",
    "x_train = x_train.astype('float32')\n",
    "x_test = x_test.astype('float32')\n",
    "x_train /= 255\n",
    "x_test /= 255\n",
    "\n",
    "input_shape = x_train.shape[1:]\n",
    "input_shape = (224, 224, 1)"
   ]
  },
  {
   "cell_type": "code",
   "execution_count": 17,
   "id": "e09ca39d-8f47-4f78-bc24-caa830a7da88",
   "metadata": {
    "scrolled": true
   },
   "outputs": [
    {
     "name": "stdout",
     "output_type": "stream",
     "text": [
      "(32, 224, 224, 3)\n",
      "(32, 12)\n",
      "(224, 224, 3)\n",
      "32\n",
      "tf.Tensor(\n",
      "[[[0.6156863  0.6392157  0.8352941 ]\n",
      "  [0.6156863  0.6392157  0.8352941 ]\n",
      "  [0.61497724 0.63850665 0.8345851 ]\n",
      "  ...\n",
      "  [0.600709   0.6463498  0.84956235]\n",
      "  [0.6        0.64705884 0.8509804 ]\n",
      "  [0.6        0.64705884 0.8509804 ]]\n",
      "\n",
      " [[0.6156863  0.6392157  0.8352941 ]\n",
      "  [0.6156863  0.6392157  0.8352941 ]\n",
      "  [0.61497724 0.63850665 0.8345851 ]\n",
      "  ...\n",
      "  [0.600709   0.6463498  0.84956235]\n",
      "  [0.6        0.64705884 0.8509804 ]\n",
      "  [0.6        0.64705884 0.8509804 ]]\n",
      "\n",
      " [[0.6156863  0.6392157  0.8352941 ]\n",
      "  [0.6156863  0.6392157  0.8352941 ]\n",
      "  [0.61497724 0.63850665 0.8345851 ]\n",
      "  ...\n",
      "  [0.60128987 0.64576894 0.84956235]\n",
      "  [0.600709   0.6463498  0.8509804 ]\n",
      "  [0.600709   0.6463498  0.8509804 ]]\n",
      "\n",
      " ...\n",
      "\n",
      " [[0.6124737  0.6392157  0.84313726]\n",
      "  [0.6124737  0.6392157  0.84313726]\n",
      "  [0.6124737  0.6392157  0.84313726]\n",
      "  ...\n",
      "  [0.6156863  0.63529414 0.8509804 ]\n",
      "  [0.6156863  0.63529414 0.8509804 ]\n",
      "  [0.6156863  0.63529414 0.8509804 ]]\n",
      "\n",
      " [[0.6117647  0.6392157  0.84313726]\n",
      "  [0.6117647  0.6392157  0.84313726]\n",
      "  [0.6117647  0.6392157  0.84313726]\n",
      "  ...\n",
      "  [0.6156863  0.63529414 0.8509804 ]\n",
      "  [0.6156863  0.63529414 0.8509804 ]\n",
      "  [0.6156863  0.63529414 0.8509804 ]]\n",
      "\n",
      " [[0.6117647  0.6392157  0.84313726]\n",
      "  [0.6117647  0.6392157  0.84313726]\n",
      "  [0.6117647  0.6392157  0.84313726]\n",
      "  ...\n",
      "  [0.6156863  0.63529414 0.8509804 ]\n",
      "  [0.6156863  0.63529414 0.8509804 ]\n",
      "  [0.6156863  0.63529414 0.8509804 ]]], shape=(224, 224, 3), dtype=float32)\n"
     ]
    }
   ],
   "source": [
    "print(x_test.shape)\n",
    "print(y_test.shape)\n",
    "print(input_shape)\n",
    "print(x_train[1])"
   ]
  },
  {
   "cell_type": "code",
   "execution_count": 48,
   "id": "22440148-0053-4a9b-bfb5-7334f54bdf7e",
   "metadata": {},
   "outputs": [
    {
     "name": "stdout",
     "output_type": "stream",
     "text": [
      "tf.Tensor([0. 0. 0. 0. 0. 0. 0. 1. 0. 0. 0. 0.], shape=(12,), dtype=float32)\n"
     ]
    }
   ],
   "source": [
    "print(y_test[0])"
   ]
  },
  {
   "cell_type": "code",
   "execution_count": 33,
   "id": "8feef144-2276-44f4-8ab5-1c95ffa0cada",
   "metadata": {
    "scrolled": true
   },
   "outputs": [
    {
     "name": "stdout",
     "output_type": "stream",
     "text": [
      "[]\n",
      "[]\n",
      "[]\n",
      "[]\n",
      "[]\n",
      "[]\n",
      "[]\n",
      "[]\n",
      "[]\n",
      "[]\n",
      "[]\n",
      "[]\n",
      "[]\n",
      "[]\n",
      "[]\n",
      "[]\n",
      "[]\n",
      "[]\n",
      "[]\n",
      "[]\n",
      "[]\n",
      "[]\n",
      "[]\n",
      "[]\n"
     ]
    },
    {
     "name": "stderr",
     "output_type": "stream",
     "text": [
      "2024-05-10 14:18:21.422673: W tensorflow/tsl/framework/bfc_allocator.cc:485] Allocator (GPU_0_bfc) ran out of memory trying to allocate 91.12MiB (rounded to 95551488)requested by op Mul\n",
      "If the cause is memory fragmentation maybe the environment variable 'TF_GPU_ALLOCATOR=cuda_malloc_async' will improve the situation. \n",
      "Current allocation summary follows.\n",
      "Current allocation summary follows.\n",
      "2024-05-10 14:18:21.422712: I tensorflow/tsl/framework/bfc_allocator.cc:1039] BFCAllocator dump for GPU_0_bfc\n",
      "2024-05-10 14:18:21.422723: I tensorflow/tsl/framework/bfc_allocator.cc:1046] Bin (256): \tTotal Chunks: 50, Chunks in use: 50. 12.5KiB allocated for chunks. 12.5KiB in use in bin. 2.0KiB client-requested in use in bin.\n",
      "2024-05-10 14:18:21.422730: I tensorflow/tsl/framework/bfc_allocator.cc:1046] Bin (512): \tTotal Chunks: 2, Chunks in use: 2. 1.0KiB allocated for chunks. 1.0KiB in use in bin. 1.0KiB client-requested in use in bin.\n",
      "2024-05-10 14:18:21.422737: I tensorflow/tsl/framework/bfc_allocator.cc:1046] Bin (1024): \tTotal Chunks: 3, Chunks in use: 3. 4.2KiB allocated for chunks. 4.2KiB in use in bin. 4.0KiB client-requested in use in bin.\n",
      "2024-05-10 14:18:21.422743: I tensorflow/tsl/framework/bfc_allocator.cc:1046] Bin (2048): \tTotal Chunks: 6, Chunks in use: 5. 18.8KiB allocated for chunks. 15.5KiB in use in bin. 15.1KiB client-requested in use in bin.\n",
      "2024-05-10 14:18:21.422750: I tensorflow/tsl/framework/bfc_allocator.cc:1046] Bin (4096): \tTotal Chunks: 1, Chunks in use: 0. 4.5KiB allocated for chunks. 0B in use in bin. 0B client-requested in use in bin.\n",
      "2024-05-10 14:18:21.422757: I tensorflow/tsl/framework/bfc_allocator.cc:1046] Bin (8192): \tTotal Chunks: 0, Chunks in use: 0. 0B allocated for chunks. 0B in use in bin. 0B client-requested in use in bin.\n",
      "2024-05-10 14:18:21.422763: I tensorflow/tsl/framework/bfc_allocator.cc:1046] Bin (16384): \tTotal Chunks: 1, Chunks in use: 0. 26.0KiB allocated for chunks. 0B in use in bin. 0B client-requested in use in bin.\n",
      "2024-05-10 14:18:21.422776: I tensorflow/tsl/framework/bfc_allocator.cc:1046] Bin (32768): \tTotal Chunks: 3, Chunks in use: 2. 99.8KiB allocated for chunks. 64.0KiB in use in bin. 64.0KiB client-requested in use in bin.\n",
      "2024-05-10 14:18:21.422783: I tensorflow/tsl/framework/bfc_allocator.cc:1046] Bin (65536): \tTotal Chunks: 3, Chunks in use: 3. 216.0KiB allocated for chunks. 216.0KiB in use in bin. 216.0KiB client-requested in use in bin.\n",
      "2024-05-10 14:18:21.422789: I tensorflow/tsl/framework/bfc_allocator.cc:1046] Bin (131072): \tTotal Chunks: 1, Chunks in use: 0. 144.0KiB allocated for chunks. 0B in use in bin. 0B client-requested in use in bin.\n",
      "2024-05-10 14:18:21.422795: I tensorflow/tsl/framework/bfc_allocator.cc:1046] Bin (262144): \tTotal Chunks: 0, Chunks in use: 0. 0B allocated for chunks. 0B in use in bin. 0B client-requested in use in bin.\n",
      "2024-05-10 14:18:21.422800: I tensorflow/tsl/framework/bfc_allocator.cc:1046] Bin (524288): \tTotal Chunks: 0, Chunks in use: 0. 0B allocated for chunks. 0B in use in bin. 0B client-requested in use in bin.\n",
      "2024-05-10 14:18:21.422806: I tensorflow/tsl/framework/bfc_allocator.cc:1046] Bin (1048576): \tTotal Chunks: 0, Chunks in use: 0. 0B allocated for chunks. 0B in use in bin. 0B client-requested in use in bin.\n",
      "2024-05-10 14:18:21.422811: I tensorflow/tsl/framework/bfc_allocator.cc:1046] Bin (2097152): \tTotal Chunks: 0, Chunks in use: 0. 0B allocated for chunks. 0B in use in bin. 0B client-requested in use in bin.\n",
      "2024-05-10 14:18:21.422819: I tensorflow/tsl/framework/bfc_allocator.cc:1046] Bin (4194304): \tTotal Chunks: 0, Chunks in use: 0. 0B allocated for chunks. 0B in use in bin. 0B client-requested in use in bin.\n",
      "2024-05-10 14:18:21.422824: I tensorflow/tsl/framework/bfc_allocator.cc:1046] Bin (8388608): \tTotal Chunks: 0, Chunks in use: 0. 0B allocated for chunks. 0B in use in bin. 0B client-requested in use in bin.\n",
      "2024-05-10 14:18:21.422831: I tensorflow/tsl/framework/bfc_allocator.cc:1046] Bin (16777216): \tTotal Chunks: 5, Chunks in use: 5. 91.88MiB allocated for chunks. 91.88MiB in use in bin. 91.88MiB client-requested in use in bin.\n",
      "2024-05-10 14:18:21.422839: I tensorflow/tsl/framework/bfc_allocator.cc:1046] Bin (33554432): \tTotal Chunks: 0, Chunks in use: 0. 0B allocated for chunks. 0B in use in bin. 0B client-requested in use in bin.\n",
      "2024-05-10 14:18:21.422847: I tensorflow/tsl/framework/bfc_allocator.cc:1046] Bin (67108864): \tTotal Chunks: 3, Chunks in use: 2. 273.30MiB allocated for chunks. 182.25MiB in use in bin. 182.25MiB client-requested in use in bin.\n",
      "2024-05-10 14:18:21.422853: I tensorflow/tsl/framework/bfc_allocator.cc:1046] Bin (134217728): \tTotal Chunks: 1, Chunks in use: 1. 141.18MiB allocated for chunks. 141.18MiB in use in bin. 91.12MiB client-requested in use in bin.\n",
      "2024-05-10 14:18:21.422859: I tensorflow/tsl/framework/bfc_allocator.cc:1046] Bin (268435456): \tTotal Chunks: 0, Chunks in use: 0. 0B allocated for chunks. 0B in use in bin. 0B client-requested in use in bin.\n",
      "2024-05-10 14:18:21.422866: I tensorflow/tsl/framework/bfc_allocator.cc:1062] Bin for 91.12MiB was 64.00MiB, Chunk State: \n",
      "2024-05-10 14:18:21.422880: I tensorflow/tsl/framework/bfc_allocator.cc:1068]   Size: 91.05MiB | Requested Size: 0B | in_use: 0 | bin_num: 18, prev:   Size: 72.0KiB | Requested Size: 72.0KiB | in_use: 1 | bin_num: -1, next:   Size: 91.12MiB | Requested Size: 91.12MiB | in_use: 1 | bin_num: -1\n",
      "2024-05-10 14:18:21.422886: I tensorflow/tsl/framework/bfc_allocator.cc:1075] Next region of size 531496960\n",
      "2024-05-10 14:18:21.422893: I tensorflow/tsl/framework/bfc_allocator.cc:1095] InUse at 7f32ac000000 of size 1280 next 1\n",
      "2024-05-10 14:18:21.422898: I tensorflow/tsl/framework/bfc_allocator.cc:1095] InUse at 7f32ac000500 of size 256 next 2\n",
      "2024-05-10 14:18:21.422903: I tensorflow/tsl/framework/bfc_allocator.cc:1095] InUse at 7f32ac000600 of size 256 next 3\n",
      "2024-05-10 14:18:21.422908: I tensorflow/tsl/framework/bfc_allocator.cc:1095] InUse at 7f32ac000700 of size 256 next 4\n",
      "2024-05-10 14:18:21.422914: I tensorflow/tsl/framework/bfc_allocator.cc:1095] InUse at 7f32ac000800 of size 256 next 5\n",
      "2024-05-10 14:18:21.422919: I tensorflow/tsl/framework/bfc_allocator.cc:1095] InUse at 7f32ac000900 of size 256 next 6\n",
      "2024-05-10 14:18:21.422924: I tensorflow/tsl/framework/bfc_allocator.cc:1095] InUse at 7f32ac000a00 of size 256 next 7\n",
      "2024-05-10 14:18:21.422930: I tensorflow/tsl/framework/bfc_allocator.cc:1095] InUse at 7f32ac000b00 of size 256 next 8\n",
      "2024-05-10 14:18:21.422935: I tensorflow/tsl/framework/bfc_allocator.cc:1095] InUse at 7f32ac000c00 of size 256 next 9\n",
      "2024-05-10 14:18:21.422940: I tensorflow/tsl/framework/bfc_allocator.cc:1095] InUse at 7f32ac000d00 of size 256 next 10\n",
      "2024-05-10 14:18:21.422945: I tensorflow/tsl/framework/bfc_allocator.cc:1095] InUse at 7f32ac000e00 of size 256 next 11\n",
      "2024-05-10 14:18:21.422950: I tensorflow/tsl/framework/bfc_allocator.cc:1095] InUse at 7f32ac000f00 of size 256 next 12\n",
      "2024-05-10 14:18:21.422954: I tensorflow/tsl/framework/bfc_allocator.cc:1095] InUse at 7f32ac001000 of size 256 next 13\n",
      "2024-05-10 14:18:21.422960: I tensorflow/tsl/framework/bfc_allocator.cc:1095] InUse at 7f32ac001100 of size 19267584 next 14\n",
      "2024-05-10 14:18:21.422967: I tensorflow/tsl/framework/bfc_allocator.cc:1095] InUse at 7f32ad261100 of size 1536 next 15\n",
      "2024-05-10 14:18:21.422972: I tensorflow/tsl/framework/bfc_allocator.cc:1095] InUse at 7f32ad261700 of size 256 next 16\n",
      "2024-05-10 14:18:21.422977: I tensorflow/tsl/framework/bfc_allocator.cc:1095] InUse at 7f32ad261800 of size 256 next 17\n",
      "2024-05-10 14:18:21.422982: I tensorflow/tsl/framework/bfc_allocator.cc:1095] InUse at 7f32ad261900 of size 19267584 next 18\n",
      "2024-05-10 14:18:21.422987: I tensorflow/tsl/framework/bfc_allocator.cc:1095] InUse at 7f32ae4c1900 of size 19267584 next 19\n",
      "2024-05-10 14:18:21.422992: I tensorflow/tsl/framework/bfc_allocator.cc:1095] InUse at 7f32af721900 of size 19267584 next 20\n",
      "2024-05-10 14:18:21.422997: I tensorflow/tsl/framework/bfc_allocator.cc:1095] InUse at 7f32b0981900 of size 256 next 21\n",
      "2024-05-10 14:18:21.423001: I tensorflow/tsl/framework/bfc_allocator.cc:1095] InUse at 7f32b0981a00 of size 19267584 next 22\n",
      "2024-05-10 14:18:21.423006: I tensorflow/tsl/framework/bfc_allocator.cc:1095] InUse at 7f32b1be1a00 of size 256 next 23\n",
      "2024-05-10 14:18:21.423012: I tensorflow/tsl/framework/bfc_allocator.cc:1095] InUse at 7f32b1be1b00 of size 1536 next 24\n",
      "2024-05-10 14:18:21.423017: I tensorflow/tsl/framework/bfc_allocator.cc:1095] InUse at 7f32b1be2100 of size 256 next 25\n",
      "2024-05-10 14:18:21.423022: I tensorflow/tsl/framework/bfc_allocator.cc:1095] InUse at 7f32b1be2200 of size 256 next 26\n",
      "2024-05-10 14:18:21.423027: I tensorflow/tsl/framework/bfc_allocator.cc:1095] InUse at 7f32b1be2300 of size 256 next 27\n",
      "2024-05-10 14:18:21.423032: I tensorflow/tsl/framework/bfc_allocator.cc:1095] InUse at 7f32b1be2400 of size 256 next 28\n",
      "2024-05-10 14:18:21.423037: I tensorflow/tsl/framework/bfc_allocator.cc:1095] InUse at 7f32b1be2500 of size 256 next 29\n",
      "2024-05-10 14:18:21.423041: I tensorflow/tsl/framework/bfc_allocator.cc:1095] InUse at 7f32b1be2600 of size 256 next 30\n",
      "2024-05-10 14:18:21.423046: I tensorflow/tsl/framework/bfc_allocator.cc:1095] InUse at 7f32b1be2700 of size 256 next 31\n",
      "2024-05-10 14:18:21.423052: I tensorflow/tsl/framework/bfc_allocator.cc:1095] InUse at 7f32b1be2800 of size 256 next 32\n",
      "2024-05-10 14:18:21.423057: I tensorflow/tsl/framework/bfc_allocator.cc:1095] InUse at 7f32b1be2900 of size 256 next 33\n",
      "2024-05-10 14:18:21.423062: I tensorflow/tsl/framework/bfc_allocator.cc:1095] InUse at 7f32b1be2a00 of size 256 next 34\n",
      "2024-05-10 14:18:21.423066: I tensorflow/tsl/framework/bfc_allocator.cc:1095] InUse at 7f32b1be2b00 of size 256 next 35\n",
      "2024-05-10 14:18:21.423071: I tensorflow/tsl/framework/bfc_allocator.cc:1095] InUse at 7f32b1be2c00 of size 256 next 36\n",
      "2024-05-10 14:18:21.423076: I tensorflow/tsl/framework/bfc_allocator.cc:1095] InUse at 7f32b1be2d00 of size 256 next 37\n",
      "2024-05-10 14:18:21.423080: I tensorflow/tsl/framework/bfc_allocator.cc:1095] InUse at 7f32b1be2e00 of size 256 next 39\n",
      "2024-05-10 14:18:21.423085: I tensorflow/tsl/framework/bfc_allocator.cc:1095] InUse at 7f32b1be2f00 of size 256 next 40\n",
      "2024-05-10 14:18:21.423090: I tensorflow/tsl/framework/bfc_allocator.cc:1095] InUse at 7f32b1be3000 of size 256 next 38\n",
      "2024-05-10 14:18:21.423095: I tensorflow/tsl/framework/bfc_allocator.cc:1095] InUse at 7f32b1be3100 of size 256 next 45\n",
      "2024-05-10 14:18:21.423099: I tensorflow/tsl/framework/bfc_allocator.cc:1095] InUse at 7f32b1be3200 of size 256 next 41\n",
      "2024-05-10 14:18:21.423104: I tensorflow/tsl/framework/bfc_allocator.cc:1095] InUse at 7f32b1be3300 of size 256 next 44\n",
      "2024-05-10 14:18:21.423109: I tensorflow/tsl/framework/bfc_allocator.cc:1095] InUse at 7f32b1be3400 of size 512 next 50\n",
      "2024-05-10 14:18:21.423114: I tensorflow/tsl/framework/bfc_allocator.cc:1095] InUse at 7f32b1be3600 of size 256 next 48\n",
      "2024-05-10 14:18:21.423118: I tensorflow/tsl/framework/bfc_allocator.cc:1095] InUse at 7f32b1be3700 of size 256 next 49\n",
      "2024-05-10 14:18:21.423123: I tensorflow/tsl/framework/bfc_allocator.cc:1095] InUse at 7f32b1be3800 of size 256 next 55\n",
      "2024-05-10 14:18:21.423128: I tensorflow/tsl/framework/bfc_allocator.cc:1095] InUse at 7f32b1be3900 of size 256 next 53\n",
      "2024-05-10 14:18:21.423134: I tensorflow/tsl/framework/bfc_allocator.cc:1095] InUse at 7f32b1be3a00 of size 256 next 54\n",
      "2024-05-10 14:18:21.423139: I tensorflow/tsl/framework/bfc_allocator.cc:1095] Free  at 7f32b1be3b00 of size 4608 next 42\n",
      "2024-05-10 14:18:21.423143: I tensorflow/tsl/framework/bfc_allocator.cc:1095] InUse at 7f32b1be4d00 of size 3584 next 43\n",
      "2024-05-10 14:18:21.423149: I tensorflow/tsl/framework/bfc_allocator.cc:1095] InUse at 7f32b1be5b00 of size 2560 next 73\n",
      "2024-05-10 14:18:21.423153: I tensorflow/tsl/framework/bfc_allocator.cc:1095] InUse at 7f32b1be6500 of size 3584 next 75\n",
      "2024-05-10 14:18:21.423159: I tensorflow/tsl/framework/bfc_allocator.cc:1095] Free  at 7f32b1be7300 of size 26624 next 72\n",
      "2024-05-10 14:18:21.423164: I tensorflow/tsl/framework/bfc_allocator.cc:1095] InUse at 7f32b1bedb00 of size 32768 next 57\n",
      "2024-05-10 14:18:21.423169: I tensorflow/tsl/framework/bfc_allocator.cc:1095] InUse at 7f32b1bf5b00 of size 32768 next 56\n",
      "2024-05-10 14:18:21.423174: I tensorflow/tsl/framework/bfc_allocator.cc:1095] InUse at 7f32b1bfdb00 of size 256 next 59\n",
      "2024-05-10 14:18:21.423179: I tensorflow/tsl/framework/bfc_allocator.cc:1095] InUse at 7f32b1bfdc00 of size 256 next 58\n",
      "2024-05-10 14:18:21.423184: I tensorflow/tsl/framework/bfc_allocator.cc:1095] InUse at 7f32b1bfdd00 of size 256 next 66\n",
      "2024-05-10 14:18:21.423189: I tensorflow/tsl/framework/bfc_allocator.cc:1095] InUse at 7f32b1bfde00 of size 512 next 60\n",
      "2024-05-10 14:18:21.423193: I tensorflow/tsl/framework/bfc_allocator.cc:1095] InUse at 7f32b1bfe000 of size 256 next 65\n",
      "2024-05-10 14:18:21.423198: I tensorflow/tsl/framework/bfc_allocator.cc:1095] InUse at 7f32b1bfe100 of size 256 next 69\n",
      "2024-05-10 14:18:21.423203: I tensorflow/tsl/framework/bfc_allocator.cc:1095] InUse at 7f32b1bfe200 of size 256 next 71\n",
      "2024-05-10 14:18:21.423207: I tensorflow/tsl/framework/bfc_allocator.cc:1095] InUse at 7f32b1bfe300 of size 256 next 77\n",
      "2024-05-10 14:18:21.423212: I tensorflow/tsl/framework/bfc_allocator.cc:1095] InUse at 7f32b1bfe400 of size 256 next 74\n",
      "2024-05-10 14:18:21.423217: I tensorflow/tsl/framework/bfc_allocator.cc:1095] InUse at 7f32b1bfe500 of size 256 next 61\n",
      "2024-05-10 14:18:21.423222: I tensorflow/tsl/framework/bfc_allocator.cc:1095] InUse at 7f32b1bfe600 of size 2560 next 62\n",
      "2024-05-10 14:18:21.423227: I tensorflow/tsl/framework/bfc_allocator.cc:1095] InUse at 7f32b1bff000 of size 256 next 76\n",
      "2024-05-10 14:18:21.423232: I tensorflow/tsl/framework/bfc_allocator.cc:1095] Free  at 7f32b1bff100 of size 3328 next 64\n",
      "2024-05-10 14:18:21.423237: I tensorflow/tsl/framework/bfc_allocator.cc:1095] InUse at 7f32b1bffe00 of size 3584 next 63\n",
      "2024-05-10 14:18:21.423242: I tensorflow/tsl/framework/bfc_allocator.cc:1095] Free  at 7f32b1c00c00 of size 36608 next 47\n",
      "2024-05-10 14:18:21.423247: I tensorflow/tsl/framework/bfc_allocator.cc:1095] InUse at 7f32b1c09b00 of size 73728 next 46\n",
      "2024-05-10 14:18:21.423252: I tensorflow/tsl/framework/bfc_allocator.cc:1095] InUse at 7f32b1c1bb00 of size 73728 next 78\n",
      "2024-05-10 14:18:21.423258: I tensorflow/tsl/framework/bfc_allocator.cc:1095] Free  at 7f32b1c2db00 of size 95477760 next 70\n",
      "2024-05-10 14:18:21.423264: I tensorflow/tsl/framework/bfc_allocator.cc:1095] InUse at 7f32b773bb00 of size 95551488 next 52\n",
      "2024-05-10 14:18:21.423270: I tensorflow/tsl/framework/bfc_allocator.cc:1095] InUse at 7f32bd25bb00 of size 95551488 next 51\n",
      "2024-05-10 14:18:21.423275: I tensorflow/tsl/framework/bfc_allocator.cc:1095] Free  at 7f32c2d7bb00 of size 147456 next 68\n",
      "2024-05-10 14:18:21.423280: I tensorflow/tsl/framework/bfc_allocator.cc:1095] InUse at 7f32c2d9fb00 of size 73728 next 67\n",
      "2024-05-10 14:18:21.423285: I tensorflow/tsl/framework/bfc_allocator.cc:1095] InUse at 7f32c2db1b00 of size 148038912 next 18446744073709551615\n",
      "2024-05-10 14:18:21.423290: I tensorflow/tsl/framework/bfc_allocator.cc:1100]      Summary of in-use Chunks by size: \n",
      "2024-05-10 14:18:21.423297: I tensorflow/tsl/framework/bfc_allocator.cc:1103] 50 Chunks of size 256 totalling 12.5KiB\n",
      "2024-05-10 14:18:21.423303: I tensorflow/tsl/framework/bfc_allocator.cc:1103] 2 Chunks of size 512 totalling 1.0KiB\n",
      "2024-05-10 14:18:21.423308: I tensorflow/tsl/framework/bfc_allocator.cc:1103] 1 Chunks of size 1280 totalling 1.2KiB\n",
      "2024-05-10 14:18:21.423314: I tensorflow/tsl/framework/bfc_allocator.cc:1103] 2 Chunks of size 1536 totalling 3.0KiB\n",
      "2024-05-10 14:18:21.423319: I tensorflow/tsl/framework/bfc_allocator.cc:1103] 2 Chunks of size 2560 totalling 5.0KiB\n",
      "2024-05-10 14:18:21.423328: I tensorflow/tsl/framework/bfc_allocator.cc:1103] 3 Chunks of size 3584 totalling 10.5KiB\n",
      "2024-05-10 14:18:21.423334: I tensorflow/tsl/framework/bfc_allocator.cc:1103] 2 Chunks of size 32768 totalling 64.0KiB\n",
      "2024-05-10 14:18:21.423339: I tensorflow/tsl/framework/bfc_allocator.cc:1103] 3 Chunks of size 73728 totalling 216.0KiB\n",
      "2024-05-10 14:18:21.423345: I tensorflow/tsl/framework/bfc_allocator.cc:1103] 5 Chunks of size 19267584 totalling 91.88MiB\n",
      "2024-05-10 14:18:21.423351: I tensorflow/tsl/framework/bfc_allocator.cc:1103] 2 Chunks of size 95551488 totalling 182.25MiB\n",
      "2024-05-10 14:18:21.423356: I tensorflow/tsl/framework/bfc_allocator.cc:1103] 1 Chunks of size 148038912 totalling 141.18MiB\n",
      "2024-05-10 14:18:21.423362: I tensorflow/tsl/framework/bfc_allocator.cc:1107] Sum Total of in-use chunks: 415.61MiB\n",
      "2024-05-10 14:18:21.423370: I tensorflow/tsl/framework/bfc_allocator.cc:1109] Total bytes in pool: 531496960 memory_limit_: 531496960 available bytes: 0 curr_region_allocation_bytes_: 1062993920\n",
      "2024-05-10 14:18:21.423379: I tensorflow/tsl/framework/bfc_allocator.cc:1114] Stats: \n",
      "Limit:                       531496960\n",
      "InUse:                       435800576\n",
      "MaxInUse:                    531237632\n",
      "NumAllocs:                         256\n",
      "MaxAllocSize:                148038912\n",
      "Reserved:                            0\n",
      "PeakReserved:                        0\n",
      "LargestFreeBlock:                    0\n",
      "\n",
      "2024-05-10 14:18:21.423389: W tensorflow/tsl/framework/bfc_allocator.cc:497] *******************_________________*******************************************************xxxxxxxxx\n",
      "2024-05-10 14:18:21.423407: W tensorflow/core/framework/op_kernel.cc:1827] RESOURCE_EXHAUSTED: failed to allocate memory\n"
     ]
    },
    {
     "ename": "ResourceExhaustedError",
     "evalue": "{{function_node __wrapped__Mul_device_/job:localhost/replica:0/task:0/device:GPU:0}} failed to allocate memory [Op:Mul] name: ",
     "output_type": "error",
     "traceback": [
      "\u001b[0;31m---------------------------------------------------------------------------\u001b[0m",
      "\u001b[0;31mResourceExhaustedError\u001b[0m                    Traceback (most recent call last)",
      "Cell \u001b[0;32mIn[33], line 9\u001b[0m\n\u001b[1;32m      6\u001b[0m te_pairs, te_y \u001b[38;5;241m=\u001b[39m create_pairs(x_test, digit_indices)\n\u001b[1;32m      8\u001b[0m \u001b[38;5;66;03m# network definition\u001b[39;00m\n\u001b[0;32m----> 9\u001b[0m base_network \u001b[38;5;241m=\u001b[39m \u001b[43mcreate_base_net\u001b[49m\u001b[43m(\u001b[49m\u001b[43minput_shape\u001b[49m\u001b[43m)\u001b[49m\n",
      "Cell \u001b[0;32mIn[11], line 10\u001b[0m, in \u001b[0;36mcreate_base_net\u001b[0;34m(input_shape)\u001b[0m\n\u001b[1;32m      8\u001b[0m x \u001b[38;5;241m=\u001b[39m Dropout(\u001b[38;5;241m0.25\u001b[39m)(x)\n\u001b[1;32m      9\u001b[0m x \u001b[38;5;241m=\u001b[39m Flatten()(x)\n\u001b[0;32m---> 10\u001b[0m x \u001b[38;5;241m=\u001b[39m \u001b[43mDense\u001b[49m\u001b[43m(\u001b[49m\u001b[38;5;241;43m128\u001b[39;49m\u001b[43m,\u001b[49m\u001b[43m \u001b[49m\u001b[43mactivation\u001b[49m\u001b[43m \u001b[49m\u001b[38;5;241;43m=\u001b[39;49m\u001b[43m \u001b[49m\u001b[38;5;124;43m'\u001b[39;49m\u001b[38;5;124;43mtanh\u001b[39;49m\u001b[38;5;124;43m'\u001b[39;49m\u001b[43m)\u001b[49m\u001b[43m(\u001b[49m\u001b[43mx\u001b[49m\u001b[43m)\u001b[49m\n\u001b[1;32m     11\u001b[0m x \u001b[38;5;241m=\u001b[39m Dropout(\u001b[38;5;241m0.5\u001b[39m)(x)\n\u001b[1;32m     12\u001b[0m x \u001b[38;5;241m=\u001b[39m Dense(\u001b[38;5;241m64\u001b[39m,activation \u001b[38;5;241m=\u001b[39m \u001b[38;5;124m'\u001b[39m\u001b[38;5;124mtanh\u001b[39m\u001b[38;5;124m'\u001b[39m)(x)\n",
      "File \u001b[0;32m~/.local/lib/python3.10/site-packages/keras/utils/traceback_utils.py:70\u001b[0m, in \u001b[0;36mfilter_traceback.<locals>.error_handler\u001b[0;34m(*args, **kwargs)\u001b[0m\n\u001b[1;32m     67\u001b[0m     filtered_tb \u001b[38;5;241m=\u001b[39m _process_traceback_frames(e\u001b[38;5;241m.\u001b[39m__traceback__)\n\u001b[1;32m     68\u001b[0m     \u001b[38;5;66;03m# To get the full stack trace, call:\u001b[39;00m\n\u001b[1;32m     69\u001b[0m     \u001b[38;5;66;03m# `tf.debugging.disable_traceback_filtering()`\u001b[39;00m\n\u001b[0;32m---> 70\u001b[0m     \u001b[38;5;28;01mraise\u001b[39;00m e\u001b[38;5;241m.\u001b[39mwith_traceback(filtered_tb) \u001b[38;5;28;01mfrom\u001b[39;00m \u001b[38;5;28;01mNone\u001b[39;00m\n\u001b[1;32m     71\u001b[0m \u001b[38;5;28;01mfinally\u001b[39;00m:\n\u001b[1;32m     72\u001b[0m     \u001b[38;5;28;01mdel\u001b[39;00m filtered_tb\n",
      "File \u001b[0;32m~/.local/lib/python3.10/site-packages/keras/backend.py:2101\u001b[0m, in \u001b[0;36mRandomGenerator.random_uniform\u001b[0;34m(self, shape, minval, maxval, dtype, nonce)\u001b[0m\n\u001b[1;32m   2099\u001b[0m     \u001b[38;5;28;01mif\u001b[39;00m nonce:\n\u001b[1;32m   2100\u001b[0m         seed \u001b[38;5;241m=\u001b[39m tf\u001b[38;5;241m.\u001b[39mrandom\u001b[38;5;241m.\u001b[39mexperimental\u001b[38;5;241m.\u001b[39mstateless_fold_in(seed, nonce)\n\u001b[0;32m-> 2101\u001b[0m     \u001b[38;5;28;01mreturn\u001b[39;00m \u001b[43mtf\u001b[49m\u001b[38;5;241;43m.\u001b[39;49m\u001b[43mrandom\u001b[49m\u001b[38;5;241;43m.\u001b[39;49m\u001b[43mstateless_uniform\u001b[49m\u001b[43m(\u001b[49m\n\u001b[1;32m   2102\u001b[0m \u001b[43m        \u001b[49m\u001b[43mshape\u001b[49m\u001b[38;5;241;43m=\u001b[39;49m\u001b[43mshape\u001b[49m\u001b[43m,\u001b[49m\n\u001b[1;32m   2103\u001b[0m \u001b[43m        \u001b[49m\u001b[43mminval\u001b[49m\u001b[38;5;241;43m=\u001b[39;49m\u001b[43mminval\u001b[49m\u001b[43m,\u001b[49m\n\u001b[1;32m   2104\u001b[0m \u001b[43m        \u001b[49m\u001b[43mmaxval\u001b[49m\u001b[38;5;241;43m=\u001b[39;49m\u001b[43mmaxval\u001b[49m\u001b[43m,\u001b[49m\n\u001b[1;32m   2105\u001b[0m \u001b[43m        \u001b[49m\u001b[43mdtype\u001b[49m\u001b[38;5;241;43m=\u001b[39;49m\u001b[43mdtype\u001b[49m\u001b[43m,\u001b[49m\n\u001b[1;32m   2106\u001b[0m \u001b[43m        \u001b[49m\u001b[43mseed\u001b[49m\u001b[38;5;241;43m=\u001b[39;49m\u001b[43mseed\u001b[49m\u001b[43m,\u001b[49m\n\u001b[1;32m   2107\u001b[0m \u001b[43m    \u001b[49m\u001b[43m)\u001b[49m\n\u001b[1;32m   2108\u001b[0m \u001b[38;5;28;01mreturn\u001b[39;00m tf\u001b[38;5;241m.\u001b[39mrandom\u001b[38;5;241m.\u001b[39muniform(\n\u001b[1;32m   2109\u001b[0m     shape\u001b[38;5;241m=\u001b[39mshape,\n\u001b[1;32m   2110\u001b[0m     minval\u001b[38;5;241m=\u001b[39mminval,\n\u001b[0;32m   (...)\u001b[0m\n\u001b[1;32m   2113\u001b[0m     seed\u001b[38;5;241m=\u001b[39m\u001b[38;5;28mself\u001b[39m\u001b[38;5;241m.\u001b[39mmake_legacy_seed(),\n\u001b[1;32m   2114\u001b[0m )\n",
      "\u001b[0;31mResourceExhaustedError\u001b[0m: {{function_node __wrapped__Mul_device_/job:localhost/replica:0/task:0/device:GPU:0}} failed to allocate memory [Op:Mul] name: "
     ]
    }
   ],
   "source": [
    "# create training+test positive and negative pairs\n",
    "digit_indices = [np.where(y_train == i)[0] for i in range(num_classes)]\n",
    "tr_pairs, tr_y = create_pairs(x_train, digit_indices)\n",
    "\n",
    "digit_indices = [np.where(y_test == i)[0] for i in range(num_classes)]\n",
    "te_pairs, te_y = create_pairs(x_test, digit_indices)\n",
    "\n",
    "# network definition\n",
    "base_network = create_base_net(input_shape)"
   ]
  },
  {
   "cell_type": "code",
   "execution_count": 21,
   "id": "5f2ecb87-6458-409b-ac2b-f94c04245638",
   "metadata": {},
   "outputs": [
    {
     "ename": "IndexError",
     "evalue": "index 1 is out of bounds for axis 0 with size 0",
     "output_type": "error",
     "traceback": [
      "\u001b[0;31m---------------------------------------------------------------------------\u001b[0m",
      "\u001b[0;31mIndexError\u001b[0m                                Traceback (most recent call last)",
      "Cell \u001b[0;32mIn[21], line 1\u001b[0m\n\u001b[0;32m----> 1\u001b[0m \u001b[43mtr_pairs\u001b[49m\u001b[43m[\u001b[49m\u001b[38;5;241;43m1\u001b[39;49m\u001b[43m]\u001b[49m\n",
      "\u001b[0;31mIndexError\u001b[0m: index 1 is out of bounds for axis 0 with size 0"
     ]
    }
   ],
   "source": [
    "tr_pairs[1]"
   ]
  },
  {
   "cell_type": "code",
   "execution_count": 17,
   "id": "eca80ef3-e292-4f6a-99ee-49468aa9d92e",
   "metadata": {},
   "outputs": [],
   "source": [
    "input_a = Input(shape=input_shape)\n",
    "input_b = Input(shape=input_shape)\n",
    "\n",
    "processed_a = base_network(input_a)\n",
    "processed_b = base_network(input_b)\n",
    "\n",
    "distance = Lambda(euclid_dis,\n",
    "                  output_shape=eucl_dist_output_shape)([processed_a, processed_b])\n",
    "\n",
    "model = Model([input_a, input_b], distance)"
   ]
  },
  {
   "cell_type": "code",
   "execution_count": 18,
   "id": "84490ae8-9038-4989-843a-902b638b146c",
   "metadata": {},
   "outputs": [
    {
     "ename": "IndexError",
     "evalue": "too many indices for array: array is 1-dimensional, but 2 were indexed",
     "output_type": "error",
     "traceback": [
      "\u001b[0;31m---------------------------------------------------------------------------\u001b[0m",
      "\u001b[0;31mIndexError\u001b[0m                                Traceback (most recent call last)",
      "Cell \u001b[0;32mIn[18], line 3\u001b[0m\n\u001b[1;32m      1\u001b[0m rms \u001b[38;5;241m=\u001b[39m RMSprop()\n\u001b[1;32m      2\u001b[0m model\u001b[38;5;241m.\u001b[39mcompile(loss\u001b[38;5;241m=\u001b[39mcontrastive_loss, optimizer\u001b[38;5;241m=\u001b[39mrms, metrics\u001b[38;5;241m=\u001b[39m[accuracy])\n\u001b[0;32m----> 3\u001b[0m model\u001b[38;5;241m.\u001b[39mfit([\u001b[43mtr_pairs\u001b[49m\u001b[43m[\u001b[49m\u001b[43m:\u001b[49m\u001b[43m,\u001b[49m\u001b[43m \u001b[49m\u001b[38;5;241;43m0\u001b[39;49m\u001b[43m]\u001b[49m, tr_pairs[:, \u001b[38;5;241m1\u001b[39m]], tr_y,\n\u001b[1;32m      4\u001b[0m           batch_size\u001b[38;5;241m=\u001b[39m\u001b[38;5;241m64\u001b[39m,\n\u001b[1;32m      5\u001b[0m           epochs\u001b[38;5;241m=\u001b[39mepochs,\n\u001b[1;32m      6\u001b[0m           validation_data\u001b[38;5;241m=\u001b[39m([te_pairs[:, \u001b[38;5;241m0\u001b[39m], te_pairs[:, \u001b[38;5;241m1\u001b[39m]], te_y))\n",
      "\u001b[0;31mIndexError\u001b[0m: too many indices for array: array is 1-dimensional, but 2 were indexed"
     ]
    }
   ],
   "source": [
    "rms = RMSprop()\n",
    "model.compile(loss=contrastive_loss, optimizer=rms, metrics=[accuracy])\n",
    "model.fit([tr_pairs[:, 0], tr_pairs[:, 1]], tr_y,\n",
    "          batch_size=64,\n",
    "          epochs=epochs,\n",
    "          validation_data=([te_pairs[:, 0], te_pairs[:, 1]], te_y))"
   ]
  }
 ],
 "metadata": {
  "kernelspec": {
   "display_name": "Python 3 (ipykernel)",
   "language": "python",
   "name": "python3"
  },
  "language_info": {
   "codemirror_mode": {
    "name": "ipython",
    "version": 3
   },
   "file_extension": ".py",
   "mimetype": "text/x-python",
   "name": "python",
   "nbconvert_exporter": "python",
   "pygments_lexer": "ipython3",
   "version": "3.10.12"
  }
 },
 "nbformat": 4,
 "nbformat_minor": 5
}
